{
 "cells": [
  {
   "cell_type": "code",
   "execution_count": null,
   "metadata": {},
   "outputs": [],
   "source": [
    "import numpy as np\n",
    "import pandas as pd\n",
    "import plotly.express as px\n",
    "from scipy import stats\n",
    "from sklearn.linear_model import LinearRegression"
   ]
  },
  {
   "cell_type": "code",
   "execution_count": null,
   "metadata": {},
   "outputs": [],
   "source": [
    "populationData = pd.read_csv(\"E:/Projects/python/EDA/GlobalMatrices/Population/population.csv\")"
   ]
  },
  {
   "cell_type": "markdown",
   "metadata": {},
   "source": [
    "#### Data Processing and Cleaning"
   ]
  },
  {
   "cell_type": "code",
   "execution_count": null,
   "metadata": {},
   "outputs": [],
   "source": [
    "# Checking if Our Data contain missing values\n",
    "\n",
    "def findMissing():\n",
    "    years =populationData['Year']\n",
    "    values = populationData['Population']\n",
    "    if years.isna().any() or values.isna().any():\n",
    "      years = years.fillna(method='ffill')\n",
    "      values = values.fillna(method='bfill')\n",
    "\n",
    "\n",
    "\n",
    "\n",
    "\n",
    "def detectOutliers(threshold=3):\n",
    "    years =populationData['Year']\n",
    "    values = populationData['Population']\n",
    "    yearsZScores = np.abs(stats.zscore(years))\n",
    "    valueZScores =np.abs(stats.zscore(values))\n",
    "    yOutliers = (yearsZScores > threshold)\n",
    "    vOutliers = ( valueZScores > threshold)\n",
    "    years[~yOutliers]\n",
    "    values[~vOutliers]\n",
    "\n",
    "findMissing()\n",
    "detectOutliers()\n",
    "\n",
    "# Format \n",
    "\n",
    "def formatNumber(n):\n",
    "    if n >= 1_000_000_000:  # Billions\n",
    "        return f\"{n / 1_000_000_000:.0f}B\"\n",
    "    elif n >= 1_000_000:  # Millions\n",
    "        return f\"{n / 1_000_000:.0f}M\"\n",
    "    elif n >= 100_000:  # Hundred Thousands\n",
    "        return f\"{n / 1_000:.0f}tK\"\n",
    "    elif n >= 1_000:  # Thousands\n",
    "        return f\"{n / 1_000:.0f}K\"\n",
    "    else:  # Less than 1,000\n",
    "        return n\n"
   ]
  },
  {
   "cell_type": "markdown",
   "metadata": {},
   "source": [
    "### Increase in the Population in after every 10 years across each county and Linear representation"
   ]
  },
  {
   "cell_type": "code",
   "execution_count": null,
   "metadata": {},
   "outputs": [],
   "source": [
    "# Ensuring Correct Columns\n",
    "\n",
    "\n",
    "\n",
    "\"\"\"\n",
    "\n",
    "tPC = Total Population Change\n",
    "fY = first Year\n",
    "lY = last Year\n",
    "\n",
    "\"\"\"\n",
    "\n",
    "populationData.columns = populationData.columns.str.strip()\n",
    "\n",
    "# Converting and ensuring to make it numeric\n",
    "populationData['Year'] = pd.to_numeric(populationData['Year'])\n",
    "\n",
    "# Total Population Increase\n",
    "fY = populationData[populationData['Year']==1960].set_index('Country Name')['Population']\n",
    "lY = populationData[populationData['Year']==2023].set_index('Country Name')['Population']\n",
    "\n",
    "\n",
    "tPC = pd.DataFrame({'Population-1960': fY, 'Population-2023': lY}).reset_index()\n",
    "\n",
    "\n",
    "# Total increase\n",
    "tPC['Total Increase'] = tPC['Population-2023'] - tPC['Population-1960']\n",
    "\n",
    "# Percentage Increase\n",
    "tPC['Growth Rate'] = (tPC['Total Increase'] / tPC['Population-1960'])\n",
    "\n",
    "\n",
    "\n",
    "\n",
    "# Formatting Data\n",
    "tPC['Growth Rate']= tPC['Growth Rate'].apply(lambda x: f\"{x:.1f}%\")\n",
    "\n",
    "\n",
    "\n",
    "print(\"\\nTotal Population Change (1960-2023):\")\n",
    "print(tPC)\n",
    "\n"
   ]
  },
  {
   "cell_type": "markdown",
   "metadata": {},
   "source": [
    "### Visualization"
   ]
  },
  {
   "cell_type": "code",
   "execution_count": 121,
   "metadata": {},
   "outputs": [
    {
     "data": {
      "application/vnd.plotly.v1+json": {
       "config": {
        "plotlyServerURL": "https://plot.ly"
       },
       "data": [
        {
         "hoverinfo": "x+y",
         "hovertemplate": "Predicted=False<br><b>Year</b>=%{x}<br><b>Population</b>=%{y}<extra></extra>",
         "legendgroup": "",
         "line": {
          "color": "#636efa",
          "dash": "solid"
         },
         "marker": {
          "symbol": "circle"
         },
         "mode": "lines+markers",
         "name": "",
         "orientation": "v",
         "showlegend": false,
         "type": "scatter",
         "x": {
          "bdata": "qAeyB7wHxgfQB9oH5AflB+YH5wc=",
          "dtype": "i2"
         },
         "xaxis": "x",
         "y": {
          "bdata": "AAAAAEDR6kAAAAAAwMjsQAAAAACgQO1AAAAAACCk7kAAAAAAwB32QAAAAADg3PhAAAAAALCC+kAAAAAAQEv6QAAAAADgMvpAAAAAAPA1+kA=",
          "dtype": "f8"
         },
         "yaxis": "y"
        },
        {
         "hoverinfo": "x+y",
         "hovertemplate": "Predicted=True<br><b>Year</b>=%{x}<br><b>Population</b>=%{y}<extra></extra>",
         "legendgroup": "",
         "line": {
          "color": "#636efa",
          "dash": "solid"
         },
         "marker": {
          "symbol": "circle"
         },
         "mode": "lines+markers",
         "name": "",
         "orientation": "v",
         "showlegend": false,
         "type": "scatter",
         "x": {
          "bdata": "6AfpB+oH6wfsB+0H7gc=",
          "dtype": "i2"
         },
         "xaxis": "x",
         "y": {
          "bdata": "0FdRCkHP+kDADXIERQz7QLDDkv5ISftAsHmz+EyG+0CgL9TyUMP7QJDl9OxUAPxAkJsV51g9/EA=",
          "dtype": "f8"
         },
         "yaxis": "y"
        }
       ],
       "layout": {
        "legend": {
         "tracegroupgap": 0
        },
        "template": {
         "data": {
          "bar": [
           {
            "error_x": {
             "color": "#2a3f5f"
            },
            "error_y": {
             "color": "#2a3f5f"
            },
            "marker": {
             "line": {
              "color": "#E5ECF6",
              "width": 0.5
             },
             "pattern": {
              "fillmode": "overlay",
              "size": 10,
              "solidity": 0.2
             }
            },
            "type": "bar"
           }
          ],
          "barpolar": [
           {
            "marker": {
             "line": {
              "color": "#E5ECF6",
              "width": 0.5
             },
             "pattern": {
              "fillmode": "overlay",
              "size": 10,
              "solidity": 0.2
             }
            },
            "type": "barpolar"
           }
          ],
          "carpet": [
           {
            "aaxis": {
             "endlinecolor": "#2a3f5f",
             "gridcolor": "white",
             "linecolor": "white",
             "minorgridcolor": "white",
             "startlinecolor": "#2a3f5f"
            },
            "baxis": {
             "endlinecolor": "#2a3f5f",
             "gridcolor": "white",
             "linecolor": "white",
             "minorgridcolor": "white",
             "startlinecolor": "#2a3f5f"
            },
            "type": "carpet"
           }
          ],
          "choropleth": [
           {
            "colorbar": {
             "outlinewidth": 0,
             "ticks": ""
            },
            "type": "choropleth"
           }
          ],
          "contour": [
           {
            "colorbar": {
             "outlinewidth": 0,
             "ticks": ""
            },
            "colorscale": [
             [
              0,
              "#0d0887"
             ],
             [
              0.1111111111111111,
              "#46039f"
             ],
             [
              0.2222222222222222,
              "#7201a8"
             ],
             [
              0.3333333333333333,
              "#9c179e"
             ],
             [
              0.4444444444444444,
              "#bd3786"
             ],
             [
              0.5555555555555556,
              "#d8576b"
             ],
             [
              0.6666666666666666,
              "#ed7953"
             ],
             [
              0.7777777777777778,
              "#fb9f3a"
             ],
             [
              0.8888888888888888,
              "#fdca26"
             ],
             [
              1,
              "#f0f921"
             ]
            ],
            "type": "contour"
           }
          ],
          "contourcarpet": [
           {
            "colorbar": {
             "outlinewidth": 0,
             "ticks": ""
            },
            "type": "contourcarpet"
           }
          ],
          "heatmap": [
           {
            "colorbar": {
             "outlinewidth": 0,
             "ticks": ""
            },
            "colorscale": [
             [
              0,
              "#0d0887"
             ],
             [
              0.1111111111111111,
              "#46039f"
             ],
             [
              0.2222222222222222,
              "#7201a8"
             ],
             [
              0.3333333333333333,
              "#9c179e"
             ],
             [
              0.4444444444444444,
              "#bd3786"
             ],
             [
              0.5555555555555556,
              "#d8576b"
             ],
             [
              0.6666666666666666,
              "#ed7953"
             ],
             [
              0.7777777777777778,
              "#fb9f3a"
             ],
             [
              0.8888888888888888,
              "#fdca26"
             ],
             [
              1,
              "#f0f921"
             ]
            ],
            "type": "heatmap"
           }
          ],
          "histogram": [
           {
            "marker": {
             "pattern": {
              "fillmode": "overlay",
              "size": 10,
              "solidity": 0.2
             }
            },
            "type": "histogram"
           }
          ],
          "histogram2d": [
           {
            "colorbar": {
             "outlinewidth": 0,
             "ticks": ""
            },
            "colorscale": [
             [
              0,
              "#0d0887"
             ],
             [
              0.1111111111111111,
              "#46039f"
             ],
             [
              0.2222222222222222,
              "#7201a8"
             ],
             [
              0.3333333333333333,
              "#9c179e"
             ],
             [
              0.4444444444444444,
              "#bd3786"
             ],
             [
              0.5555555555555556,
              "#d8576b"
             ],
             [
              0.6666666666666666,
              "#ed7953"
             ],
             [
              0.7777777777777778,
              "#fb9f3a"
             ],
             [
              0.8888888888888888,
              "#fdca26"
             ],
             [
              1,
              "#f0f921"
             ]
            ],
            "type": "histogram2d"
           }
          ],
          "histogram2dcontour": [
           {
            "colorbar": {
             "outlinewidth": 0,
             "ticks": ""
            },
            "colorscale": [
             [
              0,
              "#0d0887"
             ],
             [
              0.1111111111111111,
              "#46039f"
             ],
             [
              0.2222222222222222,
              "#7201a8"
             ],
             [
              0.3333333333333333,
              "#9c179e"
             ],
             [
              0.4444444444444444,
              "#bd3786"
             ],
             [
              0.5555555555555556,
              "#d8576b"
             ],
             [
              0.6666666666666666,
              "#ed7953"
             ],
             [
              0.7777777777777778,
              "#fb9f3a"
             ],
             [
              0.8888888888888888,
              "#fdca26"
             ],
             [
              1,
              "#f0f921"
             ]
            ],
            "type": "histogram2dcontour"
           }
          ],
          "mesh3d": [
           {
            "colorbar": {
             "outlinewidth": 0,
             "ticks": ""
            },
            "type": "mesh3d"
           }
          ],
          "parcoords": [
           {
            "line": {
             "colorbar": {
              "outlinewidth": 0,
              "ticks": ""
             }
            },
            "type": "parcoords"
           }
          ],
          "pie": [
           {
            "automargin": true,
            "type": "pie"
           }
          ],
          "scatter": [
           {
            "fillpattern": {
             "fillmode": "overlay",
             "size": 10,
             "solidity": 0.2
            },
            "type": "scatter"
           }
          ],
          "scatter3d": [
           {
            "line": {
             "colorbar": {
              "outlinewidth": 0,
              "ticks": ""
             }
            },
            "marker": {
             "colorbar": {
              "outlinewidth": 0,
              "ticks": ""
             }
            },
            "type": "scatter3d"
           }
          ],
          "scattercarpet": [
           {
            "marker": {
             "colorbar": {
              "outlinewidth": 0,
              "ticks": ""
             }
            },
            "type": "scattercarpet"
           }
          ],
          "scattergeo": [
           {
            "marker": {
             "colorbar": {
              "outlinewidth": 0,
              "ticks": ""
             }
            },
            "type": "scattergeo"
           }
          ],
          "scattergl": [
           {
            "marker": {
             "colorbar": {
              "outlinewidth": 0,
              "ticks": ""
             }
            },
            "type": "scattergl"
           }
          ],
          "scattermap": [
           {
            "marker": {
             "colorbar": {
              "outlinewidth": 0,
              "ticks": ""
             }
            },
            "type": "scattermap"
           }
          ],
          "scattermapbox": [
           {
            "marker": {
             "colorbar": {
              "outlinewidth": 0,
              "ticks": ""
             }
            },
            "type": "scattermapbox"
           }
          ],
          "scatterpolar": [
           {
            "marker": {
             "colorbar": {
              "outlinewidth": 0,
              "ticks": ""
             }
            },
            "type": "scatterpolar"
           }
          ],
          "scatterpolargl": [
           {
            "marker": {
             "colorbar": {
              "outlinewidth": 0,
              "ticks": ""
             }
            },
            "type": "scatterpolargl"
           }
          ],
          "scatterternary": [
           {
            "marker": {
             "colorbar": {
              "outlinewidth": 0,
              "ticks": ""
             }
            },
            "type": "scatterternary"
           }
          ],
          "surface": [
           {
            "colorbar": {
             "outlinewidth": 0,
             "ticks": ""
            },
            "colorscale": [
             [
              0,
              "#0d0887"
             ],
             [
              0.1111111111111111,
              "#46039f"
             ],
             [
              0.2222222222222222,
              "#7201a8"
             ],
             [
              0.3333333333333333,
              "#9c179e"
             ],
             [
              0.4444444444444444,
              "#bd3786"
             ],
             [
              0.5555555555555556,
              "#d8576b"
             ],
             [
              0.6666666666666666,
              "#ed7953"
             ],
             [
              0.7777777777777778,
              "#fb9f3a"
             ],
             [
              0.8888888888888888,
              "#fdca26"
             ],
             [
              1,
              "#f0f921"
             ]
            ],
            "type": "surface"
           }
          ],
          "table": [
           {
            "cells": {
             "fill": {
              "color": "#EBF0F8"
             },
             "line": {
              "color": "white"
             }
            },
            "header": {
             "fill": {
              "color": "#C8D4E3"
             },
             "line": {
              "color": "white"
             }
            },
            "type": "table"
           }
          ]
         },
         "layout": {
          "annotationdefaults": {
           "arrowcolor": "#2a3f5f",
           "arrowhead": 0,
           "arrowwidth": 1
          },
          "autotypenumbers": "strict",
          "coloraxis": {
           "colorbar": {
            "outlinewidth": 0,
            "ticks": ""
           }
          },
          "colorscale": {
           "diverging": [
            [
             0,
             "#8e0152"
            ],
            [
             0.1,
             "#c51b7d"
            ],
            [
             0.2,
             "#de77ae"
            ],
            [
             0.3,
             "#f1b6da"
            ],
            [
             0.4,
             "#fde0ef"
            ],
            [
             0.5,
             "#f7f7f7"
            ],
            [
             0.6,
             "#e6f5d0"
            ],
            [
             0.7,
             "#b8e186"
            ],
            [
             0.8,
             "#7fbc41"
            ],
            [
             0.9,
             "#4d9221"
            ],
            [
             1,
             "#276419"
            ]
           ],
           "sequential": [
            [
             0,
             "#0d0887"
            ],
            [
             0.1111111111111111,
             "#46039f"
            ],
            [
             0.2222222222222222,
             "#7201a8"
            ],
            [
             0.3333333333333333,
             "#9c179e"
            ],
            [
             0.4444444444444444,
             "#bd3786"
            ],
            [
             0.5555555555555556,
             "#d8576b"
            ],
            [
             0.6666666666666666,
             "#ed7953"
            ],
            [
             0.7777777777777778,
             "#fb9f3a"
            ],
            [
             0.8888888888888888,
             "#fdca26"
            ],
            [
             1,
             "#f0f921"
            ]
           ],
           "sequentialminus": [
            [
             0,
             "#0d0887"
            ],
            [
             0.1111111111111111,
             "#46039f"
            ],
            [
             0.2222222222222222,
             "#7201a8"
            ],
            [
             0.3333333333333333,
             "#9c179e"
            ],
            [
             0.4444444444444444,
             "#bd3786"
            ],
            [
             0.5555555555555556,
             "#d8576b"
            ],
            [
             0.6666666666666666,
             "#ed7953"
            ],
            [
             0.7777777777777778,
             "#fb9f3a"
            ],
            [
             0.8888888888888888,
             "#fdca26"
            ],
            [
             1,
             "#f0f921"
            ]
           ]
          },
          "colorway": [
           "#636efa",
           "#EF553B",
           "#00cc96",
           "#ab63fa",
           "#FFA15A",
           "#19d3f3",
           "#FF6692",
           "#B6E880",
           "#FF97FF",
           "#FECB52"
          ],
          "font": {
           "color": "#2a3f5f"
          },
          "geo": {
           "bgcolor": "white",
           "lakecolor": "white",
           "landcolor": "#E5ECF6",
           "showlakes": true,
           "showland": true,
           "subunitcolor": "white"
          },
          "hoverlabel": {
           "align": "left"
          },
          "hovermode": "closest",
          "mapbox": {
           "style": "light"
          },
          "paper_bgcolor": "white",
          "plot_bgcolor": "#E5ECF6",
          "polar": {
           "angularaxis": {
            "gridcolor": "white",
            "linecolor": "white",
            "ticks": ""
           },
           "bgcolor": "#E5ECF6",
           "radialaxis": {
            "gridcolor": "white",
            "linecolor": "white",
            "ticks": ""
           }
          },
          "scene": {
           "xaxis": {
            "backgroundcolor": "#E5ECF6",
            "gridcolor": "white",
            "gridwidth": 2,
            "linecolor": "white",
            "showbackground": true,
            "ticks": "",
            "zerolinecolor": "white"
           },
           "yaxis": {
            "backgroundcolor": "#E5ECF6",
            "gridcolor": "white",
            "gridwidth": 2,
            "linecolor": "white",
            "showbackground": true,
            "ticks": "",
            "zerolinecolor": "white"
           },
           "zaxis": {
            "backgroundcolor": "#E5ECF6",
            "gridcolor": "white",
            "gridwidth": 2,
            "linecolor": "white",
            "showbackground": true,
            "ticks": "",
            "zerolinecolor": "white"
           }
          },
          "shapedefaults": {
           "line": {
            "color": "#2a3f5f"
           }
          },
          "ternary": {
           "aaxis": {
            "gridcolor": "white",
            "linecolor": "white",
            "ticks": ""
           },
           "baxis": {
            "gridcolor": "white",
            "linecolor": "white",
            "ticks": ""
           },
           "bgcolor": "#E5ECF6",
           "caxis": {
            "gridcolor": "white",
            "linecolor": "white",
            "ticks": ""
           }
          },
          "title": {
           "x": 0.05
          },
          "xaxis": {
           "automargin": true,
           "gridcolor": "white",
           "linecolor": "white",
           "ticks": "",
           "title": {
            "standoff": 15
           },
           "zerolinecolor": "white",
           "zerolinewidth": 2
          },
          "yaxis": {
           "automargin": true,
           "gridcolor": "white",
           "linecolor": "white",
           "ticks": "",
           "title": {
            "standoff": 15
           },
           "zerolinecolor": "white",
           "zerolinewidth": 2
          }
         }
        },
        "title": {
         "text": "<b>Population of Aruba</b>",
         "x": 0.5,
         "xanchor": "center"
        },
        "updatemenus": [
         {
          "buttons": [
           {
            "args": [
             {
              "marker": [
               {
                "color": [
                 "blue",
                 "blue",
                 "blue",
                 "blue",
                 "blue",
                 "blue",
                 "blue",
                 "blue",
                 "blue",
                 "blue",
                 "red",
                 "red",
                 "red",
                 "red",
                 "red",
                 "red",
                 "red"
                ]
               }
              ],
              "x": [
               [
                1960,
                1970,
                1980,
                1990,
                2000,
                2010,
                2020,
                2021,
                2022,
                2023,
                2024,
                2025,
                2026,
                2027,
                2028,
                2029,
                2030
               ]
              ],
              "y": [
               [
                54922,
                58950,
                59909,
                62753,
                90588,
                101838,
                108587,
                107700,
                107310,
                107359,
                109812.065018981,
                110788.3135853326,
                111764.5621516842,
                112740.81071803602,
                113717.05928438762,
                114693.30785073922,
                115669.55641709105
               ]
              ]
             },
             {
              "title": "<b>Population of Aruba</b>",
              "title_text": "<b>Population of Aruba</b>"
             }
            ],
            "label": "Aruba",
            "method": "update"
           },
           {
            "args": [
             {
              "marker": [
               {
                "color": [
                 "blue",
                 "blue",
                 "blue",
                 "blue",
                 "blue",
                 "blue",
                 "blue",
                 "blue",
                 "blue",
                 "blue",
                 "red",
                 "red",
                 "red",
                 "red",
                 "red",
                 "red",
                 "red"
                ]
               }
              ],
              "x": [
               [
                1960,
                1970,
                1980,
                1990,
                2000,
                2010,
                2020,
                2021,
                2022,
                2023,
                2024,
                2025,
                2026,
                2027,
                2028,
                2029,
                2030
               ]
              ],
              "y": [
               [
                130072080,
                171984985,
                230792729,
                311748681,
                406156661,
                530308387,
                694446100,
                713090928,
                731821393,
                750503764,
                719848510.6975212,
                730207360.6933212,
                740566210.6891212,
                750925060.6849213,
                761283910.6807213,
                771642760.6765213,
                782001610.6723213
               ]
              ]
             },
             {
              "title": "<b>Population of Africa Eastern and Southern</b>",
              "title_text": "<b>Population of Africa Eastern and Southern</b>"
             }
            ],
            "label": "Africa Eastern and Southern",
            "method": "update"
           },
           {
            "args": [
             {
              "marker": [
               {
                "color": [
                 "blue",
                 "blue",
                 "blue",
                 "blue",
                 "blue",
                 "blue",
                 "blue",
                 "blue",
                 "blue",
                 "blue",
                 "red",
                 "red",
                 "red",
                 "red",
                 "red",
                 "red",
                 "red"
                ]
               }
              ],
              "x": [
               [
                1960,
                1970,
                1980,
                1990,
                2000,
                2010,
                2020,
                2021,
                2022,
                2023,
                2024,
                2025,
                2026,
                2027,
                2028,
                2029,
                2030
               ]
              ],
              "y": [
               [
                9035043,
                11290128,
                13169311,
                12045660,
                20130327,
                28284089,
                39068979,
                40000412,
                40578842,
                41454761,
                39145878.38696408,
                39704899.82905269,
                40263921.27114153,
                40822942.71323013,
                41381964.15531874,
                41940985.59740758,
                42500007.03949618
               ]
              ]
             },
             {
              "title": "<b>Population of Afghanistan</b>",
              "title_text": "<b>Population of Afghanistan</b>"
             }
            ],
            "label": "Afghanistan",
            "method": "update"
           },
           {
            "args": [
             {
              "marker": [
               {
                "color": [
                 "blue",
                 "blue",
                 "blue",
                 "blue",
                 "blue",
                 "blue",
                 "blue",
                 "blue",
                 "blue",
                 "blue",
                 "red",
                 "red",
                 "red",
                 "red",
                 "red",
                 "red",
                 "red"
                ]
               }
              ],
              "x": [
               [
                1960,
                1970,
                1980,
                1990,
                2000,
                2010,
                2020,
                2021,
                2022,
                2023,
                2024,
                2025,
                2026,
                2027,
                2028,
                2029,
                2030
               ]
              ],
              "y": [
               [
                97630925,
                122086536,
                159166518,
                209566031,
                274968446,
                364358270,
                474569351,
                485920997,
                497387180,
                509398589,
                489134620.1067352,
                496086642.0660286,
                503038664.02532005,
                509990685.9846134,
                516942707.9439049,
                523894729.90319824,
                530846751.8624897
               ]
              ]
             },
             {
              "title": "<b>Population of Africa Western and Central</b>",
              "title_text": "<b>Population of Africa Western and Central</b>"
             }
            ],
            "label": "Africa Western and Central",
            "method": "update"
           },
           {
            "args": [
             {
              "marker": [
               {
                "color": [
                 "blue",
                 "blue",
                 "blue",
                 "blue",
                 "blue",
                 "blue",
                 "blue",
                 "blue",
                 "blue",
                 "blue",
                 "red",
                 "red",
                 "red",
                 "red",
                 "red",
                 "red",
                 "red"
                ]
               }
              ],
              "x": [
               [
                1960,
                1970,
                1980,
                1990,
                2000,
                2010,
                2020,
                2021,
                2022,
                2023,
                2024,
                2025,
                2026,
                2027,
                2028,
                2029,
                2030
               ]
              ],
              "y": [
               [
                5231654,
                5852788,
                8133872,
                11626360,
                16194869,
                23294825,
                33451132,
                34532429,
                35635029,
                36749906,
                34258922.335433125,
                34799440.20163953,
                35339958.0678457,
                35880475.93405211,
                36420993.80025828,
                36961511.66646469,
                37502029.532670856
               ]
              ]
             },
             {
              "title": "<b>Population of Angola</b>",
              "title_text": "<b>Population of Angola</b>"
             }
            ],
            "label": "Angola",
            "method": "update"
           },
           {
            "args": [
             {
              "marker": [
               {
                "color": [
                 "blue",
                 "blue",
                 "blue",
                 "blue",
                 "blue",
                 "blue",
                 "blue",
                 "blue",
                 "blue",
                 "blue",
                 "red",
                 "red",
                 "red",
                 "red",
                 "red",
                 "red",
                 "red"
                ]
               }
              ],
              "x": [
               [
                1960,
                1970,
                1980,
                1990,
                2000,
                2010,
                2020,
                2021,
                2022,
                2023,
                2024,
                2025,
                2026,
                2027,
                2028,
                2029,
                2030
               ]
              ],
              "y": [
               [
                1608800,
                2135479,
                2671997,
                3286542,
                3089027,
                2913021,
                2837849,
                2811666,
                2777689,
                2745972,
                3009177.173491642,
                3022348.196995396,
                3035519.2204991505,
                3048690.2440029085,
                3061861.2675066628,
                3075032.291010421,
                3088203.314514175
               ]
              ]
             },
             {
              "title": "<b>Population of Albania</b>",
              "title_text": "<b>Population of Albania</b>"
             }
            ],
            "label": "Albania",
            "method": "update"
           },
           {
            "args": [
             {
              "marker": [
               {
                "color": [
                 "blue",
                 "blue",
                 "blue",
                 "blue",
                 "blue",
                 "blue",
                 "blue",
                 "blue",
                 "blue",
                 "blue",
                 "red",
                 "red",
                 "red",
                 "red",
                 "red",
                 "red",
                 "red"
                ]
               }
              ],
              "x": [
               [
                1960,
                1970,
                1980,
                1990,
                2000,
                2010,
                2020,
                2021,
                2022,
                2023,
                2024,
                2025,
                2026,
                2027,
                2028,
                2029,
                2030
               ]
              ],
              "y": [
               [
                9510,
                19977,
                35782,
                52597,
                65685,
                80706,
                77380,
                78364,
                79705,
                80856,
                85767.11307648849,
                86902.80623536091,
                88038.49939423334,
                89174.19255310576,
                90309.88571197819,
                91445.57887085062,
                92581.27202972304
               ]
              ]
             },
             {
              "title": "<b>Population of Andorra</b>",
              "title_text": "<b>Population of Andorra</b>"
             }
            ],
            "label": "Andorra",
            "method": "update"
           },
           {
            "args": [
             {
              "marker": [
               {
                "color": [
                 "blue",
                 "blue",
                 "blue",
                 "blue",
                 "blue",
                 "blue",
                 "blue",
                 "blue",
                 "blue",
                 "blue",
                 "red",
                 "red",
                 "red",
                 "red",
                 "red",
                 "red",
                 "red"
                ]
               }
              ],
              "x": [
               [
                1960,
                1970,
                1980,
                1990,
                2000,
                2010,
                2020,
                2021,
                2022,
                2023,
                2024,
                2025,
                2026,
                2027,
                2028,
                2029,
                2030
               ]
              ],
              "y": [
               [
                91540853,
                120469263,
                164657321,
                223184294,
                286548096,
                363568534,
                453723239,
                460646603,
                471352066,
                481667539,
                470766734.0749531,
                477284396.0944176,
                483802058.113884,
                490319720.13334846,
                496837382.15281296,
                503355044.17227936,
                509872706.19174385
               ]
              ]
             },
             {
              "title": "<b>Population of Arab World</b>",
              "title_text": "<b>Population of Arab World</b>"
             }
            ],
            "label": "Arab World",
            "method": "update"
           },
           {
            "args": [
             {
              "marker": [
               {
                "color": [
                 "blue",
                 "blue",
                 "blue",
                 "blue",
                 "blue",
                 "blue",
                 "blue",
                 "blue",
                 "blue",
                 "blue",
                 "red",
                 "red",
                 "red",
                 "red",
                 "red",
                 "red",
                 "red"
                ]
               }
              ],
              "x": [
               [
                1960,
                1970,
                1980,
                1990,
                2000,
                2010,
                2020,
                2021,
                2022,
                2023,
                2024,
                2025,
                2026,
                2027,
                2028,
                2029,
                2030
               ]
              ],
              "y": [
               [
                131334,
                286536,
                1015700,
                1898220,
                3493575,
                6869838,
                9401038,
                9575152,
                10074977,
                10483751,
                9701647.909013867,
                9881100.196268499,
                10060552.48352319,
                10240004.770777822,
                10419457.058032513,
                10598909.345287204,
                10778361.632541835
               ]
              ]
             },
             {
              "title": "<b>Population of United Arab Emirates</b>",
              "title_text": "<b>Population of United Arab Emirates</b>"
             }
            ],
            "label": "United Arab Emirates",
            "method": "update"
           },
           {
            "args": [
             {
              "marker": [
               {
                "color": [
                 "blue",
                 "blue",
                 "blue",
                 "blue",
                 "blue",
                 "blue",
                 "blue",
                 "blue",
                 "blue",
                 "blue",
                 "red",
                 "red",
                 "red",
                 "red",
                 "red",
                 "red",
                 "red"
                ]
               }
              ],
              "x": [
               [
                1960,
                1970,
                1980,
                1990,
                2000,
                2010,
                2020,
                2021,
                2022,
                2023,
                2024,
                2025,
                2026,
                2027,
                2028,
                2029,
                2030
               ]
              ],
              "y": [
               [
                20386045,
                23878327,
                28011596,
                32755901,
                37213984,
                41288694,
                45191965,
                45312281,
                45407904,
                45538401,
                46554581.02390766,
                46966715.090461135,
                47378849.15701473,
                47790983.22356832,
                48203117.29012191,
                48615251.356675506,
                49027385.4232291
               ]
              ]
             },
             {
              "title": "<b>Population of Argentina</b>",
              "title_text": "<b>Population of Argentina</b>"
             }
            ],
            "label": "Argentina",
            "method": "update"
           },
           {
            "args": [
             {
              "marker": [
               {
                "color": [
                 "blue",
                 "blue",
                 "blue",
                 "blue",
                 "blue",
                 "blue",
                 "blue",
                 "blue",
                 "blue",
                 "blue",
                 "red",
                 "red",
                 "red",
                 "red",
                 "red",
                 "red",
                 "red"
                ]
               }
              ],
              "x": [
               [
                1960,
                1970,
                1980,
                1990,
                2000,
                2010,
                2020,
                2021,
                2022,
                2023,
                2024,
                2025,
                2026,
                2027,
                2028,
                2029,
                2030
               ]
              ],
              "y": [
               [
                1863705,
                2475633,
                3107415,
                3552128,
                3221100,
                3044800,
                2961500,
                2962300,
                2969200,
                2990900,
                3166988.1425167583,
                3177320.9311444946,
                3187653.719772231,
                3197986.508399967,
                3208319.2970277034,
                3218652.0856554396,
                3228984.874283176
               ]
              ]
             },
             {
              "title": "<b>Population of Armenia</b>",
              "title_text": "<b>Population of Armenia</b>"
             }
            ],
            "label": "Armenia",
            "method": "update"
           },
           {
            "args": [
             {
              "marker": [
               {
                "color": [
                 "blue",
                 "blue",
                 "blue",
                 "blue",
                 "blue",
                 "blue",
                 "blue",
                 "blue",
                 "blue",
                 "blue",
                 "red",
                 "red",
                 "red",
                 "red",
                 "red",
                 "red",
                 "red"
                ]
               }
              ],
              "x": [
               [
                1960,
                1970,
                1980,
                1990,
                2000,
                2010,
                2020,
                2021,
                2022,
                2023,
                2024,
                2025,
                2026,
                2027,
                2028,
                2029,
                2030
               ]
              ],
              "y": [
               [
                20133,
                27026,
                32403,
                46640,
                56855,
                55228,
                49761,
                49225,
                48342,
                47521,
                54056.14788789279,
                54496.4244406753,
                54936.70099345781,
                55376.97754624032,
                55817.25409902283,
                56257.530651805224,
                56697.807204587734
               ]
              ]
             },
             {
              "title": "<b>Population of American Samoa</b>",
              "title_text": "<b>Population of American Samoa</b>"
             }
            ],
            "label": "American Samoa",
            "method": "update"
           },
           {
            "args": [
             {
              "marker": [
               {
                "color": [
                 "blue",
                 "blue",
                 "blue",
                 "blue",
                 "blue",
                 "blue",
                 "blue",
                 "blue",
                 "blue",
                 "blue",
                 "red",
                 "red",
                 "red",
                 "red",
                 "red",
                 "red",
                 "red"
                ]
               }
              ],
              "x": [
               [
                1960,
                1970,
                1980,
                1990,
                2000,
                2010,
                2020,
                2021,
                2022,
                2023,
                2024,
                2025,
                2026,
                2027,
                2028,
                2029,
                2030
               ]
              ],
              "y": [
               [
                55603,
                64528,
                64513,
                63066,
                74912,
                85320,
                91846,
                92349,
                92840,
                93316,
                92849.62842258299,
                93465.2156530167,
                94080.80288345041,
                94696.39011388412,
                95311.97734431783,
                95927.56457475154,
                96543.15180518548
               ]
              ]
             },
             {
              "title": "<b>Population of Antigua and Barbuda</b>",
              "title_text": "<b>Population of Antigua and Barbuda</b>"
             }
            ],
            "label": "Antigua and Barbuda",
            "method": "update"
           },
           {
            "args": [
             {
              "marker": [
               {
                "color": [
                 "blue",
                 "blue",
                 "blue",
                 "blue",
                 "blue",
                 "blue",
                 "blue",
                 "blue",
                 "blue",
                 "blue",
                 "red",
                 "red",
                 "red",
                 "red",
                 "red",
                 "red",
                 "red"
                ]
               }
              ],
              "x": [
               [
                1960,
                1970,
                1980,
                1990,
                2000,
                2010,
                2020,
                2021,
                2022,
                2023,
                2024,
                2025,
                2026,
                2027,
                2028,
                2029,
                2030
               ]
              ],
              "y": [
               [
                10276477,
                12507000,
                14692000,
                17065128,
                19028802,
                22031750,
                25649248,
                25685412,
                26014399,
                26658948,
                26303083.589693844,
                26563008.474517405,
                26822933.359340906,
                27082858.244164407,
                27342783.128987968,
                27602708.01381147,
                27862632.89863497
               ]
              ]
             },
             {
              "title": "<b>Population of Australia</b>",
              "title_text": "<b>Population of Australia</b>"
             }
            ],
            "label": "Australia",
            "method": "update"
           },
           {
            "args": [
             {
              "marker": [
               {
                "color": [
                 "blue",
                 "blue",
                 "blue",
                 "blue",
                 "blue",
                 "blue",
                 "blue",
                 "blue",
                 "blue",
                 "blue",
                 "red",
                 "red",
                 "red",
                 "red",
                 "red",
                 "red",
                 "red"
                ]
               }
              ],
              "x": [
               [
                1960,
                1970,
                1980,
                1990,
                2000,
                2010,
                2020,
                2021,
                2022,
                2023,
                2024,
                2025,
                2026,
                2027,
                2028,
                2029,
                2030
               ]
              ],
              "y": [
               [
                7047539,
                7467086,
                7549433,
                7677850,
                8011566,
                8363404,
                8916864,
                8955797,
                9041851,
                9131761,
                8995644.13532833,
                9027583.849890962,
                9059523.564453602,
                9091463.279016234,
                9123402.993578874,
                9155342.708141506,
                9187282.422704145
               ]
              ]
             },
             {
              "title": "<b>Population of Austria</b>",
              "title_text": "<b>Population of Austria</b>"
             }
            ],
            "label": "Austria",
            "method": "update"
           },
           {
            "args": [
             {
              "marker": [
               {
                "color": [
                 "blue",
                 "blue",
                 "blue",
                 "blue",
                 "blue",
                 "blue",
                 "blue",
                 "blue",
                 "blue",
                 "blue",
                 "red",
                 "red",
                 "red",
                 "red",
                 "red",
                 "red",
                 "red"
                ]
               }
              ],
              "x": [
               [
                1960,
                1970,
                1980,
                1990,
                2000,
                2010,
                2020,
                2021,
                2022,
                2023,
                2024,
                2025,
                2026,
                2027,
                2028,
                2029,
                2030
               ]
              ],
              "y": [
               [
                3894500,
                5172050,
                6160500,
                7175200,
                8048600,
                9054332,
                10093121,
                10137750,
                10141756,
                10153958,
                10407837.804175764,
                10506389.488773137,
                10604941.17337048,
                10703492.857967854,
                10802044.542565227,
                10900596.2271626,
                10999147.911759973
               ]
              ]
             },
             {
              "title": "<b>Population of Azerbaijan</b>",
              "title_text": "<b>Population of Azerbaijan</b>"
             }
            ],
            "label": "Azerbaijan",
            "method": "update"
           },
           {
            "args": [
             {
              "marker": [
               {
                "color": [
                 "blue",
                 "blue",
                 "blue",
                 "blue",
                 "blue",
                 "blue",
                 "blue",
                 "blue",
                 "blue",
                 "blue",
                 "red",
                 "red",
                 "red",
                 "red",
                 "red",
                 "red",
                 "red"
                ]
               }
              ],
              "x": [
               [
                1960,
                1970,
                1980,
                1990,
                2000,
                2010,
                2020,
                2021,
                2022,
                2023,
                2024,
                2025,
                2026,
                2027,
                2028,
                2029,
                2030
               ]
              ],
              "y": [
               [
                2764258,
                3530432,
                4383706,
                5587052,
                6470194,
                9376444,
                12617036,
                12965481,
                13321097,
                13689450,
                12905496.745012581,
                13087258.291939318,
                13269019.838866055,
                13450781.385792792,
                13632542.932719529,
                13814304.479646266,
                13996066.026573002
               ]
              ]
             },
             {
              "title": "<b>Population of Burundi</b>",
              "title_text": "<b>Population of Burundi</b>"
             }
            ],
            "label": "Burundi",
            "method": "update"
           },
           {
            "args": [
             {
              "marker": [
               {
                "color": [
                 "blue",
                 "blue",
                 "blue",
                 "blue",
                 "blue",
                 "blue",
                 "blue",
                 "blue",
                 "blue",
                 "blue",
                 "red",
                 "red",
                 "red",
                 "red",
                 "red",
                 "red",
                 "red"
                ]
               }
              ],
              "x": [
               [
                1960,
                1970,
                1980,
                1990,
                2000,
                2010,
                2020,
                2021,
                2022,
                2023,
                2024,
                2025,
                2026,
                2027,
                2028,
                2029,
                2030
               ]
              ],
              "y": [
               [
                9153489,
                9655549,
                9859242,
                9967379,
                10251250,
                10895586,
                11538604,
                11586195,
                11680210,
                11787423,
                11627793.998990402,
                11668380.117801487,
                11708966.236612558,
                11749552.355423644,
                11790138.47423473,
                11830724.593045816,
                11871310.711856887
               ]
              ]
             },
             {
              "title": "<b>Population of Belgium</b>",
              "title_text": "<b>Population of Belgium</b>"
             }
            ],
            "label": "Belgium",
            "method": "update"
           },
           {
            "args": [
             {
              "marker": [
               {
                "color": [
                 "blue",
                 "blue",
                 "blue",
                 "blue",
                 "blue",
                 "blue",
                 "blue",
                 "blue",
                 "blue",
                 "blue",
                 "red",
                 "red",
                 "red",
                 "red",
                 "red",
                 "red",
                 "red"
                ]
               }
              ],
              "x": [
               [
                1960,
                1970,
                1980,
                1990,
                2000,
                2010,
                2020,
                2021,
                2022,
                2023,
                2024,
                2025,
                2026,
                2027,
                2028,
                2029,
                2030
               ]
              ],
              "y": [
               [
                2517286,
                3065057,
                3925251,
                5281479,
                7221619,
                9797484,
                13070169,
                13413417,
                13759501,
                14111034,
                13438805.350415945,
                13636451.893465757,
                13834098.43651563,
                14031744.979565442,
                14229391.522615314,
                14427038.065665126,
                14624684.608714938
               ]
              ]
             },
             {
              "title": "<b>Population of Benin</b>",
              "title_text": "<b>Population of Benin</b>"
             }
            ],
            "label": "Benin",
            "method": "update"
           },
           {
            "args": [
             {
              "marker": [
               {
                "color": [
                 "blue",
                 "blue",
                 "blue",
                 "blue",
                 "blue",
                 "blue",
                 "blue",
                 "blue",
                 "blue",
                 "blue",
                 "red",
                 "red",
                 "red",
                 "red",
                 "red",
                 "red",
                 "red"
                ]
               }
              ],
              "x": [
               [
                1960,
                1970,
                1980,
                1990,
                2000,
                2010,
                2020,
                2021,
                2022,
                2023,
                2024,
                2025,
                2026,
                2027,
                2028,
                2029,
                2030
               ]
              ],
              "y": [
               [
                4778621,
                5610304,
                6947900,
                9159356,
                11925546,
                16176498,
                21478690,
                21995243,
                22509038,
                23025776,
                21975069.058799744,
                22287133.479242444,
                22599197.899685025,
                22911262.320127606,
                23223326.740570307,
                23535391.161012888,
                23847455.58145547
               ]
              ]
             },
             {
              "title": "<b>Population of Burkina Faso</b>",
              "title_text": "<b>Population of Burkina Faso</b>"
             }
            ],
            "label": "Burkina Faso",
            "method": "update"
           },
           {
            "args": [
             {
              "marker": [
               {
                "color": [
                 "blue",
                 "blue",
                 "blue",
                 "blue",
                 "blue",
                 "blue",
                 "blue",
                 "blue",
                 "blue",
                 "blue",
                 "red",
                 "red",
                 "red",
                 "red",
                 "red",
                 "red",
                 "red"
                ]
               }
              ],
              "x": [
               [
                1960,
                1970,
                1980,
                1990,
                2000,
                2010,
                2020,
                2021,
                2022,
                2023,
                2024,
                2025,
                2026,
                2027,
                2028,
                2029,
                2030
               ]
              ],
              "y": [
               [
                51828660,
                69058894,
                88016432,
                111633717,
                134544304,
                152201981,
                166298024,
                167658854,
                169384897,
                171466990,
                175164064.95763683,
                177088441.58295012,
                179012818.20826292,
                180937194.83357573,
                182861571.458889,
                184785948.0842018,
                186710324.70951462
               ]
              ]
             },
             {
              "title": "<b>Population of Bangladesh</b>",
              "title_text": "<b>Population of Bangladesh</b>"
             }
            ],
            "label": "Bangladesh",
            "method": "update"
           },
           {
            "args": [
             {
              "marker": [
               {
                "color": [
                 "blue",
                 "blue",
                 "blue",
                 "blue",
                 "blue",
                 "blue",
                 "blue",
                 "blue",
                 "blue",
                 "blue",
                 "red",
                 "red",
                 "red",
                 "red",
                 "red",
                 "red",
                 "red"
                ]
               }
              ],
              "x": [
               [
                1960,
                1970,
                1980,
                1990,
                2000,
                2010,
                2020,
                2021,
                2022,
                2023,
                2024,
                2025,
                2026,
                2027,
                2028,
                2029,
                2030
               ]
              ],
              "y": [
               [
                7867374,
                8489574,
                8861535,
                8718289,
                8170172,
                7395599,
                6934015,
                6877743,
                6643324,
                6446596,
                6892811.930498339,
                6862172.169453189,
                6831532.408408038,
                6800892.647362888,
                6770252.886317737,
                6739613.125272587,
                6708973.3642274365
               ]
              ]
             },
             {
              "title": "<b>Population of Bulgaria</b>",
              "title_text": "<b>Population of Bulgaria</b>"
             }
            ],
            "label": "Bulgaria",
            "method": "update"
           },
           {
            "args": [
             {
              "marker": [
               {
                "color": [
                 "blue",
                 "blue",
                 "blue",
                 "blue",
                 "blue",
                 "blue",
                 "blue",
                 "blue",
                 "blue",
                 "blue",
                 "red",
                 "red",
                 "red",
                 "red",
                 "red",
                 "red",
                 "red"
                ]
               }
              ],
              "x": [
               [
                1960,
                1970,
                1980,
                1990,
                2000,
                2010,
                2020,
                2021,
                2022,
                2023,
                2024,
                2025,
                2026,
                2027,
                2028,
                2029,
                2030
               ]
              ],
              "y": [
               [
                165477,
                224809,
                358978,
                514797,
                637582,
                1228543,
                1472204,
                1504365,
                1524693,
                1577059,
                1517643.1520475,
                1542101.8590986207,
                1566560.5661497489,
                1591019.273200877,
                1615477.9802520052,
                1639936.6873031333,
                1664395.394354254
               ]
              ]
             },
             {
              "title": "<b>Population of Bahrain</b>",
              "title_text": "<b>Population of Bahrain</b>"
             }
            ],
            "label": "Bahrain",
            "method": "update"
           },
           {
            "args": [
             {
              "marker": [
               {
                "color": [
                 "blue",
                 "blue",
                 "blue",
                 "blue",
                 "blue",
                 "blue",
                 "blue",
                 "blue",
                 "blue",
                 "blue",
                 "red",
                 "red",
                 "red",
                 "red",
                 "red",
                 "red",
                 "red"
                ]
               }
              ],
              "x": [
               [
                1960,
                1970,
                1980,
                1990,
                2000,
                2010,
                2020,
                2021,
                2022,
                2023,
                2024,
                2025,
                2026,
                2027,
                2028,
                2029,
                2030
               ]
              ],
              "y": [
               [
                116317,
                184982,
                232526,
                275945,
                323835,
                367478,
                395863,
                396373,
                397538,
                399440,
                414824.3131814888,
                419160.15798400994,
                423496.00278652925,
                427831.84758904856,
                432167.6923915697,
                436503.53719408903,
                440839.38199660834
               ]
              ]
             },
             {
              "title": "<b>Population of Bahamas, The</b>",
              "title_text": "<b>Population of Bahamas, The</b>"
             }
            ],
            "label": "Bahamas, The",
            "method": "update"
           },
           {
            "args": [
             {
              "marker": [
               {
                "color": [
                 "blue",
                 "blue",
                 "blue",
                 "blue",
                 "blue",
                 "blue",
                 "blue",
                 "blue",
                 "blue",
                 "blue",
                 "red",
                 "red",
                 "red",
                 "red",
                 "red",
                 "red",
                 "red"
                ]
               }
              ],
              "x": [
               [
                1960,
                1970,
                1980,
                1990,
                2000,
                2010,
                2020,
                2021,
                2022,
                2023,
                2024,
                2025,
                2026,
                2027,
                2028,
                2029,
                2030
               ]
              ],
              "y": [
               [
                3281381,
                3773247,
                4148426,
                4448652,
                4159771,
                3811472,
                3299349,
                3244907,
                3204802,
                3185073,
                3452336.295937322,
                3444001.3900331147,
                3435666.4841289073,
                3427331.5782247,
                3418996.6723204926,
                3410661.7664162815,
                3402326.860512074
               ]
              ]
             },
             {
              "title": "<b>Population of Bosnia and Herzegovina</b>",
              "title_text": "<b>Population of Bosnia and Herzegovina</b>"
             }
            ],
            "label": "Bosnia and Herzegovina",
            "method": "update"
           },
           {
            "args": [
             {
              "marker": [
               {
                "color": [
                 "blue",
                 "blue",
                 "blue",
                 "blue",
                 "blue",
                 "blue",
                 "blue",
                 "blue",
                 "blue",
                 "blue",
                 "red",
                 "red",
                 "red",
                 "red",
                 "red",
                 "red",
                 "red"
                ]
               }
              ],
              "x": [
               [
                1960,
                1970,
                1980,
                1990,
                2000,
                2010,
                2020,
                2021,
                2022,
                2023,
                2024,
                2025,
                2026,
                2027,
                2028,
                2029,
                2030
               ]
              ],
              "y": [
               [
                8198000,
                9040000,
                9643000,
                10189348,
                9979610,
                9483836,
                9379952,
                9302585,
                9228071,
                9178298,
                9537104.646716744,
                9544270.001090381,
                9551435.355464019,
                9558600.709837655,
                9565766.064211292,
                9572931.41858493,
                9580096.772958566
               ]
              ]
             },
             {
              "title": "<b>Population of Belarus</b>",
              "title_text": "<b>Population of Belarus</b>"
             }
            ],
            "label": "Belarus",
            "method": "update"
           },
           {
            "args": [
             {
              "marker": [
               {
                "color": [
                 "blue",
                 "blue",
                 "blue",
                 "blue",
                 "blue",
                 "blue",
                 "blue",
                 "blue",
                 "blue",
                 "blue",
                 "red",
                 "red",
                 "red",
                 "red",
                 "red",
                 "red",
                 "red"
                ]
               }
              ],
              "x": [
               [
                1960,
                1970,
                1980,
                1990,
                2000,
                2010,
                2020,
                2021,
                2022,
                2023,
                2024,
                2025,
                2026,
                2027,
                2028,
                2029,
                2030
               ]
              ],
              "y": [
               [
                91318,
                120736,
                145062,
                183076,
                240799,
                320245,
                390812,
                395346,
                402733,
                411106,
                401721.95965592563,
                407115.3473467417,
                412508.7350375578,
                417902.12272837386,
                423295.5104191918,
                428688.89811000787,
                434082.28580082394
               ]
              ]
             },
             {
              "title": "<b>Population of Belize</b>",
              "title_text": "<b>Population of Belize</b>"
             }
            ],
            "label": "Belize",
            "method": "update"
           },
           {
            "args": [
             {
              "marker": [
               {
                "color": [
                 "blue",
                 "blue",
                 "blue",
                 "blue",
                 "blue",
                 "blue",
                 "blue",
                 "blue",
                 "blue",
                 "blue",
                 "red",
                 "red",
                 "red",
                 "red",
                 "red",
                 "red",
                 "red"
                ]
               }
              ],
              "x": [
               [
                1960,
                1970,
                1980,
                1990,
                2000,
                2010,
                2020,
                2021,
                2022,
                2023,
                2024,
                2025,
                2026,
                2027,
                2028,
                2029,
                2030
               ]
              ],
              "y": [
               [
                42208,
                52124,
                53673,
                57559,
                61550,
                63725,
                64382,
                64648,
                64749,
                64698,
                66468.11969953962,
                66776.99345771747,
                67085.86721589533,
                67394.74097407318,
                67703.61473225104,
                68012.48849042889,
                68321.36224860675
               ]
              ]
             },
             {
              "title": "<b>Population of Bermuda</b>",
              "title_text": "<b>Population of Bermuda</b>"
             }
            ],
            "label": "Bermuda",
            "method": "update"
           },
           {
            "args": [
             {
              "marker": [
               {
                "color": [
                 "blue",
                 "blue",
                 "blue",
                 "blue",
                 "blue",
                 "blue",
                 "blue",
                 "blue",
                 "blue",
                 "blue",
                 "red",
                 "red",
                 "red",
                 "red",
                 "red",
                 "red",
                 "red"
                ]
               }
              ],
              "x": [
               [
                1960,
                1970,
                1980,
                1990,
                2000,
                2010,
                2020,
                2021,
                2022,
                2023,
                2024,
                2025,
                2026,
                2027,
                2028,
                2029,
                2030
               ]
              ],
              "y": [
               [
                3702323,
                4590010,
                5758900,
                7130142,
                8606326,
                10182345,
                11816299,
                11937360,
                12077154,
                12244159,
                12248863.041757524,
                12390025.387731194,
                12531187.733704865,
                12672350.079678535,
                12813512.425652206,
                12954674.771625876,
                13095837.117599547
               ]
              ]
             },
             {
              "title": "<b>Population of Bolivia</b>",
              "title_text": "<b>Population of Bolivia</b>"
             }
            ],
            "label": "Bolivia",
            "method": "update"
           },
           {
            "args": [
             {
              "marker": [
               {
                "color": [
                 "blue",
                 "blue",
                 "blue",
                 "blue",
                 "blue",
                 "blue",
                 "blue",
                 "blue",
                 "blue",
                 "blue",
                 "red",
                 "red",
                 "red",
                 "red",
                 "red",
                 "red",
                 "red"
                ]
               }
              ],
              "x": [
               [
                1960,
                1970,
                1980,
                1990,
                2000,
                2010,
                2020,
                2021,
                2022,
                2023,
                2024,
                2025,
                2026,
                2027,
                2028,
                2029,
                2030
               ]
              ],
              "y": [
               [
                72388126,
                95375651,
                121207461,
                149143223,
                174018282,
                193701929,
                208660842,
                209550294,
                210306415,
                211140729,
                218644689.1964302,
                220861713.54054546,
                223078737.88466167,
                225295762.2287779,
                227512786.5728941,
                229729810.9170103,
                231946835.26112556
               ]
              ]
             },
             {
              "title": "<b>Population of Brazil</b>",
              "title_text": "<b>Population of Brazil</b>"
             }
            ],
            "label": "Brazil",
            "method": "update"
           },
           {
            "args": [
             {
              "marker": [
               {
                "color": [
                 "blue",
                 "blue",
                 "blue",
                 "blue",
                 "blue",
                 "blue",
                 "blue",
                 "blue",
                 "blue",
                 "blue",
                 "red",
                 "red",
                 "red",
                 "red",
                 "red",
                 "red",
                 "red"
                ]
               }
              ],
              "x": [
               [
                1960,
                1970,
                1980,
                1990,
                2000,
                2010,
                2020,
                2021,
                2022,
                2023,
                2024,
                2025,
                2026,
                2027,
                2028,
                2029,
                2030
               ]
              ],
              "y": [
               [
                230893,
                249387,
                251524,
                258582,
                262063,
                275243,
                281698,
                282147,
                282318,
                282336,
                284070.5894919636,
                284826.7980776997,
                285583.00666343607,
                286339.2152491722,
                287095.4238349083,
                287851.63242064463,
                288607.84100638074
               ]
              ]
             },
             {
              "title": "<b>Population of Barbados</b>",
              "title_text": "<b>Population of Barbados</b>"
             }
            ],
            "label": "Barbados",
            "method": "update"
           },
           {
            "args": [
             {
              "marker": [
               {
                "color": [
                 "blue",
                 "blue",
                 "blue",
                 "blue",
                 "blue",
                 "blue",
                 "blue",
                 "blue",
                 "blue",
                 "blue",
                 "red",
                 "red",
                 "red",
                 "red",
                 "red",
                 "red",
                 "red"
                ]
               }
              ],
              "x": [
               [
                1960,
                1970,
                1980,
                1990,
                2000,
                2010,
                2020,
                2021,
                2022,
                2023,
                2024,
                2025,
                2026,
                2027,
                2028,
                2029,
                2030
               ]
              ],
              "y": [
               [
                88347,
                135138,
                186111,
                255292,
                326424,
                392332,
                447404,
                451721,
                455370,
                458949,
                469226.46215976216,
                475354.2351990957,
                481482.00823843107,
                487609.7812777646,
                493737.5543171,
                499865.3273564335,
                505993.1003957689
               ]
              ]
             },
             {
              "title": "<b>Population of Brunei Darussalam</b>",
              "title_text": "<b>Population of Brunei Darussalam</b>"
             }
            ],
            "label": "Brunei Darussalam",
            "method": "update"
           },
           {
            "args": [
             {
              "marker": [
               {
                "color": [
                 "blue",
                 "blue",
                 "blue",
                 "blue",
                 "blue",
                 "blue",
                 "blue",
                 "blue",
                 "blue",
                 "blue",
                 "red",
                 "red",
                 "red",
                 "red",
                 "red",
                 "red",
                 "red"
                ]
               }
              ],
              "x": [
               [
                1960,
                1970,
                1980,
                1990,
                2000,
                2010,
                2020,
                2021,
                2022,
                2023,
                2024,
                2025,
                2026,
                2027,
                2028,
                2029,
                2030
               ]
              ],
              "y": [
               [
                224084,
                308528,
                433404,
                589287,
                596863,
                701632,
                770006,
                775442,
                780914,
                786385,
                811340.1742589436,
                820138.7674662769,
                828937.3606736138,
                837735.9538809471,
                846534.5470882803,
                855333.1402956136,
                864131.7335029468
               ]
              ]
             },
             {
              "title": "<b>Population of Bhutan</b>",
              "title_text": "<b>Population of Bhutan</b>"
             }
            ],
            "label": "Bhutan",
            "method": "update"
           },
           {
            "args": [
             {
              "marker": [
               {
                "color": [
                 "blue",
                 "blue",
                 "blue",
                 "blue",
                 "blue",
                 "blue",
                 "blue",
                 "blue",
                 "blue",
                 "blue",
                 "red",
                 "red",
                 "red",
                 "red",
                 "red",
                 "red",
                 "red"
                ]
               }
              ],
              "x": [
               [
                1960,
                1970,
                1980,
                1990,
                2000,
                2010,
                2020,
                2021,
                2022,
                2023,
                2024,
                2025,
                2026,
                2027,
                2028,
                2029,
                2030
               ]
              ],
              "y": [
               [
                516165,
                590334,
                937485,
                1305696,
                1677382,
                2033111,
                2365894,
                2401441,
                2439892,
                2480244,
                2489370.178257011,
                2522755.6609724537,
                2556141.1436879113,
                2589526.626403354,
                2622912.109118812,
                2656297.5918342546,
                2689683.0745497122
               ]
              ]
             },
             {
              "title": "<b>Population of Botswana</b>",
              "title_text": "<b>Population of Botswana</b>"
             }
            ],
            "label": "Botswana",
            "method": "update"
           },
           {
            "args": [
             {
              "marker": [
               {
                "color": [
                 "blue",
                 "blue",
                 "blue",
                 "blue",
                 "blue",
                 "blue",
                 "blue",
                 "blue",
                 "blue",
                 "blue",
                 "red",
                 "red",
                 "red",
                 "red",
                 "red",
                 "red",
                 "red"
                ]
               }
              ],
              "x": [
               [
                1960,
                1970,
                1980,
                1990,
                2000,
                2010,
                2020,
                2021,
                2022,
                2023,
                2024,
                2025,
                2026,
                2027,
                2028,
                2029,
                2030
               ]
              ],
              "y": [
               [
                1702346,
                2097505,
                2450535,
                2871910,
                3833416,
                4492995,
                5026628,
                5112100,
                5098039,
                5152421,
                5211929.12192069,
                5270459.434294477,
                5328989.746668279,
                5387520.059042081,
                5446050.371415883,
                5504580.6837896705,
                5563110.9961634725
               ]
              ]
             },
             {
              "title": "<b>Population of Central African Republic</b>",
              "title_text": "<b>Population of Central African Republic</b>"
             }
            ],
            "label": "Central African Republic",
            "method": "update"
           },
           {
            "args": [
             {
              "marker": [
               {
                "color": [
                 "blue",
                 "blue",
                 "blue",
                 "blue",
                 "blue",
                 "blue",
                 "blue",
                 "blue",
                 "blue",
                 "blue",
                 "red",
                 "red",
                 "red",
                 "red",
                 "red",
                 "red",
                 "red"
                ]
               }
              ],
              "x": [
               [
                1960,
                1970,
                1980,
                1990,
                2000,
                2010,
                2020,
                2021,
                2022,
                2023,
                2024,
                2025,
                2026,
                2027,
                2028,
                2029,
                2030
               ]
              ],
              "y": [
               [
                17909356,
                21324000,
                24515667,
                27691138,
                30685730,
                34005902,
                38028638,
                38239864,
                38939056,
                40097761,
                39439792.70971668,
                39779796.05027878,
                40119799.39084089,
                40459802.73140311,
                40799806.07196522,
                41139809.41252744,
                41479812.75308955
               ]
              ]
             },
             {
              "title": "<b>Population of Canada</b>",
              "title_text": "<b>Population of Canada</b>"
             }
            ],
            "label": "Canada",
            "method": "update"
           },
           {
            "args": [
             {
              "marker": [
               {
                "color": [
                 "blue",
                 "blue",
                 "blue",
                 "blue",
                 "blue",
                 "blue",
                 "blue",
                 "blue",
                 "blue",
                 "blue",
                 "red",
                 "red",
                 "red",
                 "red",
                 "red",
                 "red",
                 "red"
                ]
               }
              ],
              "x": [
               [
                1960,
                1970,
                1980,
                1990,
                2000,
                2010,
                2020,
                2021,
                2022,
                2023,
                2024,
                2025,
                2026,
                2027,
                2028,
                2029,
                2030
               ]
              ],
              "y": [
               [
                91401764,
                99134548,
                106541316,
                110743128,
                108447824,
                104421447,
                102046650,
                100647592,
                100289401,
                100175859,
                103618323.00327115,
                103668870.95832324,
                103719418.91337533,
                103769966.86842743,
                103820514.82347953,
                103871062.77853163,
                103921610.73358372
               ]
              ]
             },
             {
              "title": "<b>Population of Central Europe and the Baltics</b>",
              "title_text": "<b>Population of Central Europe and the Baltics</b>"
             }
            ],
            "label": "Central Europe and the Baltics",
            "method": "update"
           },
           {
            "args": [
             {
              "marker": [
               {
                "color": [
                 "blue",
                 "blue",
                 "blue",
                 "blue",
                 "blue",
                 "blue",
                 "blue",
                 "blue",
                 "blue",
                 "blue",
                 "red",
                 "red",
                 "red",
                 "red",
                 "red",
                 "red",
                 "red"
                ]
               }
              ],
              "x": [
               [
                1960,
                1970,
                1980,
                1990,
                2000,
                2010,
                2020,
                2021,
                2022,
                2023,
                2024,
                2025,
                2026,
                2027,
                2028,
                2029,
                2030
               ]
              ],
              "y": [
               [
                5327827,
                6180877,
                6319408,
                6715519,
                7184250,
                7824909,
                8638167,
                8704546,
                8777088,
                8888093,
                8781757.906550363,
                8836089.443704069,
                8890420.980857775,
                8944752.51801148,
                8999084.055165187,
                9053415.592318878,
                9107747.129472584
               ]
              ]
             },
             {
              "title": "<b>Population of Switzerland</b>",
              "title_text": "<b>Population of Switzerland</b>"
             }
            ],
            "label": "Switzerland",
            "method": "update"
           },
           {
            "args": [
             {
              "marker": [
               {
                "color": [
                 "blue",
                 "blue",
                 "blue",
                 "blue",
                 "blue",
                 "blue",
                 "blue",
                 "blue",
                 "blue",
                 "blue",
                 "red",
                 "red",
                 "red",
                 "red",
                 "red",
                 "red",
                 "red"
                ]
               }
              ],
              "x": [
               [
                1960,
                1970,
                1980,
                1990,
                2000,
                2010,
                2020,
                2021,
                2022,
                2023,
                2024,
                2025,
                2026,
                2027,
                2028,
                2029,
                2030
               ]
              ],
              "y": [
               [
                110808,
                123288,
                130462,
                143087,
                148110,
                158621,
                166235,
                166741,
                167215,
                167691,
                169756.01235764497,
                170638.3981100074,
                171520.78386236983,
                172403.1696147325,
                173285.55536709493,
                174167.94111945736,
                175050.3268718198
               ]
              ]
             },
             {
              "title": "<b>Population of Channel Islands</b>",
              "title_text": "<b>Population of Channel Islands</b>"
             }
            ],
            "label": "Channel Islands",
            "method": "update"
           },
           {
            "args": [
             {
              "marker": [
               {
                "color": [
                 "blue",
                 "blue",
                 "blue",
                 "blue",
                 "blue",
                 "blue",
                 "blue",
                 "blue",
                 "blue",
                 "blue",
                 "red",
                 "red",
                 "red",
                 "red",
                 "red",
                 "red",
                 "red"
                ]
               }
              ],
              "x": [
               [
                1960,
                1970,
                1980,
                1990,
                2000,
                2010,
                2020,
                2021,
                2022,
                2023,
                2024,
                2025,
                2026,
                2027,
                2028,
                2029,
                2030
               ]
              ],
              "y": [
               [
                8153350,
                9845344,
                11508550,
                13437176,
                15503635,
                17181464,
                19370624,
                19456334,
                19553036,
                19658835,
                19926982.106534243,
                20113873.389588892,
                20300764.672643602,
                20487655.95569825,
                20674547.23875296,
                20861438.52180761,
                21048329.80486232
               ]
              ]
             },
             {
              "title": "<b>Population of Chile</b>",
              "title_text": "<b>Population of Chile</b>"
             }
            ],
            "label": "Chile",
            "method": "update"
           },
           {
            "args": [
             {
              "marker": [
               {
                "color": [
                 "blue",
                 "blue",
                 "blue",
                 "blue",
                 "blue",
                 "blue",
                 "blue",
                 "blue",
                 "blue",
                 "blue",
                 "red",
                 "red",
                 "red",
                 "red",
                 "red",
                 "red",
                 "red"
                ]
               }
              ],
              "x": [
               [
                1960,
                1970,
                1980,
                1990,
                2000,
                2010,
                2020,
                2021,
                2022,
                2023,
                2024,
                2025,
                2026,
                2027,
                2028,
                2029,
                2030
               ]
              ],
              "y": [
               [
                667070000,
                818315000,
                981235000,
                1135185000,
                1262645000,
                1337705000,
                1411100000,
                1412360000,
                1412175000,
                1410710000,
                1467178308.6988144,
                1478749141.0225372,
                1490319973.34626,
                1501890805.669983,
                1513461637.993702,
                1525032470.3174248,
                1536603302.6411476
               ]
              ]
             },
             {
              "title": "<b>Population of China</b>",
              "title_text": "<b>Population of China</b>"
             }
            ],
            "label": "China",
            "method": "update"
           },
           {
            "args": [
             {
              "marker": [
               {
                "color": [
                 "blue",
                 "blue",
                 "blue",
                 "blue",
                 "blue",
                 "blue",
                 "blue",
                 "blue",
                 "blue",
                 "blue",
                 "red",
                 "red",
                 "red",
                 "red",
                 "red",
                 "red",
                 "red"
                ]
               }
              ],
              "x": [
               [
                1960,
                1970,
                1980,
                1990,
                2000,
                2010,
                2020,
                2021,
                2022,
                2023,
                2024,
                2025,
                2026,
                2027,
                2028,
                2029,
                2030
               ]
              ],
              "y": [
               [
                3673666,
                5411567,
                8220714,
                12189778,
                17699004,
                22488065,
                28915449,
                29639736,
                30395002,
                31165654,
                30269558.425773382,
                30732250.840764165,
                31194943.25575483,
                31657635.67074561,
                32120328.085736275,
                32583020.50072694,
                33045712.91571772
               ]
              ]
             },
             {
              "title": "<b>Population of Cote d'Ivoire</b>",
              "title_text": "<b>Population of Cote d'Ivoire</b>"
             }
            ],
            "label": "Cote d'Ivoire",
            "method": "update"
           },
           {
            "args": [
             {
              "marker": [
               {
                "color": [
                 "blue",
                 "blue",
                 "blue",
                 "blue",
                 "blue",
                 "blue",
                 "blue",
                 "blue",
                 "blue",
                 "blue",
                 "red",
                 "red",
                 "red",
                 "red",
                 "red",
                 "red",
                 "red"
                ]
               }
              ],
              "x": [
               [
                1960,
                1970,
                1980,
                1990,
                2000,
                2010,
                2020,
                2021,
                2022,
                2023,
                2024,
                2025,
                2026,
                2027,
                2028,
                2029,
                2030
               ]
              ],
              "y": [
               [
                5159057,
                6449793,
                8512219,
                11331821,
                14912631,
                19668066,
                26210558,
                26915758,
                27632771,
                28372687,
                27041537.481907845,
                27431906.391002417,
                27822275.30009699,
                28212644.20919168,
                28603013.118286252,
                28993382.027380824,
                29383750.936475396
               ]
              ]
             },
             {
              "title": "<b>Population of Cameroon</b>",
              "title_text": "<b>Population of Cameroon</b>"
             }
            ],
            "label": "Cameroon",
            "method": "update"
           },
           {
            "args": [
             {
              "marker": [
               {
                "color": [
                 "blue",
                 "blue",
                 "blue",
                 "blue",
                 "blue",
                 "blue",
                 "blue",
                 "blue",
                 "blue",
                 "blue",
                 "red",
                 "red",
                 "red",
                 "red",
                 "red",
                 "red",
                 "red"
                ]
               }
              ],
              "x": [
               [
                1960,
                1970,
                1980,
                1990,
                2000,
                2010,
                2020,
                2021,
                2022,
                2023,
                2024,
                2025,
                2026,
                2027,
                2028,
                2029,
                2030
               ]
              ],
              "y": [
               [
                15264846,
                20137436,
                26711099,
                36684063,
                50507442,
                68563038,
                95989998,
                99148932,
                102396968,
                105789731,
                99101451.06320238,
                100617110.72562838,
                102132770.38805485,
                103648430.05048132,
                105164089.71290731,
                106679749.37533379,
                108195409.03776026
               ]
              ]
             },
             {
              "title": "<b>Population of Congo, Dem. Rep.</b>",
              "title_text": "<b>Population of Congo, Dem. Rep.</b>"
             }
            ],
            "label": "Congo, Dem. Rep.",
            "method": "update"
           },
           {
            "args": [
             {
              "marker": [
               {
                "color": [
                 "blue",
                 "blue",
                 "blue",
                 "blue",
                 "blue",
                 "blue",
                 "blue",
                 "blue",
                 "blue",
                 "blue",
                 "red",
                 "red",
                 "red",
                 "red",
                 "red",
                 "red",
                 "red"
                ]
               }
              ],
              "x": [
               [
                1960,
                1970,
                1980,
                1990,
                2000,
                2010,
                2020,
                2021,
                2022,
                2023,
                2024,
                2025,
                2026,
                2027,
                2028,
                2029,
                2030
               ]
              ],
              "y": [
               [
                1056732,
                1397638,
                1828985,
                2380560,
                3151345,
                4462290,
                5752791,
                5892183,
                6035104,
                6182885,
                5928016.824852616,
                6014654.756199032,
                6101292.687545449,
                6187930.618891865,
                6274568.5502382815,
                6361206.481584698,
                6447844.412931114
               ]
              ]
             },
             {
              "title": "<b>Population of Congo, Rep.</b>",
              "title_text": "<b>Population of Congo, Rep.</b>"
             }
            ],
            "label": "Congo, Rep.",
            "method": "update"
           },
           {
            "args": [
             {
              "marker": [
               {
                "color": [
                 "blue",
                 "blue",
                 "blue",
                 "blue",
                 "blue",
                 "blue",
                 "blue",
                 "blue",
                 "blue",
                 "blue",
                 "red",
                 "red",
                 "red",
                 "red",
                 "red",
                 "red",
                 "red"
                ]
               }
              ],
              "x": [
               [
                1960,
                1970,
                1980,
                1990,
                2000,
                2010,
                2020,
                2021,
                2022,
                2023,
                2024,
                2025,
                2026,
                2027,
                2028,
                2029,
                2030
               ]
              ],
              "y": [
               [
                15606209,
                20811782,
                26104498,
                32440069,
                39089934,
                44777319,
                50629997,
                51188173,
                51737944,
                52321152,
                52934799.4256928,
                53527590.070188284,
                54120380.71468401,
                54713171.3591795,
                55305962.00367522,
                55898752.64817071,
                56491543.292666435
               ]
              ]
             },
             {
              "title": "<b>Population of Colombia</b>",
              "title_text": "<b>Population of Colombia</b>"
             }
            ],
            "label": "Colombia",
            "method": "update"
           },
           {
            "args": [
             {
              "marker": [
               {
                "color": [
                 "blue",
                 "blue",
                 "blue",
                 "blue",
                 "blue",
                 "blue",
                 "blue",
                 "blue",
                 "blue",
                 "blue",
                 "red",
                 "red",
                 "red",
                 "red",
                 "red",
                 "red",
                 "red"
                ]
               }
              ],
              "x": [
               [
                1960,
                1970,
                1980,
                1990,
                2000,
                2010,
                2020,
                2021,
                2022,
                2023,
                2024,
                2025,
                2026,
                2027,
                2028,
                2029,
                2030
               ]
              ],
              "y": [
               [
                197700,
                244185,
                337721,
                444596,
                536080,
                654836,
                802163,
                818174,
                834188,
                850387,
                835781.5294402726,
                846592.1249091364,
                857402.7203780003,
                868213.3158468604,
                879023.9113157243,
                889834.5067845881,
                900645.102253452
               ]
              ]
             },
             {
              "title": "<b>Population of Comoros</b>",
              "title_text": "<b>Population of Comoros</b>"
             }
            ],
            "label": "Comoros",
            "method": "update"
           },
           {
            "args": [
             {
              "marker": [
               {
                "color": [
                 "blue",
                 "blue",
                 "blue",
                 "blue",
                 "blue",
                 "blue",
                 "blue",
                 "blue",
                 "blue",
                 "blue",
                 "red",
                 "red",
                 "red",
                 "red",
                 "red",
                 "red",
                 "red"
                ]
               }
              ],
              "x": [
               [
                1960,
                1970,
                1980,
                1990,
                2000,
                2010,
                2020,
                2021,
                2022,
                2023,
                2024,
                2025,
                2026,
                2027,
                2028,
                2029,
                2030
               ]
              ],
              "y": [
               [
                210024,
                287885,
                323301,
                375428,
                453317,
                509784,
                514679,
                516649,
                519741,
                522331,
                542172.5532267187,
                547043.809506502,
                551915.0657862853,
                556786.3220660705,
                561657.5783458538,
                566528.8346256372,
                571400.0909054205
               ]
              ]
             },
             {
              "title": "<b>Population of Cabo Verde</b>",
              "title_text": "<b>Population of Cabo Verde</b>"
             }
            ],
            "label": "Cabo Verde",
            "method": "update"
           },
           {
            "args": [
             {
              "marker": [
               {
                "color": [
                 "blue",
                 "blue",
                 "blue",
                 "blue",
                 "blue",
                 "blue",
                 "blue",
                 "blue",
                 "blue",
                 "blue",
                 "red",
                 "red",
                 "red",
                 "red",
                 "red",
                 "red",
                 "red"
                ]
               }
              ],
              "x": [
               [
                1960,
                1970,
                1980,
                1990,
                2000,
                2010,
                2020,
                2021,
                2022,
                2023,
                2024,
                2025,
                2026,
                2027,
                2028,
                2029,
                2030
               ]
              ],
              "y": [
               [
                1327496,
                1838949,
                2390633,
                3121706,
                3937739,
                4555962,
                5034320,
                5059988,
                5081765,
                5105525,
                5269867.7013569325,
                5332345.545674831,
                5394823.389992744,
                5457301.234310642,
                5519779.078628555,
                5582256.922946453,
                5644734.767264366
               ]
              ]
             },
             {
              "title": "<b>Population of Costa Rica</b>",
              "title_text": "<b>Population of Costa Rica</b>"
             }
            ],
            "label": "Costa Rica",
            "method": "update"
           },
           {
            "args": [
             {
              "marker": [
               {
                "color": [
                 "blue",
                 "blue",
                 "blue",
                 "blue",
                 "blue",
                 "blue",
                 "blue",
                 "blue",
                 "blue",
                 "blue",
                 "red",
                 "red",
                 "red",
                 "red",
                 "red",
                 "red",
                 "red"
                ]
               }
              ],
              "x": [
               [
                1960,
                1970,
                1980,
                1990,
                2000,
                2010,
                2020,
                2021,
                2022,
                2023,
                2024,
                2025,
                2026,
                2027,
                2028,
                2029,
                2030
               ]
              ],
              "y": [
               [
                1713405,
                2112837,
                2277343,
                2402741,
                2636455,
                2855621,
                3092577,
                3111609,
                3131505,
                3152394,
                3172125.9856635183,
                3193579.972780876,
                3215033.9598982334,
                3236487.947015591,
                3257941.9341329485,
                3279395.921250306,
                3300849.9083676636
               ]
              ]
             },
             {
              "title": "<b>Population of Caribbean small states</b>",
              "title_text": "<b>Population of Caribbean small states</b>"
             }
            ],
            "label": "Caribbean small states",
            "method": "update"
           },
           {
            "args": [
             {
              "marker": [
               {
                "color": [
                 "blue",
                 "blue",
                 "blue",
                 "blue",
                 "blue",
                 "blue",
                 "blue",
                 "blue",
                 "blue",
                 "blue",
                 "red",
                 "red",
                 "red",
                 "red",
                 "red",
                 "red",
                 "red"
                ]
               }
              ],
              "x": [
               [
                1960,
                1970,
                1980,
                1990,
                2000,
                2010,
                2020,
                2021,
                2022,
                2023,
                2024,
                2025,
                2026,
                2027,
                2028,
                2029,
                2030
               ]
              ],
              "y": [
               [
                7238081,
                8824382,
                9804796,
                10631799,
                11109109,
                11297409,
                11176354,
                11122168,
                11059820,
                11019931,
                11567432.708464593,
                11618213.356352493,
                11668994.004240379,
                11719774.65212828,
                11770555.300016165,
                11821335.947904065,
                11872116.59579195
               ]
              ]
             },
             {
              "title": "<b>Population of Cuba</b>",
              "title_text": "<b>Population of Cuba</b>"
             }
            ],
            "label": "Cuba",
            "method": "update"
           },
           {
            "args": [
             {
              "marker": [
               {
                "color": [
                 "blue",
                 "blue",
                 "blue",
                 "blue",
                 "blue",
                 "blue",
                 "blue",
                 "blue",
                 "blue",
                 "blue",
                 "red",
                 "red",
                 "red",
                 "red",
                 "red",
                 "red",
                 "red"
                ]
               }
              ],
              "x": [
               [
                1960,
                1970,
                1980,
                1990,
                2000,
                2010,
                2020,
                2021,
                2022,
                2023,
                2024,
                2025,
                2026,
                2027,
                2028,
                2029,
                2030
               ]
              ],
              "y": [
               [
                124826,
                144739,
                148041,
                145400,
                133860,
                148703,
                154947,
                152369,
                149996,
                147862,
                151561.67389548494,
                151827.54987480812,
                152093.4258541313,
                152359.30183345446,
                152625.17781277763,
                152891.0537921008,
                153156.92977142398
               ]
              ]
             },
             {
              "title": "<b>Population of Curacao</b>",
              "title_text": "<b>Population of Curacao</b>"
             }
            ],
            "label": "Curacao",
            "method": "update"
           },
           {
            "args": [
             {
              "marker": [
               {
                "color": [
                 "blue",
                 "blue",
                 "blue",
                 "blue",
                 "blue",
                 "blue",
                 "blue",
                 "blue",
                 "blue",
                 "blue",
                 "red",
                 "red",
                 "red",
                 "red",
                 "red",
                 "red",
                 "red"
                ]
               }
              ],
              "x": [
               [
                1960,
                1970,
                1980,
                1990,
                2000,
                2010,
                2020,
                2021,
                2022,
                2023,
                2024,
                2025,
                2026,
                2027,
                2028,
                2029,
                2030
               ]
              ],
              "y": [
               [
                8428,
                10517,
                17079,
                25999,
                39674,
                54099,
                68684,
                70108,
                71591,
                73038,
                71331.5496728858,
                72454.90416767634,
                73578.25866246689,
                74701.61315725697,
                75824.96765204752,
                76948.32214683807,
                78071.67664162815
               ]
              ]
             },
             {
              "title": "<b>Population of Cayman Islands</b>",
              "title_text": "<b>Population of Cayman Islands</b>"
             }
            ],
            "label": "Cayman Islands",
            "method": "update"
           },
           {
            "args": [
             {
              "marker": [
               {
                "color": [
                 "blue",
                 "blue",
                 "blue",
                 "blue",
                 "blue",
                 "blue",
                 "blue",
                 "blue",
                 "blue",
                 "blue",
                 "red",
                 "red",
                 "red",
                 "red",
                 "red",
                 "red",
                 "red"
                ]
               }
              ],
              "x": [
               [
                1960,
                1970,
                1980,
                1990,
                2000,
                2010,
                2020,
                2021,
                2022,
                2023,
                2024,
                2025,
                2026,
                2027,
                2028,
                2029,
                2030
               ]
              ],
              "y": [
               [
                586490,
                647446,
                683076,
                788351,
                947667,
                1127816,
                1302247,
                1317309,
                1331370,
                1344976,
                1327006.504886523,
                1340093.8698408902,
                1353181.2347952537,
                1366268.599749621,
                1379355.9647039846,
                1392443.3296583518,
                1405530.6946127154
               ]
              ]
             },
             {
              "title": "<b>Population of Cyprus</b>",
              "title_text": "<b>Population of Cyprus</b>"
             }
            ],
            "label": "Cyprus",
            "method": "update"
           },
           {
            "args": [
             {
              "marker": [
               {
                "color": [
                 "blue",
                 "blue",
                 "blue",
                 "blue",
                 "blue",
                 "blue",
                 "blue",
                 "blue",
                 "blue",
                 "blue",
                 "red",
                 "red",
                 "red",
                 "red",
                 "red",
                 "red",
                 "red"
                ]
               }
              ],
              "x": [
               [
                1960,
                1970,
                1980,
                1990,
                2000,
                2010,
                2020,
                2021,
                2022,
                2023,
                2024,
                2025,
                2026,
                2027,
                2028,
                2029,
                2030
               ]
              ],
              "y": [
               [
                9602006,
                9858071,
                10304193,
                10333355,
                10255063,
                10474410,
                10697858,
                10505772,
                10672118,
                10864042,
                10731966.20579921,
                10747346.42734836,
                10762726.648897506,
                10778106.870446656,
                10793487.091995802,
                10808867.313544951,
                10824247.535094097
               ]
              ]
             },
             {
              "title": "<b>Population of Czechia</b>",
              "title_text": "<b>Population of Czechia</b>"
             }
            ],
            "label": "Czechia",
            "method": "update"
           },
           {
            "args": [
             {
              "marker": [
               {
                "color": [
                 "blue",
                 "blue",
                 "blue",
                 "blue",
                 "blue",
                 "blue",
                 "blue",
                 "blue",
                 "blue",
                 "blue",
                 "red",
                 "red",
                 "red",
                 "red",
                 "red",
                 "red",
                 "red"
                ]
               }
              ],
              "x": [
               [
                1960,
                1970,
                1980,
                1990,
                2000,
                2010,
                2020,
                2021,
                2022,
                2023,
                2024,
                2025,
                2026,
                2027,
                2028,
                2029,
                2030
               ]
              ],
              "y": [
               [
                72814900,
                78169289,
                78288576,
                79433029,
                82211508,
                81776930,
                83160871,
                83196078,
                83797985,
                83280000,
                84021226.75898555,
                84160911.60156688,
                84300596.44414827,
                84440281.28672966,
                84579966.12931105,
                84719650.97189239,
                84859335.81447378
               ]
              ]
             },
             {
              "title": "<b>Population of Germany</b>",
              "title_text": "<b>Population of Germany</b>"
             }
            ],
            "label": "Germany",
            "method": "update"
           },
           {
            "args": [
             {
              "marker": [
               {
                "color": [
                 "blue",
                 "blue",
                 "blue",
                 "blue",
                 "blue",
                 "blue",
                 "blue",
                 "blue",
                 "blue",
                 "blue",
                 "red",
                 "red",
                 "red",
                 "red",
                 "red",
                 "red",
                 "red"
                ]
               }
              ],
              "x": [
               [
                1960,
                1970,
                1980,
                1990,
                2000,
                2010,
                2020,
                2021,
                2022,
                2023,
                2024,
                2025,
                2026,
                2027,
                2028,
                2029,
                2030
               ]
              ],
              "y": [
               [
                86024,
                145175,
                325815,
                579538,
                747318,
                930251,
                1105188,
                1121248,
                1137096,
                1152944,
                1173084.7140376419,
                1191118.5260883644,
                1209152.338139087,
                1227186.1501898095,
                1245219.962240532,
                1263253.7742912546,
                1281287.5863419771
               ]
              ]
             },
             {
              "title": "<b>Population of Djibouti</b>",
              "title_text": "<b>Population of Djibouti</b>"
             }
            ],
            "label": "Djibouti",
            "method": "update"
           },
           {
            "args": [
             {
              "marker": [
               {
                "color": [
                 "blue",
                 "blue",
                 "blue",
                 "blue",
                 "blue",
                 "blue",
                 "blue",
                 "blue",
                 "blue",
                 "blue",
                 "red",
                 "red",
                 "red",
                 "red",
                 "red",
                 "red",
                 "red"
                ]
               }
              ],
              "x": [
               [
                1960,
                1970,
                1980,
                1990,
                2000,
                2010,
                2020,
                2021,
                2022,
                2023,
                2024,
                2025,
                2026,
                2027,
                2028,
                2029,
                2030
               ]
              ],
              "y": [
               [
                59372,
                68908,
                73083,
                69627,
                68511,
                68859,
                67573,
                67202,
                66826,
                66510,
                68246.86386398514,
                68271.44435021403,
                68296.02483644294,
                68320.60532267185,
                68345.18580890074,
                68369.76629512964,
                68394.34678135853
               ]
              ]
             },
             {
              "title": "<b>Population of Dominica</b>",
              "title_text": "<b>Population of Dominica</b>"
             }
            ],
            "label": "Dominica",
            "method": "update"
           },
           {
            "args": [
             {
              "marker": [
               {
                "color": [
                 "blue",
                 "blue",
                 "blue",
                 "blue",
                 "blue",
                 "blue",
                 "blue",
                 "blue",
                 "blue",
                 "blue",
                 "red",
                 "red",
                 "red",
                 "red",
                 "red",
                 "red",
                 "red"
                ]
               }
              ],
              "x": [
               [
                1960,
                1970,
                1980,
                1990,
                2000,
                2010,
                2020,
                2021,
                2022,
                2023,
                2024,
                2025,
                2026,
                2027,
                2028,
                2029,
                2030
               ]
              ],
              "y": [
               [
                4579603,
                4928757,
                5123027,
                5140939,
                5339616,
                5547683,
                5831404,
                5856733,
                5903037,
                5946952,
                5905101.532226801,
                5924991.9597770795,
                5944882.387327358,
                5964772.814877637,
                5984663.242427915,
                6004553.669978194,
                6024444.097528473
               ]
              ]
             },
             {
              "title": "<b>Population of Denmark</b>",
              "title_text": "<b>Population of Denmark</b>"
             }
            ],
            "label": "Denmark",
            "method": "update"
           },
           {
            "args": [
             {
              "marker": [
               {
                "color": [
                 "blue",
                 "blue",
                 "blue",
                 "blue",
                 "blue",
                 "blue",
                 "blue",
                 "blue",
                 "blue",
                 "blue",
                 "red",
                 "red",
                 "red",
                 "red",
                 "red",
                 "red",
                 "red"
                ]
               }
              ],
              "x": [
               [
                1960,
                1970,
                1980,
                1990,
                2000,
                2010,
                2020,
                2021,
                2022,
                2023,
                2024,
                2025,
                2026,
                2027,
                2028,
                2029,
                2030
               ]
              ],
              "y": [
               [
                3268336,
                4399290,
                5729037,
                7151166,
                8584190,
                9820175,
                11008300,
                11123476,
                11230734,
                11331265,
                11539049.693199277,
                11669150.2175107,
                11799250.741822153,
                11929351.266133606,
                12059451.79044503,
                12189552.314756483,
                12319652.839067936
               ]
              ]
             },
             {
              "title": "<b>Population of Dominican Republic</b>",
              "title_text": "<b>Population of Dominican Republic</b>"
             }
            ],
            "label": "Dominican Republic",
            "method": "update"
           },
           {
            "args": [
             {
              "marker": [
               {
                "color": [
                 "blue",
                 "blue",
                 "blue",
                 "blue",
                 "blue",
                 "blue",
                 "blue",
                 "blue",
                 "blue",
                 "blue",
                 "red",
                 "red",
                 "red",
                 "red",
                 "red",
                 "red",
                 "red"
                ]
               }
              ],
              "x": [
               [
                1960,
                1970,
                1980,
                1990,
                2000,
                2010,
                2020,
                2021,
                2022,
                2023,
                2024,
                2025,
                2026,
                2027,
                2028,
                2029,
                2030
               ]
              ],
              "y": [
               [
                11424922,
                13783719,
                18607174,
                25375810,
                30903893,
                36188236,
                44042091,
                44761099,
                45477389,
                46164219,
                45839026.182376385,
                46419606.960342646,
                47000187.73830891,
                47580768.51627517,
                48161349.29424143,
                48741930.07220769,
                49322510.85017395
               ]
              ]
             },
             {
              "title": "<b>Population of Algeria</b>",
              "title_text": "<b>Population of Algeria</b>"
             }
            ],
            "label": "Algeria",
            "method": "update"
           },
           {
            "args": [
             {
              "marker": [
               {
                "color": [
                 "blue",
                 "blue",
                 "blue",
                 "blue",
                 "blue",
                 "blue",
                 "blue",
                 "blue",
                 "blue",
                 "blue",
                 "red",
                 "red",
                 "red",
                 "red",
                 "red",
                 "red",
                 "red"
                ]
               }
              ],
              "x": [
               [
                1960,
                1970,
                1980,
                1990,
                2000,
                2010,
                2020,
                2021,
                2022,
                2023,
                2024,
                2025,
                2026,
                2027,
                2028,
                2029,
                2030
               ]
              ],
              "y": [
               [
                895961535,
                1116395242,
                1356226475,
                1600739173,
                1819011507,
                1973602166,
                2121866294,
                2128553744,
                2133560408,
                2137527754,
                2208350928.4659576,
                2228023325.9522705,
                2247695723.4385757,
                2267368120.9248886,
                2287040518.411194,
                2306712915.8975067,
                2326385313.3838196
               ]
              ]
             },
             {
              "title": "<b>Population of East Asia & Pacific (excluding high income)</b>",
              "title_text": "<b>Population of East Asia & Pacific (excluding high income)</b>"
             }
            ],
            "label": "East Asia & Pacific (excluding high income)",
            "method": "update"
           },
           {
            "args": [
             {
              "marker": [
               {
                "color": [
                 "blue",
                 "blue",
                 "blue",
                 "blue",
                 "blue",
                 "blue",
                 "blue",
                 "blue",
                 "blue",
                 "blue",
                 "red",
                 "red",
                 "red",
                 "red",
                 "red",
                 "red",
                 "red"
                ]
               }
              ],
              "x": [
               [
                1960,
                1970,
                1980,
                1990,
                2000,
                2010,
                2020,
                2021,
                2022,
                2023,
                2024,
                2025,
                2026,
                2027,
                2028,
                2029,
                2030
               ]
              ],
              "y": [
               [
                968909356,
                1245960808,
                1591961664,
                2044241467,
                2509431470,
                2967104472,
                3396051187,
                3432026092,
                3470644834,
                3511076811,
                3540565213.149643,
                3582648180.2418365,
                3624731147.33403,
                3666814114.4262238,
                3708897081.5184326,
                3750980048.610626,
                3793063015.70282
               ]
              ]
             },
             {
              "title": "<b>Population of Early-demographic dividend</b>",
              "title_text": "<b>Population of Early-demographic dividend</b>"
             }
            ],
            "label": "Early-demographic dividend",
            "method": "update"
           },
           {
            "args": [
             {
              "marker": [
               {
                "color": [
                 "blue",
                 "blue",
                 "blue",
                 "blue",
                 "blue",
                 "blue",
                 "blue",
                 "blue",
                 "blue",
                 "blue",
                 "red",
                 "red",
                 "red",
                 "red",
                 "red",
                 "red",
                 "red"
                ]
               }
              ],
              "x": [
               [
                1960,
                1970,
                1980,
                1990,
                2000,
                2010,
                2020,
                2021,
                2022,
                2023,
                2024,
                2025,
                2026,
                2027,
                2028,
                2029,
                2030
               ]
              ],
              "y": [
               [
                1042838451,
                1288720409,
                1555055134,
                1817735540,
                2050149617,
                2214613815,
                2369438682,
                2375144416,
                2379648296,
                2384463611,
                2463851266.2263565,
                2485001695.2889175,
                2506152124.351471,
                2527302553.4140244,
                2548452982.4765778,
                2569603411.539139,
                2590753840.601692
               ]
              ]
             },
             {
              "title": "<b>Population of East Asia & Pacific</b>",
              "title_text": "<b>Population of East Asia & Pacific</b>"
             }
            ],
            "label": "East Asia & Pacific",
            "method": "update"
           },
           {
            "args": [
             {
              "marker": [
               {
                "color": [
                 "blue",
                 "blue",
                 "blue",
                 "blue",
                 "blue",
                 "blue",
                 "blue",
                 "blue",
                 "blue",
                 "blue",
                 "red",
                 "red",
                 "red",
                 "red",
                 "red",
                 "red",
                 "red"
                ]
               }
              ],
              "x": [
               [
                1960,
                1970,
                1980,
                1990,
                2000,
                2010,
                2020,
                2021,
                2022,
                2023,
                2024,
                2025,
                2026,
                2027,
                2028,
                2029,
                2030
               ]
              ],
              "y": [
               [
                128810451,
                155918823,
                181309432,
                208212866,
                218486597.5,
                230106440,
                250655325.5,
                252183790,
                250834021.5,
                249146208,
                257749591.13991165,
                259601361.45507193,
                261453131.77023268,
                263304902.08539295,
                265156672.40055323,
                267008442.7157135,
                268860213.0308738
               ]
              ]
             },
             {
              "title": "<b>Population of Europe & Central Asia (excluding high income)</b>",
              "title_text": "<b>Population of Europe & Central Asia (excluding high income)</b>"
             }
            ],
            "label": "Europe & Central Asia (excluding high income)",
            "method": "update"
           },
           {
            "args": [
             {
              "marker": [
               {
                "color": [
                 "blue",
                 "blue",
                 "blue",
                 "blue",
                 "blue",
                 "blue",
                 "blue",
                 "blue",
                 "blue",
                 "blue",
                 "red",
                 "red",
                 "red",
                 "red",
                 "red",
                 "red",
                 "red"
                ]
               }
              ],
              "x": [
               [
                1960,
                1970,
                1980,
                1990,
                2000,
                2010,
                2020,
                2021,
                2022,
                2023,
                2024,
                2025,
                2026,
                2027,
                2028,
                2029,
                2030
               ]
              ],
              "y": [
               [
                667887811,
                738724073,
                795362835,
                845290251,
                865392493.5,
                890448752,
                925088545.5,
                925075848,
                925385334.5,
                924969865,
                942149287.1337748,
                945911037.3913059,
                949672787.648838,
                953434537.9063692,
                957196288.1639013,
                960958038.4214325,
                964719788.6789646
               ]
              ]
             },
             {
              "title": "<b>Population of Europe & Central Asia</b>",
              "title_text": "<b>Population of Europe & Central Asia</b>"
             }
            ],
            "label": "Europe & Central Asia",
            "method": "update"
           },
           {
            "args": [
             {
              "marker": [
               {
                "color": [
                 "blue",
                 "blue",
                 "blue",
                 "blue",
                 "blue",
                 "blue",
                 "blue",
                 "blue",
                 "blue",
                 "blue",
                 "red",
                 "red",
                 "red",
                 "red",
                 "red",
                 "red",
                 "red"
                ]
               }
              ],
              "x": [
               [
                1960,
                1970,
                1980,
                1990,
                2000,
                2010,
                2020,
                2021,
                2022,
                2023,
                2024,
                2025,
                2026,
                2027,
                2028,
                2029,
                2030
               ]
              ],
              "y": [
               [
                4590891,
                6155387,
                8165877,
                10473673,
                12689206,
                15076695,
                17546065,
                17682454,
                17823897,
                17980083,
                18206532.443017542,
                18427356.608714998,
                18648180.774412453,
                18869004.94010991,
                19089829.105807304,
                19310653.27150476,
                19531477.437202215
               ]
              ]
             },
             {
              "title": "<b>Population of Ecuador</b>",
              "title_text": "<b>Population of Ecuador</b>"
             }
            ],
            "label": "Ecuador",
            "method": "update"
           },
           {
            "args": [
             {
              "marker": [
               {
                "color": [
                 "blue",
                 "blue",
                 "blue",
                 "blue",
                 "blue",
                 "blue",
                 "blue",
                 "blue",
                 "blue",
                 "blue",
                 "red",
                 "red",
                 "red",
                 "red",
                 "red",
                 "red",
                 "red"
                ]
               }
              ],
              "x": [
               [
                1960,
                1970,
                1980,
                1990,
                2000,
                2010,
                2020,
                2021,
                2022,
                2023,
                2024,
                2025,
                2026,
                2027,
                2028,
                2029,
                2030
               ]
              ],
              "y": [
               [
                26896479,
                34623990,
                43950413,
                58396618,
                73083284,
                89196072,
                109315124,
                110957008,
                112618250,
                114535772,
                113088000.63718653,
                114552373.5731368,
                116016746.50908709,
                117481119.44503689,
                118945492.38098717,
                120409865.31693745,
                121874238.25288773
               ]
              ]
             },
             {
              "title": "<b>Population of Egypt, Arab Rep.</b>",
              "title_text": "<b>Population of Egypt, Arab Rep.</b>"
             }
            ],
            "label": "Egypt, Arab Rep.",
            "method": "update"
           },
           {
            "args": [
             {
              "marker": [
               {
                "color": [
                 "blue",
                 "blue",
                 "blue",
                 "blue",
                 "blue",
                 "blue",
                 "blue",
                 "blue",
                 "blue",
                 "blue",
                 "red",
                 "red",
                 "red",
                 "red",
                 "red",
                 "red",
                 "red"
                ]
               }
              ],
              "x": [
               [
                1960,
                1970,
                1980,
                1990,
                2000,
                2010,
                2020,
                2021,
                2022,
                2023,
                2024,
                2025,
                2026,
                2027,
                2028,
                2029,
                2030
               ]
              ],
              "y": [
               [
                270148970,
                291834356,
                306894340,
                316087007,
                325789631,
                340460814,
                346922366,
                347094588,
                348627172,
                349670802,
                352840037.6417899,
                354007538.99596167,
                355175040.3501334,
                356342541.7043052,
                357510043.0584769,
                358677544.4126487,
                359845045.76681995
               ]
              ]
             },
             {
              "title": "<b>Population of Euro area</b>",
              "title_text": "<b>Population of Euro area</b>"
             }
            ],
            "label": "Euro area",
            "method": "update"
           },
           {
            "args": [
             {
              "marker": [
               {
                "color": [
                 "blue",
                 "blue",
                 "blue",
                 "blue",
                 "blue",
                 "blue",
                 "blue",
                 "blue",
                 "blue",
                 "blue",
                 "red",
                 "red",
                 "red",
                 "red",
                 "red",
                 "red",
                 "red"
                ]
               }
              ],
              "x": [
               [
                1960,
                1970,
                1980,
                1990,
                2000,
                2010,
                2020,
                2021,
                2022,
                2023,
                2024,
                2025,
                2026,
                2027,
                2028,
                2029,
                2030
               ]
              ],
              "y": [
               [
                972547,
                1243453,
                1605797,
                2032737,
                2247031,
                2945186,
                3291271,
                3350183,
                3409447,
                3470390,
                3450247.2330183387,
                3490962.1114207357,
                3531676.989823118,
                3572391.868225515,
                3613106.746627897,
                3653821.625030294,
                3694536.503432691
               ]
              ]
             },
             {
              "title": "<b>Population of Eritrea</b>",
              "title_text": "<b>Population of Eritrea</b>"
             }
            ],
            "label": "Eritrea",
            "method": "update"
           },
           {
            "args": [
             {
              "marker": [
               {
                "color": [
                 "blue",
                 "blue",
                 "blue",
                 "blue",
                 "blue",
                 "blue",
                 "blue",
                 "blue",
                 "blue",
                 "blue",
                 "red",
                 "red",
                 "red",
                 "red",
                 "red",
                 "red",
                 "red"
                ]
               }
              ],
              "x": [
               [
                1960,
                1970,
                1980,
                1990,
                2000,
                2010,
                2020,
                2021,
                2022,
                2023,
                2024,
                2025,
                2026,
                2027,
                2028,
                2029,
                2030
               ]
              ],
              "y": [
               [
                30455000,
                33814531,
                37491165,
                38867322,
                40567864,
                46576897,
                47365655,
                47415794,
                47759127,
                48347910,
                48605385.03840566,
                48881584.15883219,
                49157783.27925861,
                49433982.399685025,
                49710181.52011156,
                49986380.64053798,
                50262579.76096439
               ]
              ]
             },
             {
              "title": "<b>Population of Spain</b>",
              "title_text": "<b>Population of Spain</b>"
             }
            ],
            "label": "Spain",
            "method": "update"
           },
           {
            "args": [
             {
              "marker": [
               {
                "color": [
                 "blue",
                 "blue",
                 "blue",
                 "blue",
                 "blue",
                 "blue",
                 "blue",
                 "blue",
                 "blue",
                 "blue",
                 "red",
                 "red",
                 "red",
                 "red",
                 "red",
                 "red",
                 "red"
                ]
               }
              ],
              "x": [
               [
                1960,
                1970,
                1980,
                1990,
                2000,
                2010,
                2020,
                2021,
                2022,
                2023,
                2024,
                2025,
                2026,
                2027,
                2028,
                2029,
                2030
               ]
              ],
              "y": [
               [
                1211537,
                1360076,
                1477219,
                1569174,
                1396985,
                1331475,
                1329522,
                1330932,
                1348840,
                1370286,
                1372783.734351022,
                1372791.075922785,
                1372798.4174945483,
                1372805.7590663114,
                1372813.1006380746,
                1372820.442209838,
                1372827.783781601
               ]
              ]
             },
             {
              "title": "<b>Population of Estonia</b>",
              "title_text": "<b>Population of Estonia</b>"
             }
            ],
            "label": "Estonia",
            "method": "update"
           },
           {
            "args": [
             {
              "marker": [
               {
                "color": [
                 "blue",
                 "blue",
                 "blue",
                 "blue",
                 "blue",
                 "blue",
                 "blue",
                 "blue",
                 "blue",
                 "blue",
                 "red",
                 "red",
                 "red",
                 "red",
                 "red",
                 "red",
                 "red"
                ]
               }
              ],
              "x": [
               [
                1960,
                1970,
                1980,
                1990,
                2000,
                2010,
                2020,
                2021,
                2022,
                2023,
                2024,
                2025,
                2026,
                2027,
                2028,
                2029,
                2030
               ]
              ],
              "y": [
               [
                21376693,
                27829128,
                34428514,
                47609755,
                67411494,
                90538514,
                118917671,
                122138588,
                125384287,
                128691692,
                122903526.92254257,
                124726104.5177288,
                126548682.11291504,
                128371259.70810127,
                130193837.3032875,
                132016414.89847326,
                133838992.4936595
               ]
              ]
             },
             {
              "title": "<b>Population of Ethiopia</b>",
              "title_text": "<b>Population of Ethiopia</b>"
             }
            ],
            "label": "Ethiopia",
            "method": "update"
           },
           {
            "args": [
             {
              "marker": [
               {
                "color": [
                 "blue",
                 "blue",
                 "blue",
                 "blue",
                 "blue",
                 "blue",
                 "blue",
                 "blue",
                 "blue",
                 "blue",
                 "red",
                 "red",
                 "red",
                 "red",
                 "red",
                 "red",
                 "red"
                ]
               }
              ],
              "x": [
               [
                1960,
                1970,
                1980,
                1990,
                2000,
                2010,
                2020,
                2021,
                2022,
                2023,
                2024,
                2025,
                2026,
                2027,
                2028,
                2029,
                2030
               ]
              ],
              "y": [
               [
                357710931,
                386406167,
                407986180,
                420525030,
                429339162,
                441546320,
                447653554,
                446564156,
                447847220,
                448804042,
                454722493.0907848,
                456004633.1272924,
                457286773.1638,
                458568913.20030713,
                459851053.23681474,
                461133193.27332234,
                462415333.30982995
               ]
              ]
             },
             {
              "title": "<b>Population of European Union</b>",
              "title_text": "<b>Population of European Union</b>"
             }
            ],
            "label": "European Union",
            "method": "update"
           },
           {
            "args": [
             {
              "marker": [
               {
                "color": [
                 "blue",
                 "blue",
                 "blue",
                 "blue",
                 "blue",
                 "blue",
                 "blue",
                 "blue",
                 "blue",
                 "blue",
                 "red",
                 "red",
                 "red",
                 "red",
                 "red",
                 "red",
                 "red"
                ]
               }
              ],
              "x": [
               [
                1960,
                1970,
                1980,
                1990,
                2000,
                2010,
                2020,
                2021,
                2022,
                2023,
                2024,
                2025,
                2026,
                2027,
                2028,
                2029,
                2030
               ]
              ],
              "y": [
               [
                245446477,
                306107595,
                387280079,
                488697502,
                622883185,
                793160547,
                996691242,
                1018693078,
                1038158122,
                1058789534,
                1028641189.3777962,
                1042290798.1186905,
                1055940406.8595848,
                1069590015.6004791,
                1083239624.3413696,
                1096889233.082264,
                1110538841.8231583
               ]
              ]
             },
             {
              "title": "<b>Population of Fragile and conflict affected situations</b>",
              "title_text": "<b>Population of Fragile and conflict affected situations</b>"
             }
            ],
            "label": "Fragile and conflict affected situations",
            "method": "update"
           },
           {
            "args": [
             {
              "marker": [
               {
                "color": [
                 "blue",
                 "blue",
                 "blue",
                 "blue",
                 "blue",
                 "blue",
                 "blue",
                 "blue",
                 "blue",
                 "blue",
                 "red",
                 "red",
                 "red",
                 "red",
                 "red",
                 "red",
                 "red"
                ]
               }
              ],
              "x": [
               [
                1960,
                1970,
                1980,
                1990,
                2000,
                2010,
                2020,
                2021,
                2022,
                2023,
                2024,
                2025,
                2026,
                2027,
                2028,
                2029,
                2030
               ]
              ],
              "y": [
               [
                4429634,
                4606307,
                4779535,
                4986431,
                5176209,
                5363352,
                5529543,
                5541017,
                5556106,
                5583911,
                5603756.059647851,
                5622139.32028915,
                5640522.5809304565,
                5658905.841571763,
                5677289.10221307,
                5695672.362854376,
                5714055.623495676
               ]
              ]
             },
             {
              "title": "<b>Population of Finland</b>",
              "title_text": "<b>Population of Finland</b>"
             }
            ],
            "label": "Finland",
            "method": "update"
           },
           {
            "args": [
             {
              "marker": [
               {
                "color": [
                 "blue",
                 "blue",
                 "blue",
                 "blue",
                 "blue",
                 "blue",
                 "blue",
                 "blue",
                 "blue",
                 "blue",
                 "red",
                 "red",
                 "red",
                 "red",
                 "red",
                 "red",
                 "red"
                ]
               }
              ],
              "x": [
               [
                1960,
                1970,
                1980,
                1990,
                2000,
                2010,
                2020,
                2021,
                2022,
                2023,
                2024,
                2025,
                2026,
                2027,
                2028,
                2029,
                2030
               ]
              ],
              "y": [
               [
                404887,
                531188,
                641975,
                773316,
                840909,
                910419,
                914963,
                916711,
                919422,
                924145,
                967698.0338825639,
                975481.006582668,
                983263.979282774,
                991046.9519828781,
                998829.9246829823,
                1006612.8973830882,
                1014395.8700831924
               ]
              ]
             },
             {
              "title": "<b>Population of Fiji</b>",
              "title_text": "<b>Population of Fiji</b>"
             }
            ],
            "label": "Fiji",
            "method": "update"
           },
           {
            "args": [
             {
              "marker": [
               {
                "color": [
                 "blue",
                 "blue",
                 "blue",
                 "blue",
                 "blue",
                 "blue",
                 "blue",
                 "blue",
                 "blue",
                 "blue",
                 "red",
                 "red",
                 "red",
                 "red",
                 "red",
                 "red",
                 "red"
                ]
               }
              ],
              "x": [
               [
                1960,
                1970,
                1980,
                1990,
                2000,
                2010,
                2020,
                2021,
                2022,
                2023,
                2024,
                2025,
                2026,
                2027,
                2028,
                2029,
                2030
               ]
              ],
              "y": [
               [
                47412964,
                52007169,
                55274184,
                58261012,
                60918661,
                65026211,
                67601110,
                67842811,
                68065015,
                68287487,
                68925498.16347623,
                69247458.6455859,
                69569419.12769568,
                69891379.60980535,
                70213340.09191501,
                70535300.57402468,
                70857261.05613434
               ]
              ]
             },
             {
              "title": "<b>Population of France</b>",
              "title_text": "<b>Population of France</b>"
             }
            ],
            "label": "France",
            "method": "update"
           },
           {
            "args": [
             {
              "marker": [
               {
                "color": [
                 "blue",
                 "blue",
                 "blue",
                 "blue",
                 "blue",
                 "blue",
                 "blue",
                 "blue",
                 "blue",
                 "blue",
                 "red",
                 "red",
                 "red",
                 "red",
                 "red",
                 "red",
                 "red"
                ]
               }
              ],
              "x": [
               [
                1960,
                1970,
                1980,
                1990,
                2000,
                2010,
                2020,
                2021,
                2022,
                2023,
                2024,
                2025,
                2026,
                2027,
                2028,
                2029,
                2030
               ]
              ],
              "y": [
               [
                34127,
                38269,
                43072,
                47740,
                45754,
                48657,
                52571,
                53315,
                53952,
                54482,
                54261.15277441242,
                54550.79428156046,
                54840.435788708506,
                55130.07729585655,
                55419.718803004595,
                55709.36031015264,
                55999.00181730068
               ]
              ]
             },
             {
              "title": "<b>Population of Faroe Islands</b>",
              "title_text": "<b>Population of Faroe Islands</b>"
             }
            ],
            "label": "Faroe Islands",
            "method": "update"
           },
           {
            "args": [
             {
              "marker": [
               {
                "color": [
                 "blue",
                 "blue",
                 "blue",
                 "blue",
                 "blue",
                 "blue",
                 "blue",
                 "blue",
                 "blue",
                 "blue",
                 "red",
                 "red",
                 "red",
                 "red",
                 "red",
                 "red",
                 "red"
                ]
               }
              ],
              "x": [
               [
                1960,
                1970,
                1980,
                1990,
                2000,
                2010,
                2020,
                2021,
                2022,
                2023,
                2024,
                2025,
                2026,
                2027,
                2028,
                2029,
                2030
               ]
              ],
              "y": [
               [
                43061,
                58922,
                77407,
                100888,
                112044,
                107540,
                110916,
                111624,
                112114,
                112630,
                119479.9811808418,
                120494.95581940073,
                121509.93045795988,
                122524.90509651904,
                123539.87973507796,
                124554.85437363712,
                125569.82901219628
               ]
              ]
             },
             {
              "title": "<b>Population of Micronesia, Fed. Sts.</b>",
              "title_text": "<b>Population of Micronesia, Fed. Sts.</b>"
             }
            ],
            "label": "Micronesia, Fed. Sts.",
            "method": "update"
           },
           {
            "args": [
             {
              "marker": [
               {
                "color": [
                 "blue",
                 "blue",
                 "blue",
                 "blue",
                 "blue",
                 "blue",
                 "blue",
                 "blue",
                 "blue",
                 "blue",
                 "red",
                 "red",
                 "red",
                 "red",
                 "red",
                 "red",
                 "red"
                ]
               }
              ],
              "x": [
               [
                1960,
                1970,
                1980,
                1990,
                2000,
                2010,
                2020,
                2021,
                2022,
                2023,
                2024,
                2025,
                2026,
                2027,
                2028,
                2029,
                2030
               ]
              ],
              "y": [
               [
                512316,
                595846,
                748389,
                983734,
                1275572,
                1719879,
                2322539,
                2376722,
                2430747,
                2484789,
                2368804.011428803,
                2402564.2864873707,
                2436324.5615459234,
                2470084.836604476,
                2503845.1116630286,
                2537605.386721596,
                2571365.6617801487
               ]
              ]
             },
             {
              "title": "<b>Population of Gabon</b>",
              "title_text": "<b>Population of Gabon</b>"
             }
            ],
            "label": "Gabon",
            "method": "update"
           },
           {
            "args": [
             {
              "marker": [
               {
                "color": [
                 "blue",
                 "blue",
                 "blue",
                 "blue",
                 "blue",
                 "blue",
                 "blue",
                 "blue",
                 "blue",
                 "blue",
                 "red",
                 "red",
                 "red",
                 "red",
                 "red",
                 "red",
                 "red"
                ]
               }
              ],
              "x": [
               [
                1960,
                1970,
                1980,
                1990,
                2000,
                2010,
                2020,
                2021,
                2022,
                2023,
                2024,
                2025,
                2026,
                2027,
                2028,
                2029,
                2030
               ]
              ],
              "y": [
               [
                52400000,
                55663250,
                56314216,
                57247586,
                58892514,
                62766365,
                67081234,
                67026292,
                67791000,
                68350000,
                67369230.9720136,
                67615787.74545681,
                67862344.51889998,
                68108901.29234314,
                68355458.0657863,
                68602014.83922952,
                68848571.61267269
               ]
              ]
             },
             {
              "title": "<b>Population of United Kingdom</b>",
              "title_text": "<b>Population of United Kingdom</b>"
             }
            ],
            "label": "United Kingdom",
            "method": "update"
           },
           {
            "args": [
             {
              "marker": [
               {
                "color": [
                 "blue",
                 "blue",
                 "blue",
                 "blue",
                 "blue",
                 "blue",
                 "blue",
                 "blue",
                 "blue",
                 "blue",
                 "red",
                 "red",
                 "red",
                 "red",
                 "red",
                 "red",
                 "red"
                ]
               }
              ],
              "x": [
               [
                1960,
                1970,
                1980,
                1990,
                2000,
                2010,
                2020,
                2021,
                2022,
                2023,
                2024,
                2025,
                2026,
                2027,
                2028,
                2029,
                2030
               ]
              ],
              "y": [
               [
                3645600,
                4119900,
                4467700,
                4802000,
                4077131,
                3786695,
                3722716,
                3708610,
                3712502,
                3715483,
                3810494.521888379,
                3803718.326064132,
                3796942.1302398853,
                3790165.9344156384,
                3783389.7385913916,
                3776613.5427671447,
                3769837.346942898
               ]
              ]
             },
             {
              "title": "<b>Population of Georgia</b>",
              "title_text": "<b>Population of Georgia</b>"
             }
            ],
            "label": "Georgia",
            "method": "update"
           },
           {
            "args": [
             {
              "marker": [
               {
                "color": [
                 "blue",
                 "blue",
                 "blue",
                 "blue",
                 "blue",
                 "blue",
                 "blue",
                 "blue",
                 "blue",
                 "blue",
                 "red",
                 "red",
                 "red",
                 "red",
                 "red",
                 "red",
                 "red"
                ]
               }
              ],
              "x": [
               [
                1960,
                1970,
                1980,
                1990,
                2000,
                2010,
                2020,
                2021,
                2022,
                2023,
                2024,
                2025,
                2026,
                2027,
                2028,
                2029,
                2030
               ]
              ],
              "y": [
               [
                6961215,
                8925813,
                11941448,
                15394648,
                19637087,
                25474995,
                31887809,
                32518665,
                33149152,
                33787914,
                32958194.14554572,
                33408617.077740192,
                33859040.009934664,
                34309462.942129135,
                34759885.874323726,
                35210308.8065182,
                35660731.73871267
               ]
              ]
             },
             {
              "title": "<b>Population of Ghana</b>",
              "title_text": "<b>Population of Ghana</b>"
             }
            ],
            "label": "Ghana",
            "method": "update"
           },
           {
            "args": [
             {
              "marker": [
               {
                "color": [
                 "blue",
                 "blue",
                 "blue",
                 "blue",
                 "blue",
                 "blue",
                 "blue",
                 "blue",
                 "blue",
                 "blue",
                 "red",
                 "red",
                 "red",
                 "red",
                 "red",
                 "red",
                 "red"
                ]
               }
              ],
              "x": [
               [
                1960,
                1970,
                1980,
                1990,
                2000,
                2010,
                2020,
                2021,
                2022,
                2023,
                2024,
                2025,
                2026,
                2027,
                2028,
                2029,
                2030
               ]
              ],
              "y": [
               [
                21839,
                26634,
                28675,
                27200,
                27709,
                31248,
                36173,
                36858,
                37609,
                38471,
                36804.44624828361,
                37032.431750262505,
                37260.41725224134,
                37488.40275422018,
                37716.38825619902,
                37944.373758177855,
                38172.35926015669
               ]
              ]
             },
             {
              "title": "<b>Population of Gibraltar</b>",
              "title_text": "<b>Population of Gibraltar</b>"
             }
            ],
            "label": "Gibraltar",
            "method": "update"
           },
           {
            "args": [
             {
              "marker": [
               {
                "color": [
                 "blue",
                 "blue",
                 "blue",
                 "blue",
                 "blue",
                 "blue",
                 "blue",
                 "blue",
                 "blue",
                 "blue",
                 "red",
                 "red",
                 "red",
                 "red",
                 "red",
                 "red",
                 "red"
                ]
               }
              ],
              "x": [
               [
                1960,
                1970,
                1980,
                1990,
                2000,
                2010,
                2020,
                2021,
                2022,
                2023,
                2024,
                2025,
                2026,
                2027,
                2028,
                2029,
                2030
               ]
              ],
              "y": [
               [
                3556749,
                4277535,
                5047419,
                6434374,
                8428832,
                10396086,
                13371183,
                13710513,
                14055137,
                14405468,
                13809585.138599515,
                13991603.808214247,
                14173622.47782898,
                14355641.147443712,
                14537659.817058444,
                14719678.486673176,
                14901697.156287909
               ]
              ]
             },
             {
              "title": "<b>Population of Guinea</b>",
              "title_text": "<b>Population of Guinea</b>"
             }
            ],
            "label": "Guinea",
            "method": "update"
           },
           {
            "args": [
             {
              "marker": [
               {
                "color": [
                 "blue",
                 "blue",
                 "blue",
                 "blue",
                 "blue",
                 "blue",
                 "blue",
                 "blue",
                 "blue",
                 "blue",
                 "red",
                 "red",
                 "red",
                 "red",
                 "red",
                 "red",
                 "red"
                ]
               }
              ],
              "x": [
               [
                1960,
                1970,
                1980,
                1990,
                2000,
                2010,
                2020,
                2021,
                2022,
                2023,
                2024,
                2025,
                2026,
                2027,
                2028,
                2029,
                2030
               ]
              ],
              "y": [
               [
                398060,
                524105,
                713913,
                1054696,
                1455084,
                1926630,
                2515733,
                2576010,
                2636470,
                2697845,
                2604977.3039334416,
                2644121.6770454645,
                2683266.0501575023,
                2722410.423269525,
                2761554.796381548,
                2800699.169493571,
                2839843.5426056087
               ]
              ]
             },
             {
              "title": "<b>Population of Gambia, The</b>",
              "title_text": "<b>Population of Gambia, The</b>"
             }
            ],
            "label": "Gambia, The",
            "method": "update"
           },
           {
            "args": [
             {
              "marker": [
               {
                "color": [
                 "blue",
                 "blue",
                 "blue",
                 "blue",
                 "blue",
                 "blue",
                 "blue",
                 "blue",
                 "blue",
                 "blue",
                 "red",
                 "red",
                 "red",
                 "red",
                 "red",
                 "red",
                 "red"
                ]
               }
              ],
              "x": [
               [
                1960,
                1970,
                1980,
                1990,
                2000,
                2010,
                2020,
                2021,
                2022,
                2023,
                2024,
                2025,
                2026,
                2027,
                2028,
                2029,
                2030
               ]
              ],
              "y": [
               [
                577633,
                584403,
                829303,
                973669,
                1234741,
                1566347,
                2013255,
                2058841,
                2105529,
                2153339,
                2068390.3655601367,
                2095385.6264437512,
                2122380.887327358,
                2149376.1482109725,
                2176371.409094587,
                2203366.669978194,
                2230361.9308618084
               ]
              ]
             },
             {
              "title": "<b>Population of Guinea-Bissau</b>",
              "title_text": "<b>Population of Guinea-Bissau</b>"
             }
            ],
            "label": "Guinea-Bissau",
            "method": "update"
           },
           {
            "args": [
             {
              "marker": [
               {
                "color": [
                 "blue",
                 "blue",
                 "blue",
                 "blue",
                 "blue",
                 "blue",
                 "blue",
                 "blue",
                 "blue",
                 "blue",
                 "red",
                 "red",
                 "red",
                 "red",
                 "red",
                 "red",
                 "red"
                ]
               }
              ],
              "x": [
               [
                1960,
                1970,
                1980,
                1990,
                2000,
                2010,
                2020,
                2021,
                2022,
                2023,
                2024,
                2025,
                2026,
                2027,
                2028,
                2029,
                2030
               ]
              ],
              "y": [
               [
                269807,
                320803,
                288644,
                474274,
                703279,
                1189085,
                1716468,
                1758786,
                1803545,
                1847549,
                1719813.2560374811,
                1747788.2255472094,
                1775763.195056945,
                1803738.1645666808,
                1831713.134076409,
                1859688.1035861447,
                1887663.073095873
               ]
              ]
             },
             {
              "title": "<b>Population of Equatorial Guinea</b>",
              "title_text": "<b>Population of Equatorial Guinea</b>"
             }
            ],
            "label": "Equatorial Guinea",
            "method": "update"
           },
           {
            "args": [
             {
              "marker": [
               {
                "color": [
                 "blue",
                 "blue",
                 "blue",
                 "blue",
                 "blue",
                 "blue",
                 "blue",
                 "blue",
                 "blue",
                 "blue",
                 "red",
                 "red",
                 "red",
                 "red",
                 "red",
                 "red",
                 "red"
                ]
               }
              ],
              "x": [
               [
                1960,
                1970,
                1980,
                1990,
                2000,
                2010,
                2020,
                2021,
                2022,
                2023,
                2024,
                2025,
                2026,
                2027,
                2028,
                2029,
                2030
               ]
              ],
              "y": [
               [
                8331725,
                8792806,
                9642505,
                10196792,
                10805808,
                11121341,
                10698599,
                10569207,
                10436882,
                10405588,
                10911132.968055889,
                10944370.987238511,
                10977609.006421134,
                11010847.025603741,
                11044085.044786364,
                11077323.063968986,
                11110561.083151609
               ]
              ]
             },
             {
              "title": "<b>Population of Greece</b>",
              "title_text": "<b>Population of Greece</b>"
             }
            ],
            "label": "Greece",
            "method": "update"
           },
           {
            "args": [
             {
              "marker": [
               {
                "color": [
                 "blue",
                 "blue",
                 "blue",
                 "blue",
                 "blue",
                 "blue",
                 "blue",
                 "blue",
                 "blue",
                 "blue",
                 "red",
                 "red",
                 "red",
                 "red",
                 "red",
                 "red",
                 "red"
                ]
               }
              ],
              "x": [
               [
                1960,
                1970,
                1980,
                1990,
                2000,
                2010,
                2020,
                2021,
                2022,
                2023,
                2024,
                2025,
                2026,
                2027,
                2028,
                2029,
                2030
               ]
              ],
              "y": [
               [
                94058,
                98414,
                94538,
                99957,
                107451,
                111586,
                116341,
                116688,
                116913,
                117081,
                117068.89706001128,
                117469.15103788057,
                117869.40501574997,
                118269.65899361926,
                118669.91297148855,
                119070.16694935784,
                119470.42092722724
               ]
              ]
             },
             {
              "title": "<b>Population of Grenada</b>",
              "title_text": "<b>Population of Grenada</b>"
             }
            ],
            "label": "Grenada",
            "method": "update"
           },
           {
            "args": [
             {
              "marker": [
               {
                "color": [
                 "blue",
                 "blue",
                 "blue",
                 "blue",
                 "blue",
                 "blue",
                 "blue",
                 "blue",
                 "blue",
                 "blue",
                 "red",
                 "red",
                 "red",
                 "red",
                 "red",
                 "red",
                 "red"
                ]
               }
              ],
              "x": [
               [
                1960,
                1970,
                1980,
                1990,
                2000,
                2010,
                2020,
                2021,
                2022,
                2023,
                2024,
                2025,
                2026,
                2027,
                2028,
                2029,
                2030
               ]
              ],
              "y": [
               [
                32500,
                46400,
                50200,
                55600,
                56200,
                56905,
                56367,
                56653,
                56661,
                56865,
                59324.29347387131,
                59606.63746870204,
                59888.981463532895,
                60171.32545836363,
                60453.66945319448,
                60736.013448025216,
                61018.35744285607
               ]
              ]
             },
             {
              "title": "<b>Population of Greenland</b>",
              "title_text": "<b>Population of Greenland</b>"
             }
            ],
            "label": "Greenland",
            "method": "update"
           },
           {
            "args": [
             {
              "marker": [
               {
                "color": [
                 "blue",
                 "blue",
                 "blue",
                 "blue",
                 "blue",
                 "blue",
                 "blue",
                 "blue",
                 "blue",
                 "blue",
                 "red",
                 "red",
                 "red",
                 "red",
                 "red",
                 "red",
                 "red"
                ]
               }
              ],
              "x": [
               [
                1960,
                1970,
                1980,
                1990,
                2000,
                2010,
                2020,
                2021,
                2022,
                2023,
                2024,
                2025,
                2026,
                2027,
                2028,
                2029,
                2030
               ]
              ],
              "y": [
               [
                4063655,
                5396966,
                6900212,
                9024773,
                11697592,
                14500112,
                17357325,
                17598650,
                17847877,
                18124838,
                18003564.976011693,
                18239317.638962984,
                18475070.301914275,
                18710822.964865565,
                18946575.627816856,
                19182328.290768147,
                19418080.953719437
               ]
              ]
             },
             {
              "title": "<b>Population of Guatemala</b>",
              "title_text": "<b>Population of Guatemala</b>"
             }
            ],
            "label": "Guatemala",
            "method": "update"
           },
           {
            "args": [
             {
              "marker": [
               {
                "color": [
                 "blue",
                 "blue",
                 "blue",
                 "blue",
                 "blue",
                 "blue",
                 "blue",
                 "blue",
                 "blue",
                 "blue",
                 "red",
                 "red",
                 "red",
                 "red",
                 "red",
                 "red",
                 "red"
                ]
               }
              ],
              "x": [
               [
                1960,
                1970,
                1980,
                1990,
                2000,
                2010,
                2020,
                2021,
                2022,
                2023,
                2024,
                2025,
                2026,
                2027,
                2028,
                2029,
                2030
               ]
              ],
              "y": [
               [
                69525,
                88365,
                110141,
                138610,
                160065,
                166522,
                162158,
                163730,
                165180,
                166506,
                175272.04934981046,
                176755.3218641472,
                178238.59437848348,
                179721.86689282022,
                181205.1394071565,
                182688.41192149324,
                184171.68443582952
               ]
              ]
             },
             {
              "title": "<b>Population of Guam</b>",
              "title_text": "<b>Population of Guam</b>"
             }
            ],
            "label": "Guam",
            "method": "update"
           },
           {
            "args": [
             {
              "marker": [
               {
                "color": [
                 "blue",
                 "blue",
                 "blue",
                 "blue",
                 "blue",
                 "blue",
                 "blue",
                 "blue",
                 "blue",
                 "blue",
                 "red",
                 "red",
                 "red",
                 "red",
                 "red",
                 "red",
                 "red"
                ]
               }
              ],
              "x": [
               [
                1960,
                1970,
                1980,
                1990,
                2000,
                2010,
                2020,
                2021,
                2022,
                2023,
                2024,
                2025,
                2026,
                2027,
                2028,
                2029,
                2030
               ]
              ],
              "y": [
               [
                569143,
                702705,
                774367,
                749894,
                764832,
                749256,
                807481,
                815482,
                821637,
                826353,
                827331.81972377,
                830168.5746304821,
                833005.3295371942,
                835842.0844439063,
                838678.8393506175,
                841515.5942573296,
                844352.3491640417
               ]
              ]
             },
             {
              "title": "<b>Population of Guyana</b>",
              "title_text": "<b>Population of Guyana</b>"
             }
            ],
            "label": "Guyana",
            "method": "update"
           },
           {
            "args": [
             {
              "marker": [
               {
                "color": [
                 "blue",
                 "blue",
                 "blue",
                 "blue",
                 "blue",
                 "blue",
                 "blue",
                 "blue",
                 "blue",
                 "blue",
                 "red",
                 "red",
                 "red",
                 "red",
                 "red",
                 "red",
                 "red"
                ]
               }
              ],
              "x": [
               [
                1960,
                1970,
                1980,
                1990,
                2000,
                2010,
                2020,
                2021,
                2022,
                2023,
                2024,
                2025,
                2026,
                2027,
                2028,
                2029,
                2030
               ]
              ],
              "y": [
               [
                906950090,
                1009961393,
                1101614544,
                1179067863,
                1251758606,
                1323506149,
                1389524835,
                1387107942,
                1393036569,
                1400465513,
                1419303214.888054,
                1426885340.4818268,
                1434467466.0755997,
                1442049591.6693726,
                1449631717.2631454,
                1457213842.8569183,
                1464795968.4506912
               ]
              ]
             },
             {
              "title": "<b>Population of High income</b>",
              "title_text": "<b>Population of High income</b>"
             }
            ],
            "label": "High income",
            "method": "update"
           },
           {
            "args": [
             {
              "marker": [
               {
                "color": [
                 "blue",
                 "blue",
                 "blue",
                 "blue",
                 "blue",
                 "blue",
                 "blue",
                 "blue",
                 "blue",
                 "blue",
                 "red",
                 "red",
                 "red",
                 "red",
                 "red",
                 "red",
                 "red"
                ]
               }
              ],
              "x": [
               [
                1960,
                1970,
                1980,
                1990,
                2000,
                2010,
                2020,
                2021,
                2022,
                2023,
                2024,
                2025,
                2026,
                2027,
                2028,
                2029,
                2030
               ]
              ],
              "y": [
               [
                3114671,
                3959000,
                5063100,
                5704500,
                6665000,
                7024200,
                7481000,
                7413100,
                7346100,
                7536100,
                7773013.629553348,
                7840322.503715366,
                7907631.377877384,
                7974940.252039403,
                8042249.126201421,
                8109558.000363439,
                8176866.874525458
               ]
              ]
             },
             {
              "title": "<b>Population of Hong Kong SAR, China</b>",
              "title_text": "<b>Population of Hong Kong SAR, China</b>"
             }
            ],
            "label": "Hong Kong SAR, China",
            "method": "update"
           },
           {
            "args": [
             {
              "marker": [
               {
                "color": [
                 "blue",
                 "blue",
                 "blue",
                 "blue",
                 "blue",
                 "blue",
                 "blue",
                 "blue",
                 "blue",
                 "blue",
                 "red",
                 "red",
                 "red",
                 "red",
                 "red",
                 "red",
                 "red"
                ]
               }
              ],
              "x": [
               [
                1960,
                1970,
                1980,
                1990,
                2000,
                2010,
                2020,
                2021,
                2022,
                2023,
                2024,
                2025,
                2026,
                2027,
                2028,
                2029,
                2030
               ]
              ],
              "y": [
               [
                2062060,
                2750715,
                3727173,
                4980488,
                6577773,
                8365878,
                10119640,
                10289877,
                10463872,
                10644851,
                10524991.94261372,
                10669531.255835593,
                10814070.569057465,
                10958609.882279336,
                11103149.195501208,
                11247688.50872308,
                11392227.821944952
               ]
              ]
             },
             {
              "title": "<b>Population of Honduras</b>",
              "title_text": "<b>Population of Honduras</b>"
             }
            ],
            "label": "Honduras",
            "method": "update"
           },
           {
            "args": [
             {
              "marker": [
               {
                "color": [
                 "blue",
                 "blue",
                 "blue",
                 "blue",
                 "blue",
                 "blue",
                 "blue",
                 "blue",
                 "blue",
                 "blue",
                 "red",
                 "red",
                 "red",
                 "red",
                 "red",
                 "red",
                 "red"
                ]
               }
              ],
              "x": [
               [
                1960,
                1970,
                1980,
                1990,
                2000,
                2010,
                2020,
                2021,
                2022,
                2023,
                2024,
                2025,
                2026,
                2027,
                2028,
                2029,
                2030
               ]
              ],
              "y": [
               [
                163650527,
                211549510,
                277128014,
                361657937,
                481984327,
                638796398,
                847743308,
                870930036,
                893906294,
                917304254,
                874941047.6171951,
                887583506.1056061,
                900225964.5940132,
                912868423.0824242,
                925510881.5708351,
                938153340.0592422,
                950795798.5476532
               ]
              ]
             },
             {
              "title": "<b>Population of Heavily indebted poor countries (HIPC)</b>",
              "title_text": "<b>Population of Heavily indebted poor countries (HIPC)</b>"
             }
            ],
            "label": "Heavily indebted poor countries (HIPC)",
            "method": "update"
           },
           {
            "args": [
             {
              "marker": [
               {
                "color": [
                 "blue",
                 "blue",
                 "blue",
                 "blue",
                 "blue",
                 "blue",
                 "blue",
                 "blue",
                 "blue",
                 "blue",
                 "red",
                 "red",
                 "red",
                 "red",
                 "red",
                 "red",
                 "red"
                ]
               }
              ],
              "x": [
               [
                1960,
                1970,
                1980,
                1990,
                2000,
                2010,
                2020,
                2021,
                2022,
                2023,
                2024,
                2025,
                2026,
                2027,
                2028,
                2029,
                2030
               ]
              ],
              "y": [
               [
                4140181,
                4412252,
                4599782,
                4777368,
                4468302,
                4295427,
                3914206,
                3878981,
                3855641,
                3859686,
                4000592.8548582494,
                3991593.2751393244,
                3982593.695420403,
                3973594.115701478,
                3964594.535982553,
                3955594.956263628,
                3946595.3765447065
               ]
              ]
             },
             {
              "title": "<b>Population of Croatia</b>",
              "title_text": "<b>Population of Croatia</b>"
             }
            ],
            "label": "Croatia",
            "method": "update"
           },
           {
            "args": [
             {
              "marker": [
               {
                "color": [
                 "blue",
                 "blue",
                 "blue",
                 "blue",
                 "blue",
                 "blue",
                 "blue",
                 "blue",
                 "blue",
                 "blue",
                 "red",
                 "red",
                 "red",
                 "red",
                 "red",
                 "red",
                 "red"
                ]
               }
              ],
              "x": [
               [
                1960,
                1970,
                1980,
                1990,
                2000,
                2010,
                2020,
                2021,
                2022,
                2023,
                2024,
                2025,
                2026,
                2027,
                2028,
                2029,
                2030
               ]
              ],
              "y": [
               [
                3858443,
                4635124,
                5614493,
                6854441,
                8303151,
                9803294,
                11243848,
                11374586,
                11503606,
                11637398,
                11647001.34900254,
                11776680.15838787,
                11906358.967773229,
                12036037.777158588,
                12165716.586543918,
                12295395.395929277,
                12425074.205314606
               ]
              ]
             },
             {
              "title": "<b>Population of Haiti</b>",
              "title_text": "<b>Population of Haiti</b>"
             }
            ],
            "label": "Haiti",
            "method": "update"
           },
           {
            "args": [
             {
              "marker": [
               {
                "color": [
                 "blue",
                 "blue",
                 "blue",
                 "blue",
                 "blue",
                 "blue",
                 "blue",
                 "blue",
                 "blue",
                 "blue",
                 "red",
                 "red",
                 "red",
                 "red",
                 "red",
                 "red",
                 "red"
                ]
               }
              ],
              "x": [
               [
                1960,
                1970,
                1980,
                1990,
                2000,
                2010,
                2020,
                2021,
                2022,
                2023,
                2024,
                2025,
                2026,
                2027,
                2028,
                2029,
                2030
               ]
              ],
              "y": [
               [
                9983967,
                10337910,
                10711122,
                10373988,
                10210971,
                10000023,
                9750149,
                9709891,
                9644377,
                9592186,
                9757399.488975044,
                9746167.566392057,
                9734935.643809065,
                9723703.721226074,
                9712471.798643086,
                9701239.876060095,
                9690007.953477103
               ]
              ]
             },
             {
              "title": "<b>Population of Hungary</b>",
              "title_text": "<b>Population of Hungary</b>"
             }
            ],
            "label": "Hungary",
            "method": "update"
           },
           {
            "args": [
             {
              "marker": [
               {
                "color": [
                 "blue",
                 "blue",
                 "blue",
                 "blue",
                 "blue",
                 "blue",
                 "blue",
                 "blue",
                 "blue",
                 "blue",
                 "red",
                 "red",
                 "red",
                 "red",
                 "red",
                 "red",
                 "red"
                ]
               }
              ],
              "x": [
               [
                1960,
                1970,
                1980,
                1990,
                2000,
                2010,
                2020,
                2021,
                2022,
                2023,
                2024,
                2025,
                2026,
                2027,
                2028,
                2029,
                2030
               ]
              ],
              "y": [
               [
                1893700976,
                2346056161,
                2869277824,
                3455533853,
                3983328255,
                4436714947,
                4879367453,
                4905899020,
                4928694202,
                4952574126,
                5070770961.76355,
                5120183104.389099,
                5169595247.014648,
                5219007389.640213,
                5268419532.265762,
                5317831674.891327,
                5367243817.516876
               ]
              ]
             },
             {
              "title": "<b>Population of IBRD only</b>",
              "title_text": "<b>Population of IBRD only</b>"
             }
            ],
            "label": "IBRD only",
            "method": "update"
           },
           {
            "args": [
             {
              "marker": [
               {
                "color": [
                 "blue",
                 "blue",
                 "blue",
                 "blue",
                 "blue",
                 "blue",
                 "blue",
                 "blue",
                 "blue",
                 "blue",
                 "red",
                 "red",
                 "red",
                 "red",
                 "red",
                 "red",
                 "red"
                ]
               }
              ],
              "x": [
               [
                1960,
                1970,
                1980,
                1990,
                2000,
                2010,
                2020,
                2021,
                2022,
                2023,
                2024,
                2025,
                2026,
                2027,
                2028,
                2029,
                2030
               ]
              ],
              "y": [
               [
                2289188361,
                2859123476,
                3536954994,
                4330689753,
                5116723506.5,
                5876645582,
                6667541078.5,
                6733337540,
                6795222291.5,
                6858957145,
                6928440962.054504,
                7003113199.321075,
                7077785436.5876465,
                7152457673.854218,
                7227129911.120819,
                7301802148.38739,
                7376474385.653961
               ]
              ]
             },
             {
              "title": "<b>Population of IDA & IBRD total</b>",
              "title_text": "<b>Population of IDA & IBRD total</b>"
             }
            ],
            "label": "IDA & IBRD total",
            "method": "update"
           },
           {
            "args": [
             {
              "marker": [
               {
                "color": [
                 "blue",
                 "blue",
                 "blue",
                 "blue",
                 "blue",
                 "blue",
                 "blue",
                 "blue",
                 "blue",
                 "blue",
                 "red",
                 "red",
                 "red",
                 "red",
                 "red",
                 "red",
                 "red"
                ]
               }
              ],
              "x": [
               [
                1960,
                1970,
                1980,
                1990,
                2000,
                2010,
                2020,
                2021,
                2022,
                2023,
                2024,
                2025,
                2026,
                2027,
                2028,
                2029,
                2030
               ]
              ],
              "y": [
               [
                395487385,
                513067315,
                667677170,
                875155900,
                1133395251.5,
                1439930635,
                1788173625.5,
                1827438520,
                1866528089.5,
                1906383019,
                1857670000.2909546,
                1882930094.931984,
                1908190189.5730057,
                1933450284.2140274,
                1958710378.8550491,
                1983970473.4960709,
                2009230568.1370926
               ]
              ]
             },
             {
              "title": "<b>Population of IDA total</b>",
              "title_text": "<b>Population of IDA total</b>"
             }
            ],
            "label": "IDA total",
            "method": "update"
           },
           {
            "args": [
             {
              "marker": [
               {
                "color": [
                 "blue",
                 "blue",
                 "blue",
                 "blue",
                 "blue",
                 "blue",
                 "blue",
                 "blue",
                 "blue",
                 "blue",
                 "red",
                 "red",
                 "red",
                 "red",
                 "red",
                 "red",
                 "red"
                ]
               }
              ],
              "x": [
               [
                1960,
                1970,
                1980,
                1990,
                2000,
                2010,
                2020,
                2021,
                2022,
                2023,
                2024,
                2025,
                2026,
                2027,
                2028,
                2029,
                2030
               ]
              ],
              "y": [
               [
                120801801,
                157440950,
                211331419,
                288176590,
                376430953,
                485934443,
                597524859,
                609556583,
                621500917,
                633230238,
                621187161.1504326,
                629834467.9475822,
                638481774.7447319,
                647129081.5418777,
                655776388.3390274,
                664423695.1361771,
                673071001.9333267
               ]
              ]
             },
             {
              "title": "<b>Population of IDA blend</b>",
              "title_text": "<b>Population of IDA blend</b>"
             }
            ],
            "label": "IDA blend",
            "method": "update"
           },
           {
            "args": [
             {
              "marker": [
               {
                "color": [
                 "blue",
                 "blue",
                 "blue",
                 "blue",
                 "blue",
                 "blue",
                 "blue",
                 "blue",
                 "blue",
                 "blue",
                 "red",
                 "red",
                 "red",
                 "red",
                 "red",
                 "red",
                 "red"
                ]
               }
              ],
              "x": [
               [
                1960,
                1970,
                1980,
                1990,
                2000,
                2010,
                2020,
                2021,
                2022,
                2023,
                2024,
                2025,
                2026,
                2027,
                2028,
                2029,
                2030
               ]
              ],
              "y": [
               [
                88296070,
                115657495,
                148950540,
                183501098,
                216077790,
                246305322,
                274814866,
                276758053,
                278830529,
                281190067,
                286919779.3309908,
                290029680.8199663,
                293139582.3089409,
                296249483.7979164,
                299359385.286891,
                302469286.7758665,
                305579188.2648411
               ]
              ]
             },
             {
              "title": "<b>Population of Indonesia</b>",
              "title_text": "<b>Population of Indonesia</b>"
             }
            ],
            "label": "Indonesia",
            "method": "update"
           },
           {
            "args": [
             {
              "marker": [
               {
                "color": [
                 "blue",
                 "blue",
                 "blue",
                 "blue",
                 "blue",
                 "blue",
                 "blue",
                 "blue",
                 "blue",
                 "blue",
                 "red",
                 "red",
                 "red",
                 "red",
                 "red",
                 "red",
                 "red"
                ]
               }
              ],
              "x": [
               [
                1960,
                1970,
                1980,
                1990,
                2000,
                2010,
                2020,
                2021,
                2022,
                2023,
                2024,
                2025,
                2026,
                2027,
                2028,
                2029,
                2030
               ]
              ],
              "y": [
               [
                274685584,
                355626365,
                456345751,
                586979310,
                756964298.5,
                953996192,
                1190648766.5,
                1217881937,
                1245027172.5,
                1273152781,
                1236482839.1405182,
                1253095626.9843903,
                1269708414.8282661,
                1286321202.6721382,
                1302933990.516014,
                1319546778.3598862,
                1336159566.2037582
               ]
              ]
             },
             {
              "title": "<b>Population of IDA only</b>",
              "title_text": "<b>Population of IDA only</b>"
             }
            ],
            "label": "IDA only",
            "method": "update"
           },
           {
            "args": [
             {
              "marker": [
               {
                "color": [
                 "blue",
                 "blue",
                 "blue",
                 "blue",
                 "blue",
                 "blue",
                 "blue",
                 "blue",
                 "blue",
                 "blue",
                 "red",
                 "red",
                 "red",
                 "red",
                 "red",
                 "red",
                 "red"
                ]
               }
              ],
              "x": [
               [
                1960,
                1970,
                1980,
                1990,
                2000,
                2010,
                2020,
                2021,
                2022,
                2023,
                2024,
                2025,
                2026,
                2027,
                2028,
                2029,
                2030
               ]
              ],
              "y": [
               [
                48868,
                55300,
                64076,
                68916,
                75659,
                83873,
                84064,
                84106,
                84132,
                84165,
                87021.55500363442,
                87583.2621759146,
                88144.96934819478,
                88706.67652047472,
                89268.3836927549,
                89830.09086503508,
                90391.79803731502
               ]
              ]
             },
             {
              "title": "<b>Population of Isle of Man</b>",
              "title_text": "<b>Population of Isle of Man</b>"
             }
            ],
            "label": "Isle of Man",
            "method": "update"
           },
           {
            "args": [
             {
              "marker": [
               {
                "color": [
                 "blue",
                 "blue",
                 "blue",
                 "blue",
                 "blue",
                 "blue",
                 "blue",
                 "blue",
                 "blue",
                 "blue",
                 "red",
                 "red",
                 "red",
                 "red",
                 "red",
                 "red",
                 "red"
                ]
               }
              ],
              "x": [
               [
                1960,
                1970,
                1980,
                1990,
                2000,
                2010,
                2020,
                2021,
                2022,
                2023,
                2024,
                2025,
                2026,
                2027,
                2028,
                2029,
                2030
               ]
              ],
              "y": [
               [
                435990338,
                545864268,
                687354025,
                864972221,
                1057922733,
                1243481564,
                1402617695,
                1414203896,
                1425423212,
                1438069596,
                1458623076.107586,
                1475304761.407074,
                1491986446.7065659,
                1508668132.0060577,
                1525349817.3055496,
                1542031502.6050415,
                1558713187.9045296
               ]
              ]
             },
             {
              "title": "<b>Population of India</b>",
              "title_text": "<b>Population of India</b>"
             }
            ],
            "label": "India",
            "method": "update"
           },
           {
            "args": [
             {
              "marker": [
               {
                "color": [
                 "blue",
                 "blue",
                 "blue",
                 "blue",
                 "blue",
                 "blue",
                 "blue",
                 "blue",
                 "blue",
                 "blue",
                 "red",
                 "red",
                 "red",
                 "red",
                 "red",
                 "red",
                 "red"
                ]
               }
              ],
              "x": [
               [
                1960,
                1970,
                1980,
                1990,
                2000,
                2010,
                2020,
                2021,
                2022,
                2023,
                2024,
                2025,
                2026,
                2027,
                2028,
                2029,
                2030
               ]
              ],
              "y": [
               [
                2828600,
                2957250,
                3412800,
                3513974,
                3805174,
                4560155,
                4985382,
                5033164,
                5165700,
                5307600,
                5132982.430457965,
                5172982.534165263,
                5212982.637872562,
                5252982.741579846,
                5292982.845287144,
                5332982.948994443,
                5372983.052701727
               ]
              ]
             },
             {
              "title": "<b>Population of Ireland</b>",
              "title_text": "<b>Population of Ireland</b>"
             }
            ],
            "label": "Ireland",
            "method": "update"
           },
           {
            "args": [
             {
              "marker": [
               {
                "color": [
                 "blue",
                 "blue",
                 "blue",
                 "blue",
                 "blue",
                 "blue",
                 "blue",
                 "blue",
                 "blue",
                 "blue",
                 "red",
                 "red",
                 "red",
                 "red",
                 "red",
                 "red",
                 "red"
                ]
               }
              ],
              "x": [
               [
                1960,
                1970,
                1980,
                1990,
                2000,
                2010,
                2020,
                2021,
                2022,
                2023,
                2024,
                2025,
                2026,
                2027,
                2028,
                2029,
                2030
               ]
              ],
              "y": [
               [
                21470434,
                29145100,
                39842324,
                58380092,
                66418659,
                77420842,
                87723443,
                88455488,
                89524246,
                90608707,
                92418423.41801977,
                93546271.36547947,
                94674119.31293917,
                95801967.26039934,
                96929815.20785904,
                98057663.15531874,
                99185511.10277843
               ]
              ]
             },
             {
              "title": "<b>Population of Iran, Islamic Rep.</b>",
              "title_text": "<b>Population of Iran, Islamic Rep.</b>"
             }
            ],
            "label": "Iran, Islamic Rep.",
            "method": "update"
           },
           {
            "args": [
             {
              "marker": [
               {
                "color": [
                 "blue",
                 "blue",
                 "blue",
                 "blue",
                 "blue",
                 "blue",
                 "blue",
                 "blue",
                 "blue",
                 "blue",
                 "red",
                 "red",
                 "red",
                 "red",
                 "red",
                 "red",
                 "red"
                ]
               }
              ],
              "x": [
               [
                1960,
                1970,
                1980,
                1990,
                2000,
                2010,
                2020,
                2021,
                2022,
                2023,
                2024,
                2025,
                2026,
                2027,
                2028,
                2029,
                2030
               ]
              ],
              "y": [
               [
                7022052,
                9735611,
                13591992,
                17581206,
                24424056,
                31045366,
                42116605,
                43071211,
                44070551,
                45074049,
                43312859.57656908,
                43949728.00593662,
                44586596.4353044,
                45223464.864671946,
                45860333.29403949,
                46497201.72340703,
                47134070.15277457
               ]
              ]
             },
             {
              "title": "<b>Population of Iraq</b>",
              "title_text": "<b>Population of Iraq</b>"
             }
            ],
            "label": "Iraq",
            "method": "update"
           },
           {
            "args": [
             {
              "marker": [
               {
                "color": [
                 "blue",
                 "blue",
                 "blue",
                 "blue",
                 "blue",
                 "blue",
                 "blue",
                 "blue",
                 "blue",
                 "blue",
                 "red",
                 "red",
                 "red",
                 "red",
                 "red",
                 "red",
                 "red"
                ]
               }
              ],
              "x": [
               [
                1960,
                1970,
                1980,
                1990,
                2000,
                2010,
                2020,
                2021,
                2022,
                2023,
                2024,
                2025,
                2026,
                2027,
                2028,
                2029,
                2030
               ]
              ],
              "y": [
               [
                175574,
                204438,
                228138,
                254826,
                281205,
                318041,
                366463,
                372520,
                382003,
                393349,
                379970.40267345216,
                383343.9560617078,
                386717.5094499644,
                390091.06283822097,
                393464.6162264766,
                396838.1696147332,
                400211.72300298885
               ]
              ]
             },
             {
              "title": "<b>Population of Iceland</b>",
              "title_text": "<b>Population of Iceland</b>"
             }
            ],
            "label": "Iceland",
            "method": "update"
           },
           {
            "args": [
             {
              "marker": [
               {
                "color": [
                 "blue",
                 "blue",
                 "blue",
                 "blue",
                 "blue",
                 "blue",
                 "blue",
                 "blue",
                 "blue",
                 "blue",
                 "red",
                 "red",
                 "red",
                 "red",
                 "red",
                 "red",
                 "red"
                ]
               }
              ],
              "x": [
               [
                1960,
                1970,
                1980,
                1990,
                2000,
                2010,
                2020,
                2021,
                2022,
                2023,
                2024,
                2025,
                2026,
                2027,
                2028,
                2029,
                2030
               ]
              ],
              "y": [
               [
                2114020,
                2974000,
                3878000,
                4660000,
                6289000,
                7623600,
                9215100,
                9371400,
                9557500,
                9756600,
                9599780.522574931,
                9725020.625959158,
                9850260.729343385,
                9975500.832727581,
                10100740.936111808,
                10225981.039496034,
                10351221.142880231
               ]
              ]
             },
             {
              "title": "<b>Population of Israel</b>",
              "title_text": "<b>Population of Israel</b>"
             }
            ],
            "label": "Israel",
            "method": "update"
           },
           {
            "args": [
             {
              "marker": [
               {
                "color": [
                 "blue",
                 "blue",
                 "blue",
                 "blue",
                 "blue",
                 "blue",
                 "blue",
                 "blue",
                 "blue",
                 "blue",
                 "red",
                 "red",
                 "red",
                 "red",
                 "red",
                 "red",
                 "red"
                ]
               }
              ],
              "x": [
               [
                1960,
                1970,
                1980,
                1990,
                2000,
                2010,
                2020,
                2021,
                2022,
                2023,
                2024,
                2025,
                2026,
                2027,
                2028,
                2029,
                2030
               ]
              ],
              "y": [
               [
                50199700,
                53821850,
                56433883,
                56719240,
                56942108,
                59277417,
                59438851,
                59133173,
                59013667,
                58993475,
                59894228.9501656,
                60012954.054680586,
                60131679.15919557,
                60250404.26371056,
                60369129.368225515,
                60487854.4727405,
                60606579.57725549
               ]
              ]
             },
             {
              "title": "<b>Population of Italy</b>",
              "title_text": "<b>Population of Italy</b>"
             }
            ],
            "label": "Italy",
            "method": "update"
           },
           {
            "args": [
             {
              "marker": [
               {
                "color": [
                 "blue",
                 "blue",
                 "blue",
                 "blue",
                 "blue",
                 "blue",
                 "blue",
                 "blue",
                 "blue",
                 "blue",
                 "red",
                 "red",
                 "red",
                 "red",
                 "red",
                 "red",
                 "red"
                ]
               }
              ],
              "x": [
               [
                1960,
                1970,
                1980,
                1990,
                2000,
                2010,
                2020,
                2021,
                2022,
                2023,
                2024,
                2025,
                2026,
                2027,
                2028,
                2029,
                2030
               ]
              ],
              "y": [
               [
                1650005,
                1878196,
                2145658,
                2379877,
                2607826,
                2748568,
                2830739,
                2837682,
                2839144,
                2839786,
                2930565.451942496,
                2949205.5073499754,
                2967845.562757455,
                2986485.618164934,
                3005125.6735724136,
                3023765.728979893,
                3042405.784387365
               ]
              ]
             },
             {
              "title": "<b>Population of Jamaica</b>",
              "title_text": "<b>Population of Jamaica</b>"
             }
            ],
            "label": "Jamaica",
            "method": "update"
           },
           {
            "args": [
             {
              "marker": [
               {
                "color": [
                 "blue",
                 "blue",
                 "blue",
                 "blue",
                 "blue",
                 "blue",
                 "blue",
                 "blue",
                 "blue",
                 "blue",
                 "red",
                 "red",
                 "red",
                 "red",
                 "red",
                 "red",
                 "red"
                ]
               }
              ],
              "x": [
               [
                1960,
                1970,
                1980,
                1990,
                2000,
                2010,
                2020,
                2021,
                2022,
                2023,
                2024,
                2025,
                2026,
                2027,
                2028,
                2029,
                2030
               ]
              ],
              "y": [
               [
                853471,
                1565163,
                2234186,
                3621908,
                5386945,
                7297043,
                10865228,
                11066356,
                11256263,
                11439213,
                10981193.044261396,
                11162447.775583565,
                11343702.506905735,
                11524957.238227963,
                11706211.969550133,
                11887466.700872302,
                12068721.432194531
               ]
              ]
             },
             {
              "title": "<b>Population of Jordan</b>",
              "title_text": "<b>Population of Jordan</b>"
             }
            ],
            "label": "Jordan",
            "method": "update"
           },
           {
            "args": [
             {
              "marker": [
               {
                "color": [
                 "blue",
                 "blue",
                 "blue",
                 "blue",
                 "blue",
                 "blue",
                 "blue",
                 "blue",
                 "blue",
                 "blue",
                 "red",
                 "red",
                 "red",
                 "red",
                 "red",
                 "red",
                 "red"
                ]
               }
              ],
              "x": [
               [
                1960,
                1970,
                1980,
                1990,
                2000,
                2010,
                2020,
                2021,
                2022,
                2023,
                2024,
                2025,
                2026,
                2027,
                2028,
                2029,
                2030
               ]
              ],
              "y": [
               [
                93216000,
                103403000,
                116807000,
                123478000,
                126843000,
                128070000,
                126261000,
                125681593,
                125124989,
                124516650,
                129871758.43800998,
                130303382.83301032,
                130735007.22801077,
                131166631.62301111,
                131598256.01801157,
                132029880.41301203,
                132461504.80801237
               ]
              ]
             },
             {
              "title": "<b>Population of Japan</b>",
              "title_text": "<b>Population of Japan</b>"
             }
            ],
            "label": "Japan",
            "method": "update"
           },
           {
            "args": [
             {
              "marker": [
               {
                "color": [
                 "blue",
                 "blue",
                 "blue",
                 "blue",
                 "blue",
                 "blue",
                 "blue",
                 "blue",
                 "blue",
                 "blue",
                 "red",
                 "red",
                 "red",
                 "red",
                 "red",
                 "red",
                 "red"
                ]
               }
              ],
              "x": [
               [
                1960,
                1970,
                1980,
                1990,
                2000,
                2010,
                2020,
                2021,
                2022,
                2023,
                2024,
                2025,
                2026,
                2027,
                2028,
                2029,
                2030
               ]
              ],
              "y": [
               [
                9429981,
                12419057,
                15152949,
                17154054,
                15501103,
                16836810,
                19482117,
                19743603,
                20034609,
                20330104,
                20170803.11691302,
                20316801.65858978,
                20462800.20026654,
                20608798.7419433,
                20754797.28362006,
                20900795.82529682,
                21046794.36697358
               ]
              ]
             },
             {
              "title": "<b>Population of Kazakhstan</b>",
              "title_text": "<b>Population of Kazakhstan</b>"
             }
            ],
            "label": "Kazakhstan",
            "method": "update"
           },
           {
            "args": [
             {
              "marker": [
               {
                "color": [
                 "blue",
                 "blue",
                 "blue",
                 "blue",
                 "blue",
                 "blue",
                 "blue",
                 "blue",
                 "blue",
                 "blue",
                 "red",
                 "red",
                 "red",
                 "red",
                 "red",
                 "red",
                 "red"
                ]
               }
              ],
              "x": [
               [
                1960,
                1970,
                1980,
                1990,
                2000,
                2010,
                2020,
                2021,
                2022,
                2023,
                2024,
                2025,
                2026,
                2027,
                2028,
                2029,
                2030
               ]
              ],
              "y": [
               [
                7695307,
                11368791,
                16018459,
                22892651,
                30642890,
                41598567,
                52217334,
                53219166,
                54252461,
                55339003,
                54154294.425288916,
                54958795.717309,
                55763297.00932908,
                56567798.30134916,
                57372299.59336901,
                58176800.88538909,
                58981302.17740917
               ]
              ]
             },
             {
              "title": "<b>Population of Kenya</b>",
              "title_text": "<b>Population of Kenya</b>"
             }
            ],
            "label": "Kenya",
            "method": "update"
           },
           {
            "args": [
             {
              "marker": [
               {
                "color": [
                 "blue",
                 "blue",
                 "blue",
                 "blue",
                 "blue",
                 "blue",
                 "blue",
                 "blue",
                 "blue",
                 "blue",
                 "red",
                 "red",
                 "red",
                 "red",
                 "red",
                 "red",
                 "red"
                ]
               }
              ],
              "x": [
               [
                1960,
                1970,
                1980,
                1990,
                2000,
                2010,
                2020,
                2021,
                2022,
                2023,
                2024,
                2025,
                2026,
                2027,
                2028,
                2029,
                2030
               ]
              ],
              "y": [
               [
                2172300,
                2959900,
                3617400,
                4391236,
                4898361.5,
                5467059,
                6726595.5,
                6851224,
                6975219.5,
                7099750,
                6979957.0508642495,
                7056352.645161957,
                7132748.239459693,
                7209143.8337574005,
                7285539.428055108,
                7361935.022352815,
                7438330.616650552
               ]
              ]
             },
             {
              "title": "<b>Population of Kyrgyz Republic</b>",
              "title_text": "<b>Population of Kyrgyz Republic</b>"
             }
            ],
            "label": "Kyrgyz Republic",
            "method": "update"
           },
           {
            "args": [
             {
              "marker": [
               {
                "color": [
                 "blue",
                 "blue",
                 "blue",
                 "blue",
                 "blue",
                 "blue",
                 "blue",
                 "blue",
                 "blue",
                 "blue",
                 "red",
                 "red",
                 "red",
                 "red",
                 "red",
                 "red",
                 "red"
                ]
               }
              ],
              "x": [
               [
                1960,
                1970,
                1980,
                1990,
                2000,
                2010,
                2020,
                2021,
                2022,
                2023,
                2024,
                2025,
                2026,
                2027,
                2028,
                2029,
                2030
               ]
              ],
              "y": [
               [
                5449966,
                6639182,
                5199872,
                7374752,
                12462336,
                14500726,
                16725474,
                16974305,
                17201724,
                17423880,
                17258269.47706169,
                17473968.156449437,
                17689666.835837185,
                17905365.515224993,
                18121064.19461274,
                18336762.87400055,
                18552461.553388298
               ]
              ]
             },
             {
              "title": "<b>Population of Cambodia</b>",
              "title_text": "<b>Population of Cambodia</b>"
             }
            ],
            "label": "Cambodia",
            "method": "update"
           },
           {
            "args": [
             {
              "marker": [
               {
                "color": [
                 "blue",
                 "blue",
                 "blue",
                 "blue",
                 "blue",
                 "blue",
                 "blue",
                 "blue",
                 "blue",
                 "blue",
                 "red",
                 "red",
                 "red",
                 "red",
                 "red",
                 "red",
                 "red"
                ]
               }
              ],
              "x": [
               [
                1960,
                1970,
                1980,
                1990,
                2000,
                2010,
                2020,
                2021,
                2022,
                2023,
                2024,
                2025,
                2026,
                2027,
                2028,
                2029,
                2030
               ]
              ],
              "y": [
               [
                47157,
                57510,
                61148,
                74855,
                88613,
                108704,
                126099,
                128377,
                130469,
                132530,
                130145.58032469125,
                131563.5877150474,
                132981.59510540357,
                134399.60249575973,
                135817.60988611635,
                137235.6172764725,
                138653.62466682866
               ]
              ]
             },
             {
              "title": "<b>Population of Kiribati</b>",
              "title_text": "<b>Population of Kiribati</b>"
             }
            ],
            "label": "Kiribati",
            "method": "update"
           },
           {
            "args": [
             {
              "marker": [
               {
                "color": [
                 "blue",
                 "blue",
                 "blue",
                 "blue",
                 "blue",
                 "blue",
                 "blue",
                 "blue",
                 "blue",
                 "blue",
                 "red",
                 "red",
                 "red",
                 "red",
                 "red",
                 "red",
                 "red"
                ]
               }
              ],
              "x": [
               [
                1960,
                1970,
                1980,
                1990,
                2000,
                2010,
                2020,
                2021,
                2022,
                2023,
                2024,
                2025,
                2026,
                2027,
                2028,
                2029,
                2030
               ]
              ],
              "y": [
               [
                55810,
                44606,
                42850,
                40432,
                45248,
                46846,
                46870,
                46763,
                46709,
                46758,
                45521.44939827154,
                45489.98420967611,
                45458.51902108069,
                45427.05383248526,
                45395.58864388983,
                45364.1234552944,
                45332.65826669897
               ]
              ]
             },
             {
              "title": "<b>Population of St. Kitts and Nevis</b>",
              "title_text": "<b>Population of St. Kitts and Nevis</b>"
             }
            ],
            "label": "St. Kitts and Nevis",
            "method": "update"
           },
           {
            "args": [
             {
              "marker": [
               {
                "color": [
                 "blue",
                 "blue",
                 "blue",
                 "blue",
                 "blue",
                 "blue",
                 "blue",
                 "blue",
                 "blue",
                 "blue",
                 "red",
                 "red",
                 "red",
                 "red",
                 "red",
                 "red",
                 "red"
                ]
               }
              ],
              "x": [
               [
                1960,
                1970,
                1980,
                1990,
                2000,
                2010,
                2020,
                2021,
                2022,
                2023,
                2024,
                2025,
                2026,
                2027,
                2028,
                2029,
                2030
               ]
              ],
              "y": [
               [
                25012374,
                32240827,
                38123775,
                42869283,
                47008111,
                49554112,
                51836239,
                51769539,
                51672569,
                51712619,
                53853648.365560055,
                54250111.62644374,
                54646574.88732731,
                55043038.148211,
                55439501.40909457,
                55835964.66997814,
                56232427.93086183
               ]
              ]
             },
             {
              "title": "<b>Population of Korea, Rep.</b>",
              "title_text": "<b>Population of Korea, Rep.</b>"
             }
            ],
            "label": "Korea, Rep.",
            "method": "update"
           },
           {
            "args": [
             {
              "marker": [
               {
                "color": [
                 "blue",
                 "blue",
                 "blue",
                 "blue",
                 "blue",
                 "blue",
                 "blue",
                 "blue",
                 "blue",
                 "blue",
                 "red",
                 "red",
                 "red",
                 "red",
                 "red",
                 "red",
                 "red"
                ]
               }
              ],
              "x": [
               [
                1960,
                1970,
                1980,
                1990,
                2000,
                2010,
                2020,
                2021,
                2022,
                2023,
                2024,
                2025,
                2026,
                2027,
                2028,
                2029,
                2030
               ]
              ],
              "y": [
               [
                311060,
                809114,
                1504782,
                1684819,
                1954709,
                2943372,
                4400267,
                4360865,
                4589643,
                4853420,
                4460316.26108554,
                4530771.636539876,
                4601227.011994183,
                4671682.3874485195,
                4742137.762902856,
                4812593.1383571625,
                4883048.513811499
               ]
              ]
             },
             {
              "title": "<b>Population of Kuwait</b>",
              "title_text": "<b>Population of Kuwait</b>"
             }
            ],
            "label": "Kuwait",
            "method": "update"
           },
           {
            "args": [
             {
              "marker": [
               {
                "color": [
                 "blue",
                 "blue",
                 "blue",
                 "blue",
                 "blue",
                 "blue",
                 "blue",
                 "blue",
                 "blue",
                 "blue",
                 "red",
                 "red",
                 "red",
                 "red",
                 "red",
                 "red",
                 "red"
                ]
               }
              ],
              "x": [
               [
                1960,
                1970,
                1980,
                1990,
                2000,
                2010,
                2020,
                2021,
                2022,
                2023,
                2024,
                2025,
                2026,
                2027,
                2028,
                2029,
                2030
               ]
              ],
              "y": [
               [
                194183394,
                254197487,
                321979200,
                395535053,
                466891427,
                527703442,
                583125825,
                586944219,
                590730587,
                594995068,
                609115377.4890556,
                615569754.8369694,
                622024132.1848812,
                628478509.532793,
                634932886.8807049,
                641387264.2286167,
                647841641.5765285
               ]
              ]
             },
             {
              "title": "<b>Population of Latin America & Caribbean (excluding high income)</b>",
              "title_text": "<b>Population of Latin America & Caribbean (excluding high income)</b>"
             }
            ],
            "label": "Latin America & Caribbean (excluding high income)",
            "method": "update"
           },
           {
            "args": [
             {
              "marker": [
               {
                "color": [
                 "blue",
                 "blue",
                 "blue",
                 "blue",
                 "blue",
                 "blue",
                 "blue",
                 "blue",
                 "blue",
                 "blue",
                 "red",
                 "red",
                 "red",
                 "red",
                 "red",
                 "red",
                 "red"
                ]
               }
              ],
              "x": [
               [
                1960,
                1970,
                1980,
                1990,
                2000,
                2010,
                2020,
                2021,
                2022,
                2023,
                2024,
                2025,
                2026,
                2027,
                2028,
                2029,
                2030
               ]
              ],
              "y": [
               [
                2121514,
                2669702,
                3292573,
                4311955,
                5431212,
                6334194,
                7346533,
                7453194,
                7559007,
                7664993,
                7670743.031217158,
                7763048.577578545,
                7855354.123939902,
                7947659.670301259,
                8039965.216662616,
                8132270.7630239725,
                8224576.3093853295
               ]
              ]
             },
             {
              "title": "<b>Population of Lao PDR</b>",
              "title_text": "<b>Population of Lao PDR</b>"
             }
            ],
            "label": "Lao PDR",
            "method": "update"
           },
           {
            "args": [
             {
              "marker": [
               {
                "color": [
                 "blue",
                 "blue",
                 "blue",
                 "blue",
                 "blue",
                 "blue",
                 "blue",
                 "blue",
                 "blue",
                 "blue",
                 "red",
                 "red",
                 "red",
                 "red",
                 "red",
                 "red",
                 "red"
                ]
               }
              ],
              "x": [
               [
                1960,
                1970,
                1980,
                1990,
                2000,
                2010,
                2020,
                2021,
                2022,
                2023,
                2024,
                2025,
                2026,
                2027,
                2028,
                2029,
                2030
               ]
              ],
              "y": [
               [
                1794406,
                2386114,
                2944763,
                3595175,
                4329340,
                5041288,
                5702398,
                5718122,
                5744489,
                5773493,
                5892947.937888697,
                5958111.427146435,
                6023274.916404158,
                6088438.405661896,
                6153601.894919634,
                6218765.384177372,
                6283928.873435095
               ]
              ]
             },
             {
              "title": "<b>Population of Lebanon</b>",
              "title_text": "<b>Population of Lebanon</b>"
             }
            ],
            "label": "Lebanon",
            "method": "update"
           },
           {
            "args": [
             {
              "marker": [
               {
                "color": [
                 "blue",
                 "blue",
                 "blue",
                 "blue",
                 "blue",
                 "blue",
                 "blue",
                 "blue",
                 "blue",
                 "blue",
                 "red",
                 "red",
                 "red",
                 "red",
                 "red",
                 "red",
                 "red"
                ]
               }
              ],
              "x": [
               [
                1960,
                1970,
                1980,
                1990,
                2000,
                2010,
                2020,
                2021,
                2022,
                2023,
                2024,
                2025,
                2026,
                2027,
                2028,
                2029,
                2030
               ]
              ],
              "y": [
               [
                1139522,
                1466676,
                1929253,
                2223667,
                2928117,
                4058890,
                5149463,
                5259323,
                5373294,
                5493031,
                5286558.252483636,
                5359690.820208371,
                5432823.387933105,
                5505955.95565784,
                5579088.523382604,
                5652221.091107339,
                5725353.658832073
               ]
              ]
             },
             {
              "title": "<b>Population of Liberia</b>",
              "title_text": "<b>Population of Liberia</b>"
             }
            ],
            "label": "Liberia",
            "method": "update"
           },
           {
            "args": [
             {
              "marker": [
               {
                "color": [
                 "blue",
                 "blue",
                 "blue",
                 "blue",
                 "blue",
                 "blue",
                 "blue",
                 "blue",
                 "blue",
                 "blue",
                 "red",
                 "red",
                 "red",
                 "red",
                 "red",
                 "red",
                 "red"
                ]
               }
              ],
              "x": [
               [
                1960,
                1970,
                1980,
                1990,
                2000,
                2010,
                2020,
                2021,
                2022,
                2023,
                2024,
                2025,
                2026,
                2027,
                2028,
                2029,
                2030
               ]
              ],
              "y": [
               [
                1492890,
                2082589,
                3424378,
                4445239,
                5305021,
                6497839,
                7045399,
                7135175,
                7223805,
                7305659,
                7503210.9391002655,
                7597776.98578468,
                7692343.032469124,
                7786909.079153568,
                7881475.125837982,
                7976041.172522426,
                8070607.21920687
               ]
              ]
             },
             {
              "title": "<b>Population of Libya</b>",
              "title_text": "<b>Population of Libya</b>"
             }
            ],
            "label": "Libya",
            "method": "update"
           },
           {
            "args": [
             {
              "marker": [
               {
                "color": [
                 "blue",
                 "blue",
                 "blue",
                 "blue",
                 "blue",
                 "blue",
                 "blue",
                 "blue",
                 "blue",
                 "blue",
                 "red",
                 "red",
                 "red",
                 "red",
                 "red",
                 "red",
                 "red"
                ]
               }
              ],
              "x": [
               [
                1960,
                1970,
                1980,
                1990,
                2000,
                2010,
                2020,
                2021,
                2022,
                2023,
                2024,
                2025,
                2026,
                2027,
                2028,
                2029,
                2030
               ]
              ],
              "y": [
               [
                92585,
                103165,
                119290,
                137857,
                158616,
                170906,
                178250,
                178522,
                178781,
                179285,
                184785.26302398834,
                186222.13036103733,
                187658.99769808585,
                189095.86503513483,
                190532.73237218335,
                191969.59970923187,
                193406.46704628086
               ]
              ]
             },
             {
              "title": "<b>Population of St. Lucia</b>",
              "title_text": "<b>Population of St. Lucia</b>"
             }
            ],
            "label": "St. Lucia",
            "method": "update"
           },
           {
            "args": [
             {
              "marker": [
               {
                "color": [
                 "blue",
                 "blue",
                 "blue",
                 "blue",
                 "blue",
                 "blue",
                 "blue",
                 "blue",
                 "blue",
                 "blue",
                 "red",
                 "red",
                 "red",
                 "red",
                 "red",
                 "red",
                 "red"
                ]
               }
              ],
              "x": [
               [
                1960,
                1970,
                1980,
                1990,
                2000,
                2010,
                2020,
                2021,
                2022,
                2023,
                2024,
                2025,
                2026,
                2027,
                2028,
                2029,
                2030
               ]
              ],
              "y": [
               [
                218624695,
                284995920,
                359713036,
                440958144,
                520272118,
                587749565,
                645497618,
                649234475,
                653104771,
                657611624,
                674331857.1322193,
                681403810.4327202,
                688475763.733221,
                695547717.0337219,
                702619670.3342228,
                709691623.6347237,
                716763576.9352245
               ]
              ]
             },
             {
              "title": "<b>Population of Latin America & Caribbean</b>",
              "title_text": "<b>Population of Latin America & Caribbean</b>"
             }
            ],
            "label": "Latin America & Caribbean",
            "method": "update"
           },
           {
            "args": [
             {
              "marker": [
               {
                "color": [
                 "blue",
                 "blue",
                 "blue",
                 "blue",
                 "blue",
                 "blue",
                 "blue",
                 "blue",
                 "blue",
                 "blue",
                 "red",
                 "red",
                 "red",
                 "red",
                 "red",
                 "red",
                 "red"
                ]
               }
              ],
              "x": [
               [
                1960,
                1970,
                1980,
                1990,
                2000,
                2010,
                2020,
                2021,
                2022,
                2023,
                2024,
                2025,
                2026,
                2027,
                2028,
                2029,
                2030
               ]
              ],
              "y": [
               [
                245116608,
                315180138,
                403106107,
                519816817,
                673774120,
                855529920,
                1083853567,
                1109397229,
                1134811909,
                1161055545,
                1123033038.876667,
                1138314548.8306274,
                1153596058.7845917,
                1168877568.738552,
                1184159078.6925125,
                1199440588.6464767,
                1214722098.6004372
               ]
              ]
             },
             {
              "title": "<b>Population of Least developed countries: UN classification</b>",
              "title_text": "<b>Population of Least developed countries: UN classification</b>"
             }
            ],
            "label": "Least developed countries: UN classification",
            "method": "update"
           },
           {
            "args": [
             {
              "marker": [
               {
                "color": [
                 "blue",
                 "blue",
                 "blue",
                 "blue",
                 "blue",
                 "blue",
                 "blue",
                 "blue",
                 "blue",
                 "blue",
                 "red",
                 "red",
                 "red",
                 "red",
                 "red",
                 "red",
                 "red"
                ]
               }
              ],
              "x": [
               [
                1960,
                1970,
                1980,
                1990,
                2000,
                2010,
                2020,
                2021,
                2022,
                2023,
                2024,
                2025,
                2026,
                2027,
                2028,
                2029,
                2030
               ]
              ],
              "y": [
               [
                136125731,
                175246425,
                226852931,
                292948240,
                390079731,
                520054110,
                679560744,
                698215206,
                716865783,
                736466395,
                702719860.6111794,
                712780447.9477043,
                722841035.2842255,
                732901622.6207504,
                742962209.9572754,
                753022797.2937965,
                763083384.6303215
               ]
              ]
             },
             {
              "title": "<b>Population of Low income</b>",
              "title_text": "<b>Population of Low income</b>"
             }
            ],
            "label": "Low income",
            "method": "update"
           },
           {
            "args": [
             {
              "marker": [
               {
                "color": [
                 "blue",
                 "blue",
                 "blue",
                 "blue",
                 "blue",
                 "blue",
                 "blue",
                 "blue",
                 "blue",
                 "blue",
                 "red",
                 "red",
                 "red",
                 "red",
                 "red",
                 "red",
                 "red"
                ]
               }
              ],
              "x": [
               [
                1960,
                1970,
                1980,
                1990,
                2000,
                2010,
                2020,
                2021,
                2022,
                2023,
                2024,
                2025,
                2026,
                2027,
                2028,
                2029,
                2030
               ]
              ],
              "y": [
               [
                16451,
                21140,
                25512,
                28742,
                32645,
                36022,
                38901,
                39182,
                39493,
                39850,
                40582.082465067506,
                40942.25797593093,
                41302.433486794354,
                41662.60899765778,
                42022.7845085212,
                42382.96001938463,
                42743.13553024805
               ]
              ]
             },
             {
              "title": "<b>Population of Liechtenstein</b>",
              "title_text": "<b>Population of Liechtenstein</b>"
             }
            ],
            "label": "Liechtenstein",
            "method": "update"
           },
           {
            "args": [
             {
              "marker": [
               {
                "color": [
                 "blue",
                 "blue",
                 "blue",
                 "blue",
                 "blue",
                 "blue",
                 "blue",
                 "blue",
                 "blue",
                 "blue",
                 "red",
                 "red",
                 "red",
                 "red",
                 "red",
                 "red",
                 "red"
                ]
               }
              ],
              "x": [
               [
                1960,
                1970,
                1980,
                1990,
                2000,
                2010,
                2020,
                2021,
                2022,
                2023,
                2024,
                2025,
                2026,
                2027,
                2028,
                2029,
                2030
               ]
              ],
              "y": [
               [
                9661389,
                12287110,
                14847974,
                16352458,
                19293054,
                20879089,
                21919000,
                22156000,
                22181000,
                22037000,
                22912778.74121642,
                23107507.07487279,
                23302235.408529222,
                23496963.742185593,
                23691692.075842023,
                23886420.409498453,
                24081148.743154824
               ]
              ]
             },
             {
              "title": "<b>Population of Sri Lanka</b>",
              "title_text": "<b>Population of Sri Lanka</b>"
             }
            ],
            "label": "Sri Lanka",
            "method": "update"
           },
           {
            "args": [
             {
              "marker": [
               {
                "color": [
                 "blue",
                 "blue",
                 "blue",
                 "blue",
                 "blue",
                 "blue",
                 "blue",
                 "blue",
                 "blue",
                 "blue",
                 "red",
                 "red",
                 "red",
                 "red",
                 "red",
                 "red",
                 "red"
                ]
               }
              ],
              "x": [
               [
                1960,
                1970,
                1980,
                1990,
                2000,
                2010,
                2020,
                2021,
                2022,
                2023,
                2024,
                2025,
                2026,
                2027,
                2028,
                2029,
                2030
               ]
              ],
              "y": [
               [
                819047154,
                1043648387,
                1331803696,
                1710810036,
                2125376113.5,
                2548857608,
                2966396716.5,
                3004162907,
                3041203716.5,
                3079778780,
                3085967495.094589,
                3123625650.1620026,
                3161283805.2294006,
                3198941960.2967987,
                3236600115.364197,
                3274258270.43161,
                3311916425.499008
               ]
              ]
             },
             {
              "title": "<b>Population of Lower middle income</b>",
              "title_text": "<b>Population of Lower middle income</b>"
             }
            ],
            "label": "Lower middle income",
            "method": "update"
           },
           {
            "args": [
             {
              "marker": [
               {
                "color": [
                 "blue",
                 "blue",
                 "blue",
                 "blue",
                 "blue",
                 "blue",
                 "blue",
                 "blue",
                 "blue",
                 "blue",
                 "red",
                 "red",
                 "red",
                 "red",
                 "red",
                 "red",
                 "red"
                ]
               }
              ],
              "x": [
               [
                1960,
                1970,
                1980,
                1990,
                2000,
                2010,
                2020,
                2021,
                2022,
                2023,
                2024,
                2025,
                2026,
                2027,
                2028,
                2029,
                2030
               ]
              ],
              "y": [
               [
                2106419056,
                2659238723,
                3320729393,
                4100351515,
                4885599511.5,
                5648351983,
                6438169877.5,
                6505838578,
                6568731933.5,
                6633109634,
                6695013780.364929,
                6769126885.27948,
                6843239990.194031,
                6917353095.108582,
                6991466200.023132,
                7065579304.937683,
                7139692409.852234
               ]
              ]
             },
             {
              "title": "<b>Population of Low & middle income</b>",
              "title_text": "<b>Population of Low & middle income</b>"
             }
            ],
            "label": "Low & middle income",
            "method": "update"
           },
           {
            "args": [
             {
              "marker": [
               {
                "color": [
                 "blue",
                 "blue",
                 "blue",
                 "blue",
                 "blue",
                 "blue",
                 "blue",
                 "blue",
                 "blue",
                 "blue",
                 "red",
                 "red",
                 "red",
                 "red",
                 "red",
                 "red",
                 "red"
                ]
               }
              ],
              "x": [
               [
                1960,
                1970,
                1980,
                1990,
                2000,
                2010,
                2020,
                2021,
                2022,
                2023,
                2024,
                2025,
                2026,
                2027,
                2028,
                2029,
                2030
               ]
              ],
              "y": [
               [
                736500,
                1019273,
                1406521,
                1809696,
                2003913,
                1996251,
                2235727,
                2261542,
                2286110,
                2311472,
                2381123.0296825767,
                2404664.936636783,
                2428206.8435909823,
                2451748.750545189,
                2475290.6574993953,
                2498832.5644535944,
                2522374.471407801
               ]
              ]
             },
             {
              "title": "<b>Population of Lesotho</b>",
              "title_text": "<b>Population of Lesotho</b>"
             }
            ],
            "label": "Lesotho",
            "method": "update"
           },
           {
            "args": [
             {
              "marker": [
               {
                "color": [
                 "blue",
                 "blue",
                 "blue",
                 "blue",
                 "blue",
                 "blue",
                 "blue",
                 "blue",
                 "blue",
                 "blue",
                 "red",
                 "red",
                 "red",
                 "red",
                 "red",
                 "red",
                 "red"
                ]
               }
              ],
              "x": [
               [
                1960,
                1970,
                1980,
                1990,
                2000,
                2010,
                2020,
                2021,
                2022,
                2023,
                2024,
                2025,
                2026,
                2027,
                2028,
                2029,
                2030
               ]
              ],
              "y": [
               [
                1094880069,
                1334963829,
                1592439385,
                1844718134,
                2043581321.5,
                2179522412,
                2316785459.5,
                2320366261,
                2324072105.5,
                2326658047,
                2406408646.157158,
                2425613971.7230225,
                2444819297.2888947,
                2464024622.854759,
                2483229948.420624,
                2502435273.986496,
                2521640599.5523605
               ]
              ]
             },
             {
              "title": "<b>Population of Late-demographic dividend</b>",
              "title_text": "<b>Population of Late-demographic dividend</b>"
             }
            ],
            "label": "Late-demographic dividend",
            "method": "update"
           },
           {
            "args": [
             {
              "marker": [
               {
                "color": [
                 "blue",
                 "blue",
                 "blue",
                 "blue",
                 "blue",
                 "blue",
                 "blue",
                 "blue",
                 "blue",
                 "blue",
                 "red",
                 "red",
                 "red",
                 "red",
                 "red",
                 "red",
                 "red"
                ]
               }
              ],
              "x": [
               [
                1960,
                1970,
                1980,
                1990,
                2000,
                2010,
                2020,
                2021,
                2022,
                2023,
                2024,
                2025,
                2026,
                2027,
                2028,
                2029,
                2030
               ]
              ],
              "y": [
               [
                2778550,
                3139689,
                3413202,
                3697838,
                3499536,
                3097282,
                2794885,
                2800839,
                2831639,
                2871585,
                2973399.4503271133,
                2968518.0958323237,
                2963636.741337532,
                2958755.3868427426,
                2953874.032347951,
                2948992.6778531615,
                2944111.323358372
               ]
              ]
             },
             {
              "title": "<b>Population of Lithuania</b>",
              "title_text": "<b>Population of Lithuania</b>"
             }
            ],
            "label": "Lithuania",
            "method": "update"
           },
           {
            "args": [
             {
              "marker": [
               {
                "color": [
                 "blue",
                 "blue",
                 "blue",
                 "blue",
                 "blue",
                 "blue",
                 "blue",
                 "blue",
                 "blue",
                 "blue",
                 "red",
                 "red",
                 "red",
                 "red",
                 "red",
                 "red",
                 "red"
                ]
               }
              ],
              "x": [
               [
                1960,
                1970,
                1980,
                1990,
                2000,
                2010,
                2020,
                2021,
                2022,
                2023,
                2024,
                2025,
                2026,
                2027,
                2028,
                2029,
                2030
               ]
              ],
              "y": [
               [
                313970,
                339171,
                364150,
                381850,
                436300,
                506953,
                630419,
                640064,
                653103,
                666430,
                635889.379290849,
                641735.6243437529,
                647581.8693966568,
                653428.1144495606,
                659274.3595024645,
                665120.6045553684,
                670966.8496082705
               ]
              ]
             },
             {
              "title": "<b>Population of Luxembourg</b>",
              "title_text": "<b>Population of Luxembourg</b>"
             }
            ],
            "label": "Luxembourg",
            "method": "update"
           },
           {
            "args": [
             {
              "marker": [
               {
                "color": [
                 "blue",
                 "blue",
                 "blue",
                 "blue",
                 "blue",
                 "blue",
                 "blue",
                 "blue",
                 "blue",
                 "blue",
                 "red",
                 "red",
                 "red",
                 "red",
                 "red",
                 "red",
                 "red"
                ]
               }
              ],
              "x": [
               [
                1960,
                1970,
                1980,
                1990,
                2000,
                2010,
                2020,
                2021,
                2022,
                2023,
                2024,
                2025,
                2026,
                2027,
                2028,
                2029,
                2030
               ]
              ],
              "y": [
               [
                2120979,
                2359164,
                2511701,
                2663151,
                2367550,
                2097555,
                1900449,
                1884490,
                1879383,
                1877445,
                1965521.8656408992,
                1957297.8970196247,
                1949073.9283983503,
                1940849.9597770758,
                1932625.9911558013,
                1924402.022534527,
                1916178.0539132524
               ]
              ]
             },
             {
              "title": "<b>Population of Latvia</b>",
              "title_text": "<b>Population of Latvia</b>"
             }
            ],
            "label": "Latvia",
            "method": "update"
           },
           {
            "args": [
             {
              "marker": [
               {
                "color": [
                 "blue",
                 "blue",
                 "blue",
                 "blue",
                 "blue",
                 "blue",
                 "blue",
                 "blue",
                 "blue",
                 "blue",
                 "red",
                 "red",
                 "red",
                 "red",
                 "red",
                 "red",
                 "red"
                ]
               }
              ],
              "x": [
               [
                1960,
                1970,
                1980,
                1990,
                2000,
                2010,
                2020,
                2021,
                2022,
                2023,
                2024,
                2025,
                2026,
                2027,
                2028,
                2029,
                2030
               ]
              ],
              "y": [
               [
                173315,
                257396,
                239650,
                334950,
                430600,
                537000,
                685400,
                682500,
                677300,
                678800,
                681574.013205722,
                690257.7391567752,
                698941.4651078284,
                707625.1910588816,
                716308.9170099385,
                724992.6429609917,
                733676.3689120449
               ]
              ]
             },
             {
              "title": "<b>Population of Macao SAR, China</b>",
              "title_text": "<b>Population of Macao SAR, China</b>"
             }
            ],
            "label": "Macao SAR, China",
            "method": "update"
           },
           {
            "args": [
             {
              "marker": [
               {
                "color": [
                 "blue",
                 "blue",
                 "blue",
                 "blue",
                 "blue",
                 "blue",
                 "blue",
                 "blue",
                 "blue",
                 "blue",
                 "red",
                 "red",
                 "red",
                 "red",
                 "red",
                 "red",
                 "red"
                ]
               }
              ],
              "x": [
               [
                1960,
                1970,
                1980,
                1990,
                2000,
                2010,
                2020,
                2021,
                2022,
                2023,
                2024,
                2025,
                2026,
                2027,
                2028,
                2029,
                2030
               ]
              ],
              "y": [
               [
                4250,
                6047,
                8288,
                28224,
                29996,
                36856,
                31786,
                29961,
                28870,
                27515,
                33992.638599467,
                34435.80821419926,
                34878.97782893153,
                35322.147443663795,
                35765.31705839594,
                36208.48667312821,
                36651.656287860475
               ]
              ]
             },
             {
              "title": "<b>Population of St. Martin (French part)</b>",
              "title_text": "<b>Population of St. Martin (French part)</b>"
             }
            ],
            "label": "St. Martin (French part)",
            "method": "update"
           },
           {
            "args": [
             {
              "marker": [
               {
                "color": [
                 "blue",
                 "blue",
                 "blue",
                 "blue",
                 "blue",
                 "blue",
                 "blue",
                 "blue",
                 "blue",
                 "blue",
                 "red",
                 "red",
                 "red",
                 "red",
                 "red",
                 "red",
                 "red"
                ]
               }
              ],
              "x": [
               [
                1960,
                1970,
                1980,
                1990,
                2000,
                2010,
                2020,
                2021,
                2022,
                2023,
                2024,
                2025,
                2026,
                2027,
                2028,
                2029,
                2030
               ]
              ],
              "y": [
               [
                11624933,
                15129449,
                19459943,
                24375551,
                28423435,
                32467016,
                36584208,
                36954442,
                37329064,
                37712505,
                38259994.88651967,
                38680238.34088528,
                39100481.79525077,
                39520725.249616385,
                39940968.703981996,
                40361212.15834749,
                40781455.6127131
               ]
              ]
             },
             {
              "title": "<b>Population of Morocco</b>",
              "title_text": "<b>Population of Morocco</b>"
             }
            ],
            "label": "Morocco",
            "method": "update"
           },
           {
            "args": [
             {
              "marker": [
               {
                "color": [
                 "blue",
                 "blue",
                 "blue",
                 "blue",
                 "blue",
                 "blue",
                 "blue",
                 "blue",
                 "blue",
                 "blue",
                 "red",
                 "red",
                 "red",
                 "red",
                 "red",
                 "red",
                 "red"
                ]
               }
              ],
              "x": [
               [
                1960,
                1970,
                1980,
                1990,
                2000,
                2010,
                2020,
                2021,
                2022,
                2023,
                2024,
                2025,
                2026,
                2027,
                2028,
                2029,
                2030
               ]
              ],
              "y": [
               [
                21808,
                24229,
                27122,
                30358,
                32455,
                33163,
                38050,
                38527,
                38931,
                38956,
                38954.05173249333,
                39224.30385267746,
                39494.55597286171,
                39764.80809304584,
                40035.06021322997,
                40305.3123334141,
                40575.56445359823
               ]
              ]
             },
             {
              "title": "<b>Population of Monaco</b>",
              "title_text": "<b>Population of Monaco</b>"
             }
            ],
            "label": "Monaco",
            "method": "update"
           },
           {
            "args": [
             {
              "marker": [
               {
                "color": [
                 "blue",
                 "blue",
                 "blue",
                 "blue",
                 "blue",
                 "blue",
                 "blue",
                 "blue",
                 "blue",
                 "blue",
                 "red",
                 "red",
                 "red",
                 "red",
                 "red",
                 "red",
                 "red"
                ]
               }
              ],
              "x": [
               [
                1960,
                1970,
                1980,
                1990,
                2000,
                2010,
                2020,
                2021,
                2022,
                2023,
                2024,
                2025,
                2026,
                2027,
                2028,
                2029,
                2030
               ]
              ],
              "y": [
               [
                2058020,
                2437590,
                2708675,
                2977912,
                2924668,
                2862354,
                2635130,
                2595809,
                2528654,
                2457783,
                2712620.705395364,
                2716471.574468944,
                2720322.443542525,
                2724173.312616105,
                2728024.181689686,
                2731875.050763266,
                2735725.919836847
               ]
              ]
             },
             {
              "title": "<b>Population of Moldova</b>",
              "title_text": "<b>Population of Moldova</b>"
             }
            ],
            "label": "Moldova",
            "method": "update"
           },
           {
            "args": [
             {
              "marker": [
               {
                "color": [
                 "blue",
                 "blue",
                 "blue",
                 "blue",
                 "blue",
                 "blue",
                 "blue",
                 "blue",
                 "blue",
                 "blue",
                 "red",
                 "red",
                 "red",
                 "red",
                 "red",
                 "red",
                 "red"
                ]
               }
              ],
              "x": [
               [
                1960,
                1970,
                1980,
                1990,
                2000,
                2010,
                2020,
                2021,
                2022,
                2023,
                2024,
                2025,
                2026,
                2027,
                2028,
                2029,
                2030
               ]
              ],
              "y": [
               [
                5111029,
                6672003,
                9006032,
                12055639,
                16516338,
                22183340,
                28953556,
                29691083,
                30437261,
                31195932,
                29937623.676076293,
                30378418.85542369,
                30819214.034771085,
                31260009.21411848,
                31700804.393465757,
                32141599.572813153,
                32582394.75216055
               ]
              ]
             },
             {
              "title": "<b>Population of Madagascar</b>",
              "title_text": "<b>Population of Madagascar</b>"
             }
            ],
            "label": "Madagascar",
            "method": "update"
           },
           {
            "args": [
             {
              "marker": [
               {
                "color": [
                 "blue",
                 "blue",
                 "blue",
                 "blue",
                 "blue",
                 "blue",
                 "blue",
                 "blue",
                 "blue",
                 "blue",
                 "red",
                 "red",
                 "red",
                 "red",
                 "red",
                 "red",
                 "red"
                ]
               }
              ],
              "x": [
               [
                1960,
                1970,
                1980,
                1990,
                2000,
                2010,
                2020,
                2021,
                2022,
                2023,
                2024,
                2025,
                2026,
                2027,
                2028,
                2029,
                2030
               ]
              ],
              "y": [
               [
                91189,
                123219,
                164835,
                224762,
                282019,
                360792,
                502118,
                516154,
                524106,
                525994,
                511623.4220176097,
                519004.7589855436,
                526386.0959534775,
                533767.4329214133,
                541148.7698893473,
                548530.106857283,
                555911.443825217
               ]
              ]
             },
             {
              "title": "<b>Population of Maldives</b>",
              "title_text": "<b>Population of Maldives</b>"
             }
            ],
            "label": "Maldives",
            "method": "update"
           },
           {
            "args": [
             {
              "marker": [
               {
                "color": [
                 "blue",
                 "blue",
                 "blue",
                 "blue",
                 "blue",
                 "blue",
                 "blue",
                 "blue",
                 "blue",
                 "blue",
                 "red",
                 "red",
                 "red",
                 "red",
                 "red",
                 "red",
                 "red"
                ]
               }
              ],
              "x": [
               [
                1960,
                1970,
                1980,
                1990,
                2000,
                2010,
                2020,
                2021,
                2022,
                2023,
                2024,
                2025,
                2026,
                2027,
                2028,
                2029,
                2030
               ]
              ],
              "y": [
               [
                103189039,
                136112803,
                183887467,
                255077790,
                319840863,
                397305528,
                482334398,
                488100624,
                498070255,
                508311359,
                501919476.9126892,
                508669332.007473,
                515419187.10225487,
                522169042.19703674,
                528918897.2918186,
                535668752.3866005,
                542418607.4813843
               ]
              ]
             },
             {
              "title": "<b>Population of Middle East & North Africa</b>",
              "title_text": "<b>Population of Middle East & North Africa</b>"
             }
            ],
            "label": "Middle East & North Africa",
            "method": "update"
           },
           {
            "args": [
             {
              "marker": [
               {
                "color": [
                 "blue",
                 "blue",
                 "blue",
                 "blue",
                 "blue",
                 "blue",
                 "blue",
                 "blue",
                 "blue",
                 "blue",
                 "red",
                 "red",
                 "red",
                 "red",
                 "red",
                 "red",
                 "red"
                ]
               }
              ],
              "x": [
               [
                1960,
                1970,
                1980,
                1990,
                2000,
                2010,
                2020,
                2021,
                2022,
                2023,
                2024,
                2025,
                2026,
                2027,
                2028,
                2029,
                2030
               ]
              ],
              "y": [
               [
                36724615,
                50814953,
                67300334,
                82820170,
                98625552,
                113623895,
                126799054,
                127648148,
                128613117,
                129739759,
                132650118.30639696,
                134141067.42961025,
                135632016.55282307,
                137122965.67603588,
                138613914.79924917,
                140104863.922462,
                141595813.0456748
               ]
              ]
             },
             {
              "title": "<b>Population of Mexico</b>",
              "title_text": "<b>Population of Mexico</b>"
             }
            ],
            "label": "Mexico",
            "method": "update"
           },
           {
            "args": [
             {
              "marker": [
               {
                "color": [
                 "blue",
                 "blue",
                 "blue",
                 "blue",
                 "blue",
                 "blue",
                 "blue",
                 "blue",
                 "blue",
                 "blue",
                 "red",
                 "red",
                 "red",
                 "red",
                 "red",
                 "red",
                 "red"
                ]
               }
              ],
              "x": [
               [
                1960,
                1970,
                1980,
                1990,
                2000,
                2010,
                2020,
                2021,
                2022,
                2023,
                2024,
                2025,
                2026,
                2027,
                2028,
                2029,
                2030
               ]
              ],
              "y": [
               [
                14703,
                22530,
                30774,
                44629,
                50706,
                52044,
                42706,
                41367,
                40077,
                38827,
                46919.23103949614,
                47291.48231160664,
                47663.73358371714,
                48035.98485582764,
                48408.236127938144,
                48780.487400048645,
                49152.73867215903
               ]
              ]
             },
             {
              "title": "<b>Population of Marshall Islands</b>",
              "title_text": "<b>Population of Marshall Islands</b>"
             }
            ],
            "label": "Marshall Islands",
            "method": "update"
           },
           {
            "args": [
             {
              "marker": [
               {
                "color": [
                 "blue",
                 "blue",
                 "blue",
                 "blue",
                 "blue",
                 "blue",
                 "blue",
                 "blue",
                 "blue",
                 "blue",
                 "red",
                 "red",
                 "red",
                 "red",
                 "red",
                 "red",
                 "red"
                ]
               }
              ],
              "x": [
               [
                1960,
                1970,
                1980,
                1990,
                2000,
                2010,
                2020,
                2021,
                2022,
                2023,
                2024,
                2025,
                2026,
                2027,
                2028,
                2029,
                2030
               ]
              ],
              "y": [
               [
                1970293325,
                2483992298,
                3093876462,
                3807403275,
                4495519780.5,
                5128297873,
                5758609133.5,
                5807623372,
                5851866150.5,
                5896643239,
                5992293919.753769,
                6056346437.331787,
                6120398954.909805,
                6184451472.487839,
                6248503990.065857,
                6312556507.643875,
                6376609025.221909
               ]
              ]
             },
             {
              "title": "<b>Population of Middle income</b>",
              "title_text": "<b>Population of Middle income</b>"
             }
            ],
            "label": "Middle income",
            "method": "update"
           },
           {
            "args": [
             {
              "marker": [
               {
                "color": [
                 "blue",
                 "blue",
                 "blue",
                 "blue",
                 "blue",
                 "blue",
                 "blue",
                 "blue",
                 "blue",
                 "blue",
                 "red",
                 "red",
                 "red",
                 "red",
                 "red",
                 "red",
                 "red"
                ]
               }
              ],
              "x": [
               [
                1960,
                1970,
                1980,
                1990,
                2000,
                2010,
                2020,
                2021,
                2022,
                2023,
                2024,
                2025,
                2026,
                2027,
                2028,
                2029,
                2030
               ]
              ],
              "y": [
               [
                1435059,
                1664208,
                1933038,
                2063689,
                2026350,
                1946298,
                1856124,
                1837114,
                1831712,
                1827816,
                1932030.1910992656,
                1935714.1825377597,
                1939398.1739762537,
                1943082.1654147487,
                1946766.1568532428,
                1950450.1482917378,
                1954134.1397302318
               ]
              ]
             },
             {
              "title": "<b>Population of North Macedonia</b>",
              "title_text": "<b>Population of North Macedonia</b>"
             }
            ],
            "label": "North Macedonia",
            "method": "update"
           },
           {
            "args": [
             {
              "marker": [
               {
                "color": [
                 "blue",
                 "blue",
                 "blue",
                 "blue",
                 "blue",
                 "blue",
                 "blue",
                 "blue",
                 "blue",
                 "blue",
                 "red",
                 "red",
                 "red",
                 "red",
                 "red",
                 "red",
                 "red"
                ]
               }
              ],
              "x": [
               [
                1960,
                1970,
                1980,
                1990,
                2000,
                2010,
                2020,
                2021,
                2022,
                2023,
                2024,
                2025,
                2026,
                2027,
                2028,
                2029,
                2030
               ]
              ],
              "y": [
               [
                5402550,
                6276472,
                7530515,
                9178830,
                11559290,
                15945198,
                21713836,
                22388630,
                23072640,
                23769127,
                22222453.519990325,
                22531418.467530966,
                22840383.415071487,
                23149348.36261213,
                23458313.31015265,
                23767278.25769329,
                24076243.205233812
               ]
              ]
             },
             {
              "title": "<b>Population of Mali</b>",
              "title_text": "<b>Population of Mali</b>"
             }
            ],
            "label": "Mali",
            "method": "update"
           },
           {
            "args": [
             {
              "marker": [
               {
                "color": [
                 "blue",
                 "blue",
                 "blue",
                 "blue",
                 "blue",
                 "blue",
                 "blue",
                 "blue",
                 "blue",
                 "blue",
                 "red",
                 "red",
                 "red",
                 "red",
                 "red",
                 "red",
                 "red"
                ]
               }
              ],
              "x": [
               [
                1960,
                1970,
                1980,
                1990,
                2000,
                2010,
                2020,
                2021,
                2022,
                2023,
                2024,
                2025,
                2026,
                2027,
                2028,
                2029,
                2030
               ]
              ],
              "y": [
               [
                326550,
                302650,
                316645,
                354170,
                390087,
                414508,
                515332,
                518536,
                531511,
                552747,
                517956.0163960913,
                521877.42690412793,
                525798.8374121636,
                529720.2479202002,
                533641.6584282368,
                537563.0689362735,
                541484.4794443101
               ]
              ]
             },
             {
              "title": "<b>Population of Malta</b>",
              "title_text": "<b>Population of Malta</b>"
             }
            ],
            "label": "Malta",
            "method": "update"
           },
           {
            "args": [
             {
              "marker": [
               {
                "color": [
                 "blue",
                 "blue",
                 "blue",
                 "blue",
                 "blue",
                 "blue",
                 "blue",
                 "blue",
                 "blue",
                 "blue",
                 "red",
                 "red",
                 "red",
                 "red",
                 "red",
                 "red",
                 "red"
                ]
               }
              ],
              "x": [
               [
                1960,
                1970,
                1980,
                1990,
                2000,
                2010,
                2020,
                2021,
                2022,
                2023,
                2024,
                2025,
                2026,
                2027,
                2028,
                2029,
                2030
               ]
              ],
              "y": [
               [
                21730250,
                27193016,
                33227204,
                39817251,
                45290841,
                49024382,
                53016522,
                53387102,
                53756787,
                54133798,
                55492944.72679913,
                56002585.277077794,
                56512225.82735646,
                57021866.37763512,
                57531506.927913785,
                58041147.47819245,
                58550788.02847111
               ]
              ]
             },
             {
              "title": "<b>Population of Myanmar</b>",
              "title_text": "<b>Population of Myanmar</b>"
             }
            ],
            "label": "Myanmar",
            "method": "update"
           },
           {
            "args": [
             {
              "marker": [
               {
                "color": [
                 "blue",
                 "blue",
                 "blue",
                 "blue",
                 "blue",
                 "blue",
                 "blue",
                 "blue",
                 "blue",
                 "blue",
                 "red",
                 "red",
                 "red",
                 "red",
                 "red",
                 "red",
                 "red"
                ]
               }
              ],
              "x": [
               [
                1960,
                1970,
                1980,
                1990,
                2000,
                2010,
                2020,
                2021,
                2022,
                2023,
                2024,
                2025,
                2026,
                2027,
                2028,
                2029,
                2030
               ]
              ],
              "y": [
               [
                97138700,
                127174194,
                169488204,
                233120964,
                287971068,
                349872902,
                418461302,
                424980589,
                432229148,
                440118189,
                436968511.81342506,
                442661666.9697113,
                448354822.12599945,
                454047977.2822876,
                459741132.43857574,
                465434287.5948639,
                471127442.75115204
               ]
              ]
             },
             {
              "title": "<b>Population of Middle East & North Africa (excluding high income)</b>",
              "title_text": "<b>Population of Middle East & North Africa (excluding high income)</b>"
             }
            ],
            "label": "Middle East & North Africa (excluding high income)",
            "method": "update"
           },
           {
            "args": [
             {
              "marker": [
               {
                "color": [
                 "blue",
                 "blue",
                 "blue",
                 "blue",
                 "blue",
                 "blue",
                 "blue",
                 "blue",
                 "blue",
                 "blue",
                 "red",
                 "red",
                 "red",
                 "red",
                 "red",
                 "red",
                 "red"
                ]
               }
              ],
              "x": [
               [
                1960,
                1970,
                1980,
                1990,
                2000,
                2010,
                2020,
                2021,
                2022,
                2023,
                2024,
                2025,
                2026,
                2027,
                2028,
                2029,
                2030
               ]
              ],
              "y": [
               [
                480579,
                512407,
                572608,
                606372,
                604950,
                619428,
                621306,
                619211,
                617213,
                616177,
                634379.7355221715,
                636320.4992730799,
                638261.2630239888,
                640202.0267748972,
                642142.7905258061,
                644083.5542767146,
                646024.3180276235
               ]
              ]
             },
             {
              "title": "<b>Population of Montenegro</b>",
              "title_text": "<b>Population of Montenegro</b>"
             }
            ],
            "label": "Montenegro",
            "method": "update"
           },
           {
            "args": [
             {
              "marker": [
               {
                "color": [
                 "blue",
                 "blue",
                 "blue",
                 "blue",
                 "blue",
                 "blue",
                 "blue",
                 "blue",
                 "blue",
                 "blue",
                 "red",
                 "red",
                 "red",
                 "red",
                 "red",
                 "red",
                 "red"
                ]
               }
              ],
              "x": [
               [
                1960,
                1970,
                1980,
                1990,
                2000,
                2010,
                2020,
                2021,
                2022,
                2023,
                2024,
                2025,
                2026,
                2027,
                2028,
                2029,
                2030
               ]
              ],
              "y": [
               [
                977595,
                1295272,
                1701335,
                2098710,
                2388299,
                2738622,
                3327204,
                3383741,
                3433748,
                3481145,
                3455887.654430181,
                3495777.8410871476,
                3535668.0277441293,
                3575558.214401096,
                3615448.401058078,
                3655338.5877150446,
                3695228.7743720263
               ]
              ]
             },
             {
              "title": "<b>Population of Mongolia</b>",
              "title_text": "<b>Population of Mongolia</b>"
             }
            ],
            "label": "Mongolia",
            "method": "update"
           },
           {
            "args": [
             {
              "marker": [
               {
                "color": [
                 "blue",
                 "blue",
                 "blue",
                 "blue",
                 "blue",
                 "blue",
                 "blue",
                 "blue",
                 "blue",
                 "blue",
                 "red",
                 "red",
                 "red",
                 "red",
                 "red",
                 "red",
                 "red"
                ]
               }
              ],
              "x": [
               [
                1960,
                1970,
                1980,
                1990,
                2000,
                2010,
                2020,
                2021,
                2022,
                2023,
                2024,
                2025,
                2026,
                2027,
                2028,
                2029,
                2030
               ]
              ],
              "y": [
               [
                8736,
                10170,
                17625,
                43342,
                68356,
                54091,
                47528,
                46979,
                46078,
                45143,
                54791.58500928851,
                55446.78111622669,
                56101.977223164635,
                56757.173330102814,
                57412.36943704076,
                58067.56554397894,
                58722.76165091689
               ]
              ]
             },
             {
              "title": "<b>Population of Northern Mariana Islands</b>",
              "title_text": "<b>Population of Northern Mariana Islands</b>"
             }
            ],
            "label": "Northern Mariana Islands",
            "method": "update"
           },
           {
            "args": [
             {
              "marker": [
               {
                "color": [
                 "blue",
                 "blue",
                 "blue",
                 "blue",
                 "blue",
                 "blue",
                 "blue",
                 "blue",
                 "blue",
                 "blue",
                 "red",
                 "red",
                 "red",
                 "red",
                 "red",
                 "red",
                 "red"
                ]
               }
              ],
              "x": [
               [
                1960,
                1970,
                1980,
                1990,
                2000,
                2010,
                2020,
                2021,
                2022,
                2023,
                2024,
                2025,
                2026,
                2027,
                2028,
                2029,
                2030
               ]
              ],
              "y": [
               [
                6713695,
                8250506,
                11336221,
                13094537,
                18129653,
                22999235,
                30783688,
                31707800,
                32656246,
                33635160,
                31836701.208666563,
                32283669.53279221,
                32730637.856917977,
                33177606.181043625,
                33624574.50516927,
                34071542.82929492,
                34518511.15342069
               ]
              ]
             },
             {
              "title": "<b>Population of Mozambique</b>",
              "title_text": "<b>Population of Mozambique</b>"
             }
            ],
            "label": "Mozambique",
            "method": "update"
           },
           {
            "args": [
             {
              "marker": [
               {
                "color": [
                 "blue",
                 "blue",
                 "blue",
                 "blue",
                 "blue",
                 "blue",
                 "blue",
                 "blue",
                 "blue",
                 "blue",
                 "red",
                 "red",
                 "red",
                 "red",
                 "red",
                 "red",
                 "red"
                ]
               }
              ],
              "x": [
               [
                1960,
                1970,
                1980,
                1990,
                2000,
                2010,
                2020,
                2021,
                2022,
                2023,
                2024,
                2025,
                2026,
                2027,
                2028,
                2029,
                2030
               ]
              ],
              "y": [
               [
                824298,
                1099806,
                1474043,
                1951878,
                2613441,
                3390965,
                4600131,
                4734874,
                4875637,
                5022441,
                4760474.753735572,
                4830217.514134586,
                4899960.27453357,
                4969703.034932584,
                5039445.7953315675,
                5109188.555730581,
                5178931.316129565
               ]
              ]
             },
             {
              "title": "<b>Population of Mauritania</b>",
              "title_text": "<b>Population of Mauritania</b>"
             }
            ],
            "label": "Mauritania",
            "method": "update"
           },
           {
            "args": [
             {
              "marker": [
               {
                "color": [
                 "blue",
                 "blue",
                 "blue",
                 "blue",
                 "blue",
                 "blue",
                 "blue",
                 "blue",
                 "blue",
                 "blue",
                 "red",
                 "red",
                 "red",
                 "red",
                 "red",
                 "red",
                 "red"
                ]
               }
              ],
              "x": [
               [
                1960,
                1970,
                1980,
                1990,
                2000,
                2010,
                2020,
                2021,
                2022,
                2023,
                2024,
                2025,
                2026,
                2027,
                2028,
                2029,
                2030
               ]
              ],
              "y": [
               [
                676683,
                826000,
                966039,
                1058775,
                1186873,
                1250400,
                1266014,
                1266334,
                1262523,
                1261041,
                1318108.8359583206,
                1326962.9603828453,
                1335817.0848073661,
                1344671.209231887,
                1353525.333656408,
                1362379.4580809288,
                1371233.5825054497
               ]
              ]
             },
             {
              "title": "<b>Population of Mauritius</b>",
              "title_text": "<b>Population of Mauritius</b>"
             }
            ],
            "label": "Mauritius",
            "method": "update"
           },
           {
            "args": [
             {
              "marker": [
               {
                "color": [
                 "blue",
                 "blue",
                 "blue",
                 "blue",
                 "blue",
                 "blue",
                 "blue",
                 "blue",
                 "blue",
                 "blue",
                 "red",
                 "red",
                 "red",
                 "red",
                 "red",
                 "red",
                 "red"
                ]
               }
              ],
              "x": [
               [
                1960,
                1970,
                1980,
                1990,
                2000,
                2010,
                2020,
                2021,
                2022,
                2023,
                2024,
                2025,
                2026,
                2027,
                2028,
                2029,
                2030
               ]
              ],
              "y": [
               [
                3628134,
                4633944,
                6265529,
                9545852,
                11315942,
                14826463,
                19533888,
                20047258,
                20568728,
                21104482,
                20268986.162668705,
                20560869.939827204,
                20852753.71698582,
                21144637.49414432,
                21436521.27130294,
                21728405.048461437,
                22020288.825619936
               ]
              ]
             },
             {
              "title": "<b>Population of Malawi</b>",
              "title_text": "<b>Population of Malawi</b>"
             }
            ],
            "label": "Malawi",
            "method": "update"
           },
           {
            "args": [
             {
              "marker": [
               {
                "color": [
                 "blue",
                 "blue",
                 "blue",
                 "blue",
                 "blue",
                 "blue",
                 "blue",
                 "blue",
                 "blue",
                 "blue",
                 "red",
                 "red",
                 "red",
                 "red",
                 "red",
                 "red",
                 "red"
                ]
               }
              ],
              "x": [
               [
                1960,
                1970,
                1980,
                1990,
                2000,
                2010,
                2020,
                2021,
                2022,
                2023,
                2024,
                2025,
                2026,
                2027,
                2028,
                2029,
                2030
               ]
              ],
              "y": [
               [
                7956197,
                10178802,
                12983363,
                17833171,
                22967816,
                28655776,
                33889558,
                34282399,
                34695493,
                35126298,
                35136056.989863396,
                35598318.042726755,
                36060579.095589995,
                36522840.148453236,
                36985101.201316476,
                37447362.254179716,
                37909623.30704296
               ]
              ]
             },
             {
              "title": "<b>Population of Malaysia</b>",
              "title_text": "<b>Population of Malaysia</b>"
             }
            ],
            "label": "Malaysia",
            "method": "update"
           },
           {
            "args": [
             {
              "marker": [
               {
                "color": [
                 "blue",
                 "blue",
                 "blue",
                 "blue",
                 "blue",
                 "blue",
                 "blue",
                 "blue",
                 "blue",
                 "blue",
                 "red",
                 "red",
                 "red",
                 "red",
                 "red",
                 "red",
                 "red"
                ]
               }
              ],
              "x": [
               [
                1960,
                1970,
                1980,
                1990,
                2000,
                2010,
                2020,
                2021,
                2022,
                2023,
                2024,
                2025,
                2026,
                2027,
                2028,
                2029,
                2030
               ]
              ],
              "y": [
               [
                198622564,
                226428124,
                251794340,
                277371697,
                312909691,
                343396770,
                369619953,
                370353489,
                372275216,
                375077354,
                379315428.3763838,
                382165039.38361263,
                385014650.3908415,
                387864261.39807034,
                390713872.4052992,
                393563483.41252804,
                396413094.4197569
               ]
              ]
             },
             {
              "title": "<b>Population of North America</b>",
              "title_text": "<b>Population of North America</b>"
             }
            ],
            "label": "North America",
            "method": "update"
           },
           {
            "args": [
             {
              "marker": [
               {
                "color": [
                 "blue",
                 "blue",
                 "blue",
                 "blue",
                 "blue",
                 "blue",
                 "blue",
                 "blue",
                 "blue",
                 "blue",
                 "red",
                 "red",
                 "red",
                 "red",
                 "red",
                 "red",
                 "red"
                ]
               }
              ],
              "x": [
               [
                1960,
                1970,
                1980,
                1990,
                2000,
                2010,
                2020,
                2021,
                2022,
                2023,
                2024,
                2025,
                2026,
                2027,
                2028,
                2029,
                2030
               ]
              ],
              "y": [
               [
                591465,
                757868,
                981434,
                1369303,
                1818647,
                2109811,
                2728762,
                2810548,
                2889662,
                2963095,
                2859408.6797916144,
                2898644.30191423,
                2937879.9240368307,
                2977115.5461594462,
                3016351.168282047,
                3055586.7904046625,
                3094822.412527263
               ]
              ]
             },
             {
              "title": "<b>Population of Namibia</b>",
              "title_text": "<b>Population of Namibia</b>"
             }
            ],
            "label": "Namibia",
            "method": "update"
           },
           {
            "args": [
             {
              "marker": [
               {
                "color": [
                 "blue",
                 "blue",
                 "blue",
                 "blue",
                 "blue",
                 "blue",
                 "blue",
                 "blue",
                 "blue",
                 "blue",
                 "red",
                 "red",
                 "red",
                 "red",
                 "red",
                 "red",
                 "red"
                ]
               }
              ],
              "x": [
               [
                1960,
                1970,
                1980,
                1990,
                2000,
                2010,
                2020,
                2021,
                2022,
                2023,
                2024,
                2025,
                2026,
                2027,
                2028,
                2029,
                2030
               ]
              ],
              "y": [
               [
                79819,
                109338,
                149817,
                176456,
                223098,
                261582,
                284176,
                285214,
                287123,
                289870,
                297900.90965996217,
                301312.8608755348,
                304724.8120911075,
                308136.7633066792,
                311548.71452225186,
                314960.6657378236,
                318372.61695339624
               ]
              ]
             },
             {
              "title": "<b>Population of New Caledonia</b>",
              "title_text": "<b>Population of New Caledonia</b>"
             }
            ],
            "label": "New Caledonia",
            "method": "update"
           },
           {
            "args": [
             {
              "marker": [
               {
                "color": [
                 "blue",
                 "blue",
                 "blue",
                 "blue",
                 "blue",
                 "blue",
                 "blue",
                 "blue",
                 "blue",
                 "blue",
                 "red",
                 "red",
                 "red",
                 "red",
                 "red",
                 "red",
                 "red"
                ]
               }
              ],
              "x": [
               [
                1960,
                1970,
                1980,
                1990,
                2000,
                2010,
                2020,
                2021,
                2022,
                2023,
                2024,
                2025,
                2026,
                2027,
                2028,
                2029,
                2030
               ]
              ],
              "y": [
               [
                3505050,
                4650275,
                6135971,
                8286059,
                11509630,
                16548835,
                23717613,
                24502140,
                25311973,
                26159867,
                24333586.36374283,
                24714768.53848636,
                25095950.713229895,
                25477132.887973428,
                25858315.06271708,
                26239497.237460613,
                26620679.412204146
               ]
              ]
             },
             {
              "title": "<b>Population of Niger</b>",
              "title_text": "<b>Population of Niger</b>"
             }
            ],
            "label": "Niger",
            "method": "update"
           },
           {
            "args": [
             {
              "marker": [
               {
                "color": [
                 "blue",
                 "blue",
                 "blue",
                 "blue",
                 "blue",
                 "blue",
                 "blue",
                 "blue",
                 "blue",
                 "blue",
                 "red",
                 "red",
                 "red",
                 "red",
                 "red",
                 "red",
                 "red"
                ]
               }
              ],
              "x": [
               [
                1960,
                1970,
                1980,
                1990,
                2000,
                2010,
                2020,
                2021,
                2022,
                2023,
                2024,
                2025,
                2026,
                2027,
                2028,
                2029,
                2030
               ]
              ],
              "y": [
               [
                45053782,
                55893838,
                73764641,
                97120925,
                126382494,
                166642886,
                213996181,
                218529286,
                223150896,
                227882945,
                220420465.14401054,
                223517951.9367981,
                226615438.72958565,
                229712925.5223732,
                232810412.31516075,
                235907899.10794735,
                239005385.9007349
               ]
              ]
             },
             {
              "title": "<b>Population of Nigeria</b>",
              "title_text": "<b>Population of Nigeria</b>"
             }
            ],
            "label": "Nigeria",
            "method": "update"
           },
           {
            "args": [
             {
              "marker": [
               {
                "color": [
                 "blue",
                 "blue",
                 "blue",
                 "blue",
                 "blue",
                 "blue",
                 "blue",
                 "blue",
                 "blue",
                 "blue",
                 "red",
                 "red",
                 "red",
                 "red",
                 "red",
                 "red",
                 "red"
                ]
               }
              ],
              "x": [
               [
                1960,
                1970,
                1980,
                1990,
                2000,
                2010,
                2020,
                2021,
                2022,
                2023,
                2024,
                2025,
                2026,
                2027,
                2028,
                2029,
                2030
               ]
              ],
              "y": [
               [
                1782370,
                2423065,
                3252403,
                4162559,
                5022633,
                5737450,
                6565267,
                6644741,
                6730654,
                6823613,
                6896245.776229709,
                6977465.869517803,
                7058685.962805897,
                7139906.056094021,
                7221126.149382114,
                7302346.242670208,
                7383566.335958332
               ]
              ]
             },
             {
              "title": "<b>Population of Nicaragua</b>",
              "title_text": "<b>Population of Nicaragua</b>"
             }
            ],
            "label": "Nicaragua",
            "method": "update"
           },
           {
            "args": [
             {
              "marker": [
               {
                "color": [
                 "blue",
                 "blue",
                 "blue",
                 "blue",
                 "blue",
                 "blue",
                 "blue",
                 "blue",
                 "blue",
                 "blue",
                 "red",
                 "red",
                 "red",
                 "red",
                 "red",
                 "red",
                 "red"
                ]
               }
              ],
              "x": [
               [
                1960,
                1970,
                1980,
                1990,
                2000,
                2010,
                2020,
                2021,
                2022,
                2023,
                2024,
                2025,
                2026,
                2027,
                2028,
                2029,
                2030
               ]
              ],
              "y": [
               [
                11486631,
                13038526,
                14149800,
                14951510,
                15925513,
                16615394,
                17441500,
                17533044,
                17700982,
                17877117,
                17954779.4880462,
                18048335.954769403,
                18141892.421492606,
                18235448.88821581,
                18329005.354939014,
                18422561.821662217,
                18516118.28838542
               ]
              ]
             },
             {
              "title": "<b>Population of Netherlands</b>",
              "title_text": "<b>Population of Netherlands</b>"
             }
            ],
            "label": "Netherlands",
            "method": "update"
           },
           {
            "args": [
             {
              "marker": [
               {
                "color": [
                 "blue",
                 "blue",
                 "blue",
                 "blue",
                 "blue",
                 "blue",
                 "blue",
                 "blue",
                 "blue",
                 "blue",
                 "red",
                 "red",
                 "red",
                 "red",
                 "red",
                 "red",
                 "red"
                ]
               }
              ],
              "x": [
               [
                1960,
                1970,
                1980,
                1990,
                2000,
                2010,
                2020,
                2021,
                2022,
                2023,
                2024,
                2025,
                2026,
                2027,
                2028,
                2029,
                2030
               ]
              ],
              "y": [
               [
                3581239,
                3875763,
                4085620,
                4241473,
                4490967,
                4889252,
                5379475,
                5408320,
                5457127,
                5519594,
                5442689.560697846,
                5473419.337775625,
                5504149.114853404,
                5534878.891931184,
                5565608.66900897,
                5596338.446086749,
                5627068.223164529
               ]
              ]
             },
             {
              "title": "<b>Population of Norway</b>",
              "title_text": "<b>Population of Norway</b>"
             }
            ],
            "label": "Norway",
            "method": "update"
           },
           {
            "args": [
             {
              "marker": [
               {
                "color": [
                 "blue",
                 "blue",
                 "blue",
                 "blue",
                 "blue",
                 "blue",
                 "blue",
                 "blue",
                 "blue",
                 "blue",
                 "red",
                 "red",
                 "red",
                 "red",
                 "red",
                 "red",
                 "red"
                ]
               }
              ],
              "x": [
               [
                1960,
                1970,
                1980,
                1990,
                2000,
                2010,
                2020,
                2021,
                2022,
                2023,
                2024,
                2025,
                2026,
                2027,
                2028,
                2029,
                2030
               ]
              ],
              "y": [
               [
                10123658,
                12436190,
                15553105,
                19524573,
                24546509,
                27341952,
                28966574,
                29475010,
                29715436,
                29694614,
                30694973.994548082,
                31021089.236127973,
                31347204.477707744,
                31673319.719287634,
                31999434.960867405,
                32325550.202447295,
                32651665.444027185
               ]
              ]
             },
             {
              "title": "<b>Population of Nepal</b>",
              "title_text": "<b>Population of Nepal</b>"
             }
            ],
            "label": "Nepal",
            "method": "update"
           },
           {
            "args": [
             {
              "marker": [
               {
                "color": [
                 "blue",
                 "blue",
                 "blue",
                 "blue",
                 "blue",
                 "blue",
                 "blue",
                 "blue",
                 "blue",
                 "blue",
                 "red",
                 "red",
                 "red",
                 "red",
                 "red",
                 "red",
                 "red"
                ]
               }
              ],
              "x": [
               [
                1960,
                1970,
                1980,
                1990,
                2000,
                2010,
                2020,
                2021,
                2022,
                2023,
                2024,
                2025,
                2026,
                2027,
                2028,
                2029,
                2030
               ]
              ],
              "y": [
               [
                4607,
                6710,
                7649,
                9622,
                10168,
                10043,
                11643,
                11709,
                11801,
                11875,
                12122.40477344321,
                12226.491034649895,
                12330.57729585658,
                12434.663557063264,
                12538.74981826995,
                12642.836079476634,
                12746.922340683319
               ]
              ]
             },
             {
              "title": "<b>Population of Nauru</b>",
              "title_text": "<b>Population of Nauru</b>"
             }
            ],
            "label": "Nauru",
            "method": "update"
           },
           {
            "args": [
             {
              "marker": [
               {
                "color": [
                 "blue",
                 "blue",
                 "blue",
                 "blue",
                 "blue",
                 "blue",
                 "blue",
                 "blue",
                 "blue",
                 "blue",
                 "red",
                 "red",
                 "red",
                 "red",
                 "red",
                 "red",
                 "red"
                ]
               }
              ],
              "x": [
               [
                1960,
                1970,
                1980,
                1990,
                2000,
                2010,
                2020,
                2021,
                2022,
                2023,
                2024,
                2025,
                2026,
                2027,
                2028,
                2029,
                2030
               ]
              ],
              "y": [
               [
                2371800,
                2810700,
                3112900,
                3329800,
                3857700,
                4350700,
                5090200,
                5111300,
                5117200,
                5223100,
                5154760.641305223,
                5200548.372506261,
                5246336.103707299,
                5292123.834908336,
                5337911.566109359,
                5383699.297310397,
                5429487.028511435
               ]
              ]
             },
             {
              "title": "<b>Population of New Zealand</b>",
              "title_text": "<b>Population of New Zealand</b>"
             }
            ],
            "label": "New Zealand",
            "method": "update"
           },
           {
            "args": [
             {
              "marker": [
               {
                "color": [
                 "blue",
                 "blue",
                 "blue",
                 "blue",
                 "blue",
                 "blue",
                 "blue",
                 "blue",
                 "blue",
                 "blue",
                 "red",
                 "red",
                 "red",
                 "red",
                 "red",
                 "red",
                 "red"
                ]
               }
              ],
              "x": [
               [
                1960,
                1970,
                1980,
                1990,
                2000,
                2010,
                2020,
                2021,
                2022,
                2023,
                2024,
                2025,
                2026,
                2027,
                2028,
                2029,
                2030
               ]
              ],
              "y": [
               [
                809580666,
                918489195,
                1019332414,
                1107695519,
                1202226474,
                1292108663,
                1370013876,
                1371769252,
                1378506989,
                1385723403,
                1405619515.3409672,
                1414638977.2360897,
                1423658439.1312122,
                1432677901.026331,
                1441697362.9214535,
                1450716824.816576,
                1459736286.7116985
               ]
              ]
             },
             {
              "title": "<b>Population of OECD members</b>",
              "title_text": "<b>Population of OECD members</b>"
             }
            ],
            "label": "OECD members",
            "method": "update"
           },
           {
            "args": [
             {
              "marker": [
               {
                "color": [
                 "blue",
                 "blue",
                 "blue",
                 "blue",
                 "blue",
                 "blue",
                 "blue",
                 "blue",
                 "blue",
                 "blue",
                 "red",
                 "red",
                 "red",
                 "red",
                 "red",
                 "red",
                 "red"
                ]
               }
              ],
              "x": [
               [
                1960,
                1970,
                1980,
                1990,
                2000,
                2010,
                2020,
                2021,
                2022,
                2023,
                2024,
                2025,
                2026,
                2027,
                2028,
                2029,
                2030
               ]
              ],
              "y": [
               [
                530485,
                662680,
                1001248,
                1763954,
                2282131,
                2757446,
                4522497,
                4500424,
                4730226,
                5049269,
                4578786.159680158,
                4652505.428519517,
                4726224.697358847,
                4799943.966198206,
                4873663.235037565,
                4947382.5038769245,
                5021101.772716254
               ]
              ]
             },
             {
              "title": "<b>Population of Oman</b>",
              "title_text": "<b>Population of Oman</b>"
             }
            ],
            "label": "Oman",
            "method": "update"
           },
           {
            "args": [
             {
              "marker": [
               {
                "color": [
                 "blue",
                 "blue",
                 "blue",
                 "blue",
                 "blue",
                 "blue",
                 "blue",
                 "blue",
                 "blue",
                 "blue",
                 "red",
                 "red",
                 "red",
                 "red",
                 "red",
                 "red",
                 "red"
                ]
               }
              ],
              "x": [
               [
                1960,
                1970,
                1980,
                1990,
                2000,
                2010,
                2020,
                2021,
                2022,
                2023,
                2024,
                2025,
                2026,
                2027,
                2028,
                2029,
                2030
               ]
              ],
              "y": [
               [
                5458853,
                6465635,
                7803795,
                9464103,
                10425820,
                12341009,
                13884095,
                14040798,
                14217718,
                14411921,
                14401594.042040229,
                14547094.834746778,
                14692595.627453387,
                14838096.420159936,
                14983597.212866485,
                15129098.005573034,
                15274598.798279643
               ]
              ]
             },
             {
              "title": "<b>Population of Other small states</b>",
              "title_text": "<b>Population of Other small states</b>"
             }
            ],
            "label": "Other small states",
            "method": "update"
           },
           {
            "args": [
             {
              "marker": [
               {
                "color": [
                 "blue",
                 "blue",
                 "blue",
                 "blue",
                 "blue",
                 "blue",
                 "blue",
                 "blue",
                 "blue",
                 "blue",
                 "red",
                 "red",
                 "red",
                 "red",
                 "red",
                 "red",
                 "red"
                ]
               }
              ],
              "x": [
               [
                1960,
                1970,
                1980,
                1990,
                2000,
                2010,
                2020,
                2021,
                2022,
                2023,
                2024,
                2025,
                2026,
                2027,
                2028,
                2029,
                2030
               ]
              ],
              "y": [
               [
                45709310,
                60166719,
                82291010,
                116155576,
                154879127,
                199239047,
                235001746,
                239477801,
                243700667,
                247504495,
                246092949.5973673,
                249522474.17922688,
                252951998.76108646,
                256381523.3429451,
                259811047.9248047,
                263240572.50666428,
                266670097.0885229
               ]
              ]
             },
             {
              "title": "<b>Population of Pakistan</b>",
              "title_text": "<b>Population of Pakistan</b>"
             }
            ],
            "label": "Pakistan",
            "method": "update"
           },
           {
            "args": [
             {
              "marker": [
               {
                "color": [
                 "blue",
                 "blue",
                 "blue",
                 "blue",
                 "blue",
                 "blue",
                 "blue",
                 "blue",
                 "blue",
                 "blue",
                 "red",
                 "red",
                 "red",
                 "red",
                 "red",
                 "red",
                 "red"
                ]
               }
              ],
              "x": [
               [
                1960,
                1970,
                1980,
                1990,
                2000,
                2010,
                2020,
                2021,
                2022,
                2023,
                2024,
                2025,
                2026,
                2027,
                2028,
                2029,
                2030
               ]
              ],
              "y": [
               [
                1126005,
                1513070,
                1957534,
                2455583,
                3010369,
                3628535,
                4293261,
                4345405,
                4400773,
                4458759,
                4454659.646474451,
                4509402.689362749,
                4564145.732251048,
                4618888.775139347,
                4673631.818027645,
                4728374.860915944,
                4783117.903804228
               ]
              ]
             },
             {
              "title": "<b>Population of Panama</b>",
              "title_text": "<b>Population of Panama</b>"
             }
            ],
            "label": "Panama",
            "method": "update"
           },
           {
            "args": [
             {
              "marker": [
               {
                "color": [
                 "blue",
                 "blue",
                 "blue",
                 "blue",
                 "blue",
                 "blue",
                 "blue",
                 "blue",
                 "blue",
                 "blue",
                 "red",
                 "red",
                 "red",
                 "red",
                 "red",
                 "red",
                 "red"
                ]
               }
              ],
              "x": [
               [
                1960,
                1970,
                1980,
                1990,
                2000,
                2010,
                2020,
                2021,
                2022,
                2023,
                2024,
                2025,
                2026,
                2027,
                2028,
                2029,
                2030
               ]
              ],
              "y": [
               [
                10174127,
                13501237,
                17360949,
                22014771,
                26598331,
                29086019,
                32838579,
                33155882,
                33475438,
                33845617,
                34468983.43865609,
                34848650.997617364,
                35228318.556578755,
                35607986.11554003,
                35987653.6745013,
                36367321.23346269,
                36746988.79242396
               ]
              ]
             },
             {
              "title": "<b>Population of Peru</b>",
              "title_text": "<b>Population of Peru</b>"
             }
            ],
            "label": "Peru",
            "method": "update"
           },
           {
            "args": [
             {
              "marker": [
               {
                "color": [
                 "blue",
                 "blue",
                 "blue",
                 "blue",
                 "blue",
                 "blue",
                 "blue",
                 "blue",
                 "blue",
                 "blue",
                 "red",
                 "red",
                 "red",
                 "red",
                 "red",
                 "red",
                 "red"
                ]
               }
              ],
              "x": [
               [
                1960,
                1970,
                1980,
                1990,
                2000,
                2010,
                2020,
                2021,
                2022,
                2023,
                2024,
                2025,
                2026,
                2027,
                2028,
                2029,
                2030
               ]
              ],
              "y": [
               [
                27891897,
                37622204,
                48043740,
                62854666,
                79625397,
                96337125,
                112081264,
                113100950,
                113964338,
                114891199,
                116206781.58169794,
                117664384.18750525,
                119121986.79331255,
                120579589.39911985,
                122037192.00492716,
                123494794.61073446,
                124952397.21654177
               ]
              ]
             },
             {
              "title": "<b>Population of Philippines</b>",
              "title_text": "<b>Population of Philippines</b>"
             }
            ],
            "label": "Philippines",
            "method": "update"
           },
           {
            "args": [
             {
              "marker": [
               {
                "color": [
                 "blue",
                 "blue",
                 "blue",
                 "blue",
                 "blue",
                 "blue",
                 "blue",
                 "blue",
                 "blue",
                 "blue",
                 "red",
                 "red",
                 "red",
                 "red",
                 "red",
                 "red",
                 "red"
                ]
               }
              ],
              "x": [
               [
                1960,
                1970,
                1980,
                1990,
                2000,
                2010,
                2020,
                2021,
                2022,
                2023,
                2024,
                2025,
                2026,
                2027,
                2028,
                2029,
                2030
               ]
              ],
              "y": [
               [
                9328,
                11368,
                12271,
                15259,
                19178,
                18396,
                17792,
                17783,
                17759,
                17727,
                18948.875252402882,
                19082.595549632533,
                19216.315846862126,
                19350.036144091777,
                19483.756441321428,
                19617.47673855102,
                19751.19703578067
               ]
              ]
             },
             {
              "title": "<b>Population of Palau</b>",
              "title_text": "<b>Population of Palau</b>"
             }
            ],
            "label": "Palau",
            "method": "update"
           },
           {
            "args": [
             {
              "marker": [
               {
                "color": [
                 "blue",
                 "blue",
                 "blue",
                 "blue",
                 "blue",
                 "blue",
                 "blue",
                 "blue",
                 "blue",
                 "blue",
                 "red",
                 "red",
                 "red",
                 "red",
                 "red",
                 "red",
                 "red"
                ]
               }
              ],
              "x": [
               [
                1960,
                1970,
                1980,
                1990,
                2000,
                2010,
                2020,
                2021,
                2022,
                2023,
                2024,
                2025,
                2026,
                2027,
                2028,
                2029,
                2030
               ]
              ],
              "y": [
               [
                1995110,
                2505628,
                3131512,
                3896481,
                5537064,
                7633523,
                9815746,
                10012896,
                10203169,
                10389635,
                10038913.53598249,
                10183456.041555583,
                10327998.547128618,
                10472541.052701712,
                10617083.558274746,
                10761626.06384778,
                10906168.569420874
               ]
              ]
             },
             {
              "title": "<b>Population of Papua New Guinea</b>",
              "title_text": "<b>Population of Papua New Guinea</b>"
             }
            ],
            "label": "Papua New Guinea",
            "method": "update"
           },
           {
            "args": [
             {
              "marker": [
               {
                "color": [
                 "blue",
                 "blue",
                 "blue",
                 "blue",
                 "blue",
                 "blue",
                 "blue",
                 "blue",
                 "blue",
                 "blue",
                 "red",
                 "red",
                 "red",
                 "red",
                 "red",
                 "red",
                 "red"
                ]
               }
              ],
              "x": [
               [
                1960,
                1970,
                1980,
                1990,
                2000,
                2010,
                2020,
                2021,
                2022,
                2023,
                2024,
                2025,
                2026,
                2027,
                2028,
                2029,
                2030
               ]
              ],
              "y": [
               [
                29637450,
                32664300,
                35574150,
                38110782,
                38258629,
                38042794,
                37899070,
                36981559,
                36821749,
                36687353,
                38310328.015992254,
                38402235.57402474,
                38494143.13205719,
                38586050.69008967,
                38677958.248122126,
                38769865.80615461,
                38861773.36418706
               ]
              ]
             },
             {
              "title": "<b>Population of Poland</b>",
              "title_text": "<b>Population of Poland</b>"
             }
            ],
            "label": "Poland",
            "method": "update"
           },
           {
            "args": [
             {
              "marker": [
               {
                "color": [
                 "blue",
                 "blue",
                 "blue",
                 "blue",
                 "blue",
                 "blue",
                 "blue",
                 "blue",
                 "blue",
                 "blue",
                 "red",
                 "red",
                 "red",
                 "red",
                 "red",
                 "red",
                 "red"
                ]
               }
              ],
              "x": [
               [
                1960,
                1970,
                1980,
                1990,
                2000,
                2010,
                2020,
                2021,
                2022,
                2023,
                2024,
                2025,
                2026,
                2027,
                2028,
                2029,
                2030
               ]
              ],
              "y": [
               [
                188920253,
                242769169,
                322965422,
                422471117,
                562428025,
                752046672,
                998624261,
                1024960313,
                1051201551,
                1078224044,
                1029429611.5624352,
                1044387338.155159,
                1059345064.747879,
                1074302791.3406029,
                1089260517.9333267,
                1104218244.5260506,
                1119175971.1187706
               ]
              ]
             },
             {
              "title": "<b>Population of Pre-demographic dividend</b>",
              "title_text": "<b>Population of Pre-demographic dividend</b>"
             }
            ],
            "label": "Pre-demographic dividend",
            "method": "update"
           },
           {
            "args": [
             {
              "marker": [
               {
                "color": [
                 "blue",
                 "blue",
                 "blue",
                 "blue",
                 "blue",
                 "blue",
                 "blue",
                 "blue",
                 "blue",
                 "blue",
                 "red",
                 "red",
                 "red",
                 "red",
                 "red",
                 "red",
                 "red"
                ]
               }
              ],
              "x": [
               [
                1960,
                1970,
                1980,
                1990,
                2000,
                2010,
                2020,
                2021,
                2022,
                2023,
                2024,
                2025,
                2026,
                2027,
                2028,
                2029,
                2030
               ]
              ],
              "y": [
               [
                2358000,
                2718000,
                3206000,
                3537000,
                3810605,
                3721525,
                3281557,
                3262693,
                3220113,
                3205691,
                3495780.667312816,
                3506586.4979403913,
                3517392.328567967,
                3528198.1591955423,
                3539003.989823114,
                3549809.8204506896,
                3560615.651078265
               ]
              ]
             },
             {
              "title": "<b>Population of Puerto Rico</b>",
              "title_text": "<b>Population of Puerto Rico</b>"
             }
            ],
            "label": "Puerto Rico",
            "method": "update"
           },
           {
            "args": [
             {
              "marker": [
               {
                "color": [
                 "blue",
                 "blue",
                 "blue",
                 "blue",
                 "blue",
                 "blue",
                 "blue",
                 "blue",
                 "blue",
                 "blue",
                 "red",
                 "red",
                 "red",
                 "red",
                 "red",
                 "red",
                 "red"
                ]
               }
              ],
              "x": [
               [
                1960,
                1970,
                1980,
                1990,
                2000,
                2010,
                2020,
                2021,
                2022,
                2023,
                2024,
                2025,
                2026,
                2027,
                2028,
                2029,
                2030
               ]
              ],
              "y": [
               [
                11722953,
                15172775,
                18236786,
                21112137,
                23665910,
                24987258,
                26136312,
                26232534,
                26328845,
                26418204,
                27412995.89217353,
                27634783.78119701,
                27856571.670220494,
                28078359.559244037,
                28300147.44826752,
                28521935.337291002,
                28743723.226314545
               ]
              ]
             },
             {
              "title": "<b>Population of Korea, Dem. People's Rep.</b>",
              "title_text": "<b>Population of Korea, Dem. People's Rep.</b>"
             }
            ],
            "label": "Korea, Dem. People's Rep.",
            "method": "update"
           },
           {
            "args": [
             {
              "marker": [
               {
                "color": [
                 "blue",
                 "blue",
                 "blue",
                 "blue",
                 "blue",
                 "blue",
                 "blue",
                 "blue",
                 "blue",
                 "blue",
                 "red",
                 "red",
                 "red",
                 "red",
                 "red",
                 "red",
                 "red"
                ]
               }
              ],
              "x": [
               [
                1960,
                1970,
                1980,
                1990,
                2000,
                2010,
                2020,
                2021,
                2022,
                2023,
                2024,
                2025,
                2026,
                2027,
                2028,
                2029,
                2030
               ]
              ],
              "y": [
               [
                8857716,
                8680431,
                9766312,
                9983218,
                10289898,
                10573100,
                10297081,
                10361831,
                10434332,
                10578174,
                10633414.103828445,
                10660102.825296827,
                10686791.546765208,
                10713480.268233582,
                10740168.989701964,
                10766857.711170346,
                10793546.43263872
               ]
              ]
             },
             {
              "title": "<b>Population of Portugal</b>",
              "title_text": "<b>Population of Portugal</b>"
             }
            ],
            "label": "Portugal",
            "method": "update"
           },
           {
            "args": [
             {
              "marker": [
               {
                "color": [
                 "blue",
                 "blue",
                 "blue",
                 "blue",
                 "blue",
                 "blue",
                 "blue",
                 "blue",
                 "blue",
                 "blue",
                 "red",
                 "red",
                 "red",
                 "red",
                 "red",
                 "red",
                 "red"
                ]
               }
              ],
              "x": [
               [
                1960,
                1970,
                1980,
                1990,
                2000,
                2010,
                2020,
                2021,
                2022,
                2023,
                2024,
                2025,
                2026,
                2027,
                2028,
                2029,
                2030
               ]
              ],
              "y": [
               [
                1883514,
                2388028,
                3053235,
                4035747,
                5100868,
                5737971,
                6603739,
                6684182,
                6760464,
                6844146,
                6915430.010742277,
                6997652.986592382,
                7079875.962442458,
                7162098.938292563,
                7244321.914142638,
                7326544.889992744,
                7408767.865842819
               ]
              ]
             },
             {
              "title": "<b>Population of Paraguay</b>",
              "title_text": "<b>Population of Paraguay</b>"
             }
            ],
            "label": "Paraguay",
            "method": "update"
           },
           {
            "args": [
             {
              "marker": [
               {
                "color": [
                 "blue",
                 "blue",
                 "blue",
                 "blue",
                 "blue",
                 "blue",
                 "blue",
                 "red",
                 "red",
                 "red",
                 "red",
                 "red",
                 "red",
                 "red"
                ]
               }
              ],
              "x": [
               [
                1990,
                2000,
                2010,
                2020,
                2021,
                2022,
                2023,
                2024,
                2025,
                2026,
                2027,
                2028,
                2029,
                2030
               ]
              ],
              "y": [
               [
                1978248,
                2922153,
                3786161,
                4803269,
                4922749,
                5043612,
                5165775,
                5212250.304497302,
                5308150.1231738925,
                5404049.941850483,
                5499949.760527104,
                5595849.579203695,
                5691749.397880286,
                5787649.216556877
               ]
              ]
             },
             {
              "title": "<b>Population of West Bank and Gaza</b>",
              "title_text": "<b>Population of West Bank and Gaza</b>"
             }
            ],
            "label": "West Bank and Gaza",
            "method": "update"
           },
           {
            "args": [
             {
              "marker": [
               {
                "color": [
                 "blue",
                 "blue",
                 "blue",
                 "blue",
                 "blue",
                 "blue",
                 "blue",
                 "blue",
                 "blue",
                 "blue",
                 "red",
                 "red",
                 "red",
                 "red",
                 "red",
                 "red",
                 "red"
                ]
               }
              ],
              "x": [
               [
                1960,
                1970,
                1980,
                1990,
                2000,
                2010,
                2020,
                2021,
                2022,
                2023,
                2024,
                2025,
                2026,
                2027,
                2028,
                2029,
                2030
               ]
              ],
              "y": [
               [
                912120,
                1181537,
                1454476,
                1775607,
                2042274,
                2289399,
                2595522,
                2625493,
                2656049,
                2689224,
                2709656.474073179,
                2737832.1451417506,
                2766007.816210322,
                2794183.4872788936,
                2822359.158347465,
                2850534.829416044,
                2878710.5004846156
               ]
              ]
             },
             {
              "title": "<b>Population of Pacific island small states</b>",
              "title_text": "<b>Population of Pacific island small states</b>"
             }
            ],
            "label": "Pacific island small states",
            "method": "update"
           },
           {
            "args": [
             {
              "marker": [
               {
                "color": [
                 "blue",
                 "blue",
                 "blue",
                 "blue",
                 "blue",
                 "blue",
                 "blue",
                 "blue",
                 "blue",
                 "blue",
                 "red",
                 "red",
                 "red",
                 "red",
                 "red",
                 "red",
                 "red"
                ]
               }
              ],
              "x": [
               [
                1960,
                1970,
                1980,
                1990,
                2000,
                2010,
                2020,
                2021,
                2022,
                2023,
                2024,
                2025,
                2026,
                2027,
                2028,
                2029,
                2030
               ]
              ],
              "y": [
               [
                756379385,
                840190480,
                909919829,
                964371624,
                1021150563,
                1075615574,
                1117765361,
                1117015201,
                1117561802,
                1119236161,
                1139953668.9393425,
                1145528794.797512,
                1151103920.6556816,
                1156679046.513853,
                1162254172.3720226,
                1167829298.2301922,
                1173404424.0883617
               ]
              ]
             },
             {
              "title": "<b>Population of Post-demographic dividend</b>",
              "title_text": "<b>Population of Post-demographic dividend</b>"
             }
            ],
            "label": "Post-demographic dividend",
            "method": "update"
           },
           {
            "args": [
             {
              "marker": [
               {
                "color": [
                 "blue",
                 "blue",
                 "blue",
                 "blue",
                 "blue",
                 "blue",
                 "blue",
                 "blue",
                 "blue",
                 "blue",
                 "red",
                 "red",
                 "red",
                 "red",
                 "red",
                 "red",
                 "red"
                ]
               }
              ],
              "x": [
               [
                1960,
                1970,
                1980,
                1990,
                2000,
                2010,
                2020,
                2021,
                2022,
                2023,
                2024,
                2025,
                2026,
                2027,
                2028,
                2029,
                2030
               ]
              ],
              "y": [
               [
                83671,
                114010,
                156471,
                203776,
                240337,
                270580,
                279209,
                279792,
                280378,
                281118,
                296488.88756966405,
                299667.3583716992,
                302845.8291737344,
                306024.2999757705,
                309202.7707778057,
                312381.2415798409,
                315559.7123818761
               ]
              ]
             },
             {
              "title": "<b>Population of French Polynesia</b>",
              "title_text": "<b>Population of French Polynesia</b>"
             }
            ],
            "label": "French Polynesia",
            "method": "update"
           },
           {
            "args": [
             {
              "marker": [
               {
                "color": [
                 "blue",
                 "blue",
                 "blue",
                 "blue",
                 "blue",
                 "blue",
                 "blue",
                 "blue",
                 "blue",
                 "blue",
                 "red",
                 "red",
                 "red",
                 "red",
                 "red",
                 "red",
                 "red"
                ]
               }
              ],
              "x": [
               [
                1960,
                1970,
                1980,
                1990,
                2000,
                2010,
                2020,
                2021,
                2022,
                2023,
                2024,
                2025,
                2026,
                2027,
                2028,
                2029,
                2030
               ]
              ],
              "y": [
               [
                36010,
                116350,
                275913,
                440175,
                644989,
                1616832,
                2794148,
                2504910,
                2657333,
                2656032,
                2531355.683062762,
                2578777.2602374703,
                2626198.8374121636,
                2673620.414586872,
                2721041.99176158,
                2768463.5689362735,
                2815885.1461109817
               ]
              ]
             },
             {
              "title": "<b>Population of Qatar</b>",
              "title_text": "<b>Population of Qatar</b>"
             }
            ],
            "label": "Qatar",
            "method": "update"
           },
           {
            "args": [
             {
              "marker": [
               {
                "color": [
                 "blue",
                 "blue",
                 "blue",
                 "blue",
                 "blue",
                 "blue",
                 "blue",
                 "blue",
                 "blue",
                 "blue",
                 "red",
                 "red",
                 "red",
                 "red",
                 "red",
                 "red",
                 "red"
                ]
               }
              ],
              "x": [
               [
                1960,
                1970,
                1980,
                1990,
                2000,
                2010,
                2020,
                2021,
                2022,
                2023,
                2024,
                2025,
                2026,
                2027,
                2028,
                2029,
                2030
               ]
              ],
              "y": [
               [
                18406905,
                20250398,
                22207282,
                23201835,
                22442971,
                20246871,
                19265250,
                19122059,
                19048502,
                19059479,
                19872473.716178007,
                19853921.196349233,
                19835368.676520467,
                19816816.156691693,
                19798263.636862926,
                19779711.117034152,
                19761158.597205386
               ]
              ]
             },
             {
              "title": "<b>Population of Romania</b>",
              "title_text": "<b>Population of Romania</b>"
             }
            ],
            "label": "Romania",
            "method": "update"
           },
           {
            "args": [
             {
              "marker": [
               {
                "color": [
                 "blue",
                 "blue",
                 "blue",
                 "blue",
                 "blue",
                 "blue",
                 "blue",
                 "blue",
                 "blue",
                 "blue",
                 "red",
                 "red",
                 "red",
                 "red",
                 "red",
                 "red",
                 "red"
                ]
               }
              ],
              "x": [
               [
                1960,
                1970,
                1980,
                1990,
                2000,
                2010,
                2020,
                2021,
                2022,
                2023,
                2024,
                2025,
                2026,
                2027,
                2028,
                2029,
                2030
               ]
              ],
              "y": [
               [
                119897000,
                130404000,
                139010000,
                147969406,
                146596869,
                142849468,
                145245148,
                144746762,
                144236933,
                143826130,
                147613864.9081658,
                147906311.35522175,
                148198757.80227768,
                148491204.24933362,
                148783650.69638968,
                149076097.1434456,
                149368543.59050155
               ]
              ]
             },
             {
              "title": "<b>Population of Russian Federation</b>",
              "title_text": "<b>Population of Russian Federation</b>"
             }
            ],
            "label": "Russian Federation",
            "method": "update"
           },
           {
            "args": [
             {
              "marker": [
               {
                "color": [
                 "blue",
                 "blue",
                 "blue",
                 "blue",
                 "blue",
                 "blue",
                 "blue",
                 "blue",
                 "blue",
                 "blue",
                 "red",
                 "red",
                 "red",
                 "red",
                 "red",
                 "red",
                 "red"
                ]
               }
              ],
              "x": [
               [
                1960,
                1970,
                1980,
                1990,
                2000,
                2010,
                2020,
                2021,
                2022,
                2023,
                2024,
                2025,
                2026,
                2027,
                2028,
                2029,
                2030
               ]
              ],
              "y": [
               [
                3022294,
                3980669,
                5353259,
                7375307,
                8213931,
                10317553,
                13065837,
                13355260,
                13651030,
                13954471,
                13574559.454850197,
                13752657.748081744,
                13930756.04131329,
                14108854.334544897,
                14286952.627776444,
                14465050.92100799,
                14643149.214239597
               ]
              ]
             },
             {
              "title": "<b>Population of Rwanda</b>",
              "title_text": "<b>Population of Rwanda</b>"
             }
            ],
            "label": "Rwanda",
            "method": "update"
           },
           {
            "args": [
             {
              "marker": [
               {
                "color": [
                 "blue",
                 "blue",
                 "blue",
                 "blue",
                 "blue",
                 "blue",
                 "blue",
                 "blue",
                 "blue",
                 "blue",
                 "red",
                 "red",
                 "red",
                 "red",
                 "red",
                 "red",
                 "red"
                ]
               }
              ],
              "x": [
               [
                1960,
                1970,
                1980,
                1990,
                2000,
                2010,
                2020,
                2021,
                2022,
                2023,
                2024,
                2025,
                2026,
                2027,
                2028,
                2029,
                2030
               ]
              ],
              "y": [
               [
                562663671,
                711535056,
                901830096,
                1141498254,
                1412194936,
                1672490146,
                1895144142,
                1914263569,
                1932289074,
                1951539835,
                1973956685.3815994,
                1997088316.835762,
                2020219948.2899246,
                2043351579.7440872,
                2066483211.1982498,
                2089614842.6524124,
                2112746474.1065826
               ]
              ]
             },
             {
              "title": "<b>Population of South Asia</b>",
              "title_text": "<b>Population of South Asia</b>"
             }
            ],
            "label": "South Asia",
            "method": "update"
           },
           {
            "args": [
             {
              "marker": [
               {
                "color": [
                 "blue",
                 "blue",
                 "blue",
                 "blue",
                 "blue",
                 "blue",
                 "blue",
                 "blue",
                 "blue",
                 "blue",
                 "red",
                 "red",
                 "red",
                 "red",
                 "red",
                 "red",
                 "red"
                ]
               }
              ],
              "x": [
               [
                1960,
                1970,
                1980,
                1990,
                2000,
                2010,
                2020,
                2021,
                2022,
                2023,
                2024,
                2025,
                2026,
                2027,
                2028,
                2029,
                2030
               ]
              ],
              "y": [
               [
                2435403,
                3562470,
                6047997,
                10640691,
                16177722,
                23978487,
                31552510,
                30784383,
                32175224,
                33264292,
                32043479.39540434,
                32575510.60423231,
                33107541.813060284,
                33639573.021888494,
                34171604.23071647,
                34703635.43954444,
                35235666.64837265
               ]
              ]
             },
             {
              "title": "<b>Population of Saudi Arabia</b>",
              "title_text": "<b>Population of Saudi Arabia</b>"
             }
            ],
            "label": "Saudi Arabia",
            "method": "update"
           },
           {
            "args": [
             {
              "marker": [
               {
                "color": [
                 "blue",
                 "blue",
                 "blue",
                 "blue",
                 "blue",
                 "blue",
                 "blue",
                 "blue",
                 "blue",
                 "blue",
                 "red",
                 "red",
                 "red",
                 "red",
                 "red",
                 "red",
                 "red"
                ]
               }
              ],
              "x": [
               [
                1960,
                1970,
                1980,
                1990,
                2000,
                2010,
                2020,
                2021,
                2022,
                2023,
                2024,
                2025,
                2026,
                2027,
                2028,
                2029,
                2030
               ]
              ],
              "y": [
               [
                8364489,
                11695771,
                17058905,
                22021481,
                27816745,
                35414399,
                46789231,
                48066924,
                49383346,
                50042791,
                48498510.45020628,
                49188391.689968824,
                49878272.92973113,
                50568154.169493675,
                51258035.40925622,
                51947916.649018764,
                52637797.88878131
               ]
              ]
             },
             {
              "title": "<b>Population of Sudan</b>",
              "title_text": "<b>Population of Sudan</b>"
             }
            ],
            "label": "Sudan",
            "method": "update"
           },
           {
            "args": [
             {
              "marker": [
               {
                "color": [
                 "blue",
                 "blue",
                 "blue",
                 "blue",
                 "blue",
                 "blue",
                 "blue",
                 "blue",
                 "blue",
                 "blue",
                 "red",
                 "red",
                 "red",
                 "red",
                 "red",
                 "red",
                 "red"
                ]
               }
              ],
              "x": [
               [
                1960,
                1970,
                1980,
                1990,
                2000,
                2010,
                2020,
                2021,
                2022,
                2023,
                2024,
                2025,
                2026,
                2027,
                2028,
                2029,
                2030
               ]
              ],
              "y": [
               [
                3340907,
                4466328,
                5845638,
                7720523,
                9968260,
                12635413,
                16789219,
                17220867,
                17651103,
                18077573,
                17341155.060940146,
                17585809.64950329,
                17830464.238066435,
                18075118.82662952,
                18319773.415192664,
                18564428.00375575,
                18809082.592318892
               ]
              ]
             },
             {
              "title": "<b>Population of Senegal</b>",
              "title_text": "<b>Population of Senegal</b>"
             }
            ],
            "label": "Senegal",
            "method": "update"
           },
           {
            "args": [
             {
              "marker": [
               {
                "color": [
                 "blue",
                 "blue",
                 "blue",
                 "blue",
                 "blue",
                 "blue",
                 "blue",
                 "blue",
                 "blue",
                 "blue",
                 "red",
                 "red",
                 "red",
                 "red",
                 "red",
                 "red",
                 "red"
                ]
               }
              ],
              "x": [
               [
                1960,
                1970,
                1980,
                1990,
                2000,
                2010,
                2020,
                2021,
                2022,
                2023,
                2024,
                2025,
                2026,
                2027,
                2028,
                2029,
                2030
               ]
              ],
              "y": [
               [
                1646400,
                2074507,
                2413945,
                3047132,
                4027887,
                5076732,
                5685807,
                5453566,
                5637022,
                5917648,
                5815975.375090867,
                5886381.554397881,
                5956787.733704865,
                6027193.913011879,
                6097600.092318863,
                6168006.271625876,
                6238412.45093289
               ]
              ]
             },
             {
              "title": "<b>Population of Singapore</b>",
              "title_text": "<b>Population of Singapore</b>"
             }
            ],
            "label": "Singapore",
            "method": "update"
           },
           {
            "args": [
             {
              "marker": [
               {
                "color": [
                 "blue",
                 "blue",
                 "blue",
                 "blue",
                 "blue",
                 "blue",
                 "blue",
                 "blue",
                 "blue",
                 "blue",
                 "red",
                 "red",
                 "red",
                 "red",
                 "red",
                 "red",
                 "red"
                ]
               }
              ],
              "x": [
               [
                1960,
                1970,
                1980,
                1990,
                2000,
                2010,
                2020,
                2021,
                2022,
                2023,
                2024,
                2025,
                2026,
                2027,
                2028,
                2029,
                2030
               ]
              ],
              "y": [
               [
                139688,
                176579,
                238135,
                331435,
                440469,
                532968,
                744498,
                762591,
                781066,
                800005,
                764908.4712866507,
                775980.8102738075,
                787053.1492609642,
                798125.488248121,
                809197.8272352815,
                820270.1662224382,
                831342.505209595
               ]
              ]
             },
             {
              "title": "<b>Population of Solomon Islands</b>",
              "title_text": "<b>Population of Solomon Islands</b>"
             }
            ],
            "label": "Solomon Islands",
            "method": "update"
           },
           {
            "args": [
             {
              "marker": [
               {
                "color": [
                 "blue",
                 "blue",
                 "blue",
                 "blue",
                 "blue",
                 "blue",
                 "blue",
                 "blue",
                 "blue",
                 "blue",
                 "red",
                 "red",
                 "red",
                 "red",
                 "red",
                 "red",
                 "red"
                ]
               }
              ],
              "x": [
               [
                1960,
                1970,
                1980,
                1990,
                2000,
                2010,
                2020,
                2021,
                2022,
                2023,
                2024,
                2025,
                2026,
                2027,
                2028,
                2029,
                2030
               ]
              ],
              "y": [
               [
                2268356,
                2712286,
                3272089,
                4196828,
                4423611,
                6222714,
                7912558,
                8094602,
                8276807,
                8460512,
                8096608.303004622,
                8199582.565422863,
                8302556.827841073,
                8405531.090259284,
                8508505.352677524,
                8611479.615095735,
                8714453.877513945
               ]
              ]
             },
             {
              "title": "<b>Population of Sierra Leone</b>",
              "title_text": "<b>Population of Sierra Leone</b>"
             }
            ],
            "label": "Sierra Leone",
            "method": "update"
           },
           {
            "args": [
             {
              "marker": [
               {
                "color": [
                 "blue",
                 "blue",
                 "blue",
                 "blue",
                 "blue",
                 "blue",
                 "blue",
                 "blue",
                 "blue",
                 "blue",
                 "red",
                 "red",
                 "red",
                 "red",
                 "red",
                 "red",
                 "red"
                ]
               }
              ],
              "x": [
               [
                1960,
                1970,
                1980,
                1990,
                2000,
                2010,
                2020,
                2021,
                2022,
                2023,
                2024,
                2025,
                2026,
                2027,
                2028,
                2029,
                2030
               ]
              ],
              "y": [
               [
                2791459,
                3668796,
                4540382,
                5399726,
                5943366,
                6068249,
                6234673,
                6255782,
                6280319,
                6309624,
                6605132.818189159,
                6656603.933688715,
                6708075.049188271,
                6759546.164687827,
                6811017.280187383,
                6862488.395686939,
                6913959.511186495
               ]
              ]
             },
             {
              "title": "<b>Population of El Salvador</b>",
              "title_text": "<b>Population of El Salvador</b>"
             }
            ],
            "label": "El Salvador",
            "method": "update"
           },
           {
            "args": [
             {
              "marker": [
               {
                "color": [
                 "blue",
                 "blue",
                 "blue",
                 "blue",
                 "blue",
                 "blue",
                 "blue",
                 "blue",
                 "blue",
                 "blue",
                 "red",
                 "red",
                 "red",
                 "red",
                 "red",
                 "red",
                 "red"
                ]
               }
              ],
              "x": [
               [
                1960,
                1970,
                1980,
                1990,
                2000,
                2010,
                2020,
                2021,
                2022,
                2023,
                2024,
                2025,
                2026,
                2027,
                2028,
                2029,
                2030
               ]
              ],
              "y": [
               [
                15428,
                18168,
                21585,
                23475,
                26799,
                33270,
                34770,
                34252,
                33755,
                33860,
                35174.46224052983,
                35487.50577497773,
                35800.54930942564,
                36113.59284387366,
                36426.636378321564,
                36739.67991276947,
                37052.72344721749
               ]
              ]
             },
             {
              "title": "<b>Population of San Marino</b>",
              "title_text": "<b>Population of San Marino</b>"
             }
            ],
            "label": "San Marino",
            "method": "update"
           },
           {
            "args": [
             {
              "marker": [
               {
                "color": [
                 "blue",
                 "blue",
                 "blue",
                 "blue",
                 "blue",
                 "blue",
                 "blue",
                 "blue",
                 "blue",
                 "blue",
                 "red",
                 "red",
                 "red",
                 "red",
                 "red",
                 "red",
                 "red"
                ]
               }
              ],
              "x": [
               [
                1960,
                1970,
                1980,
                1990,
                2000,
                2010,
                2020,
                2021,
                2022,
                2023,
                2024,
                2025,
                2026,
                2027,
                2028,
                2029,
                2030
               ]
              ],
              "y": [
               [
                2876331,
                3738448,
                5936154,
                7082811,
                8838713,
                12261756,
                16651191,
                17271431,
                17801897,
                18358615,
                17288650.385873497,
                17543032.176278174,
                17797413.96668279,
                18051795.75708747,
                18306177.547492087,
                18560559.337896764,
                18814941.12830144
               ]
              ]
             },
             {
              "title": "<b>Population of Somalia</b>",
              "title_text": "<b>Population of Somalia</b>"
             }
            ],
            "label": "Somalia",
            "method": "update"
           },
           {
            "args": [
             {
              "marker": [
               {
                "color": [
                 "blue",
                 "blue",
                 "blue",
                 "blue",
                 "blue",
                 "blue",
                 "blue",
                 "blue",
                 "blue",
                 "blue",
                 "red",
                 "red",
                 "red",
                 "red",
                 "red",
                 "red",
                 "red"
                ]
               }
              ],
              "x": [
               [
                1960,
                1970,
                1980,
                1990,
                2000,
                2010,
                2020,
                2021,
                2022,
                2023,
                2024,
                2025,
                2026,
                2027,
                2028,
                2029,
                2030
               ]
              ],
              "y": [
               [
                6638992,
                7164993,
                7709544,
                7897937,
                7516346,
                7291436,
                6899126,
                6834326,
                6664449,
                6623183,
                6967284.857685164,
                6960860.745295212,
                6954436.63290526,
                6948012.520515308,
                6941588.408125354,
                6935164.295735402,
                6928740.18334545
               ]
              ]
             },
             {
              "title": "<b>Population of Serbia</b>",
              "title_text": "<b>Population of Serbia</b>"
             }
            ],
            "label": "Serbia",
            "method": "update"
           },
           {
            "args": [
             {
              "marker": [
               {
                "color": [
                 "blue",
                 "blue",
                 "blue",
                 "blue",
                 "blue",
                 "blue",
                 "blue",
                 "blue",
                 "blue",
                 "blue",
                 "red",
                 "red",
                 "red",
                 "red",
                 "red",
                 "red",
                 "red"
                ]
               }
              ],
              "x": [
               [
                1960,
                1970,
                1980,
                1990,
                2000,
                2010,
                2020,
                2021,
                2022,
                2023,
                2024,
                2025,
                2026,
                2027,
                2028,
                2029,
                2030
               ]
              ],
              "y": [
               [
                227661305,
                294017921,
                389895986,
                521245205,
                681043976,
                894576887,
                1168916989,
                1198912667,
                1229088695,
                1259782580,
                1208872686.0749893,
                1226182459.2297058,
                1243492232.3844147,
                1260802005.5391312,
                1278111778.6938477,
                1295421551.8485565,
                1312731325.003273
               ]
              ]
             },
             {
              "title": "<b>Population of Sub-Saharan Africa (excluding high income)</b>",
              "title_text": "<b>Population of Sub-Saharan Africa (excluding high income)</b>"
             }
            ],
            "label": "Sub-Saharan Africa (excluding high income)",
            "method": "update"
           },
           {
            "args": [
             {
              "marker": [
               {
                "color": [
                 "blue",
                 "blue",
                 "blue",
                 "blue",
                 "blue",
                 "blue",
                 "blue",
                 "blue",
                 "blue",
                 "blue",
                 "red",
                 "red",
                 "red",
                 "red",
                 "red",
                 "red",
                 "red"
                ]
               }
              ],
              "x": [
               [
                1960,
                1970,
                1980,
                1990,
                2000,
                2010,
                2020,
                2021,
                2022,
                2023,
                2024,
                2025,
                2026,
                2027,
                2028,
                2029,
                2030
               ]
              ],
              "y": [
               [
                2931559,
                3409614,
                4339030,
                4737633,
                6032267,
                9745953,
                10698467,
                10865780,
                11021177,
                11483374,
                11086626.796785355,
                11232534.231079876,
                11378441.665374339,
                11524349.09966886,
                11670256.533963323,
                11816163.968257785,
                11962071.402552307
               ]
              ]
             },
             {
              "title": "<b>Population of South Sudan</b>",
              "title_text": "<b>Population of South Sudan</b>"
             }
            ],
            "label": "South Sudan",
            "method": "update"
           },
           {
            "args": [
             {
              "marker": [
               {
                "color": [
                 "blue",
                 "blue",
                 "blue",
                 "blue",
                 "blue",
                 "blue",
                 "blue",
                 "blue",
                 "blue",
                 "blue",
                 "red",
                 "red",
                 "red",
                 "red",
                 "red",
                 "red",
                 "red"
                ]
               }
              ],
              "x": [
               [
                1960,
                1970,
                1980,
                1990,
                2000,
                2010,
                2020,
                2021,
                2022,
                2023,
                2024,
                2025,
                2026,
                2027,
                2028,
                2029,
                2030
               ]
              ],
              "y": [
               [
                227703005,
                294071521,
                389959247,
                521314712,
                681125107,
                894666657,
                1169015451,
                1199011925,
                1229208573,
                1259902353,
                1208983130.8042603,
                1226294002.7593536,
                1243604874.714447,
                1260915746.6695328,
                1278226618.6246262,
                1295537490.5797195,
                1312848362.534813
               ]
              ]
             },
             {
              "title": "<b>Population of Sub-Saharan Africa</b>",
              "title_text": "<b>Population of Sub-Saharan Africa</b>"
             }
            ],
            "label": "Sub-Saharan Africa",
            "method": "update"
           },
           {
            "args": [
             {
              "marker": [
               {
                "color": [
                 "blue",
                 "blue",
                 "blue",
                 "blue",
                 "blue",
                 "blue",
                 "blue",
                 "blue",
                 "blue",
                 "blue",
                 "red",
                 "red",
                 "red",
                 "red",
                 "red",
                 "red",
                 "red"
                ]
               }
              ],
              "x": [
               [
                1960,
                1970,
                1980,
                1990,
                2000,
                2010,
                2020,
                2021,
                2022,
                2023,
                2024,
                2025,
                2026,
                2027,
                2028,
                2029,
                2030
               ]
              ],
              "y": [
               [
                8084378,
                9760009,
                11535614,
                13642451,
                15104549,
                17486029,
                19572194,
                19777900,
                20005272,
                20253539,
                20283376.501776934,
                20478506.952669382,
                20673637.40356189,
                20868767.8544544,
                21063898.305346906,
                21259028.756239414,
                21454159.207131863
               ]
              ]
             },
             {
              "title": "<b>Population of Small states</b>",
              "title_text": "<b>Population of Small states</b>"
             }
            ],
            "label": "Small states",
            "method": "update"
           },
           {
            "args": [
             {
              "marker": [
               {
                "color": [
                 "blue",
                 "blue",
                 "blue",
                 "blue",
                 "blue",
                 "blue",
                 "blue",
                 "blue",
                 "blue",
                 "blue",
                 "red",
                 "red",
                 "red",
                 "red",
                 "red",
                 "red",
                 "red"
                ]
               }
              ],
              "x": [
               [
                1960,
                1970,
                1980,
                1990,
                2000,
                2010,
                2020,
                2021,
                2022,
                2023,
                2024,
                2025,
                2026,
                2027,
                2028,
                2029,
                2030
               ]
              ],
              "y": [
               [
                68012,
                77626,
                98544,
                122980,
                144018,
                181802,
                217435,
                221961,
                226305,
                230871,
                225481.04910750408,
                228207.5101365,
                230933.97116549592,
                233660.43219449185,
                236386.89322348777,
                239113.35425248463,
                241839.81528148055
               ]
              ]
             },
             {
              "title": "<b>Population of Sao Tome and Principe</b>",
              "title_text": "<b>Population of Sao Tome and Principe</b>"
             }
            ],
            "label": "Sao Tome and Principe",
            "method": "update"
           },
           {
            "args": [
             {
              "marker": [
               {
                "color": [
                 "blue",
                 "blue",
                 "blue",
                 "blue",
                 "blue",
                 "blue",
                 "blue",
                 "blue",
                 "blue",
                 "blue",
                 "red",
                 "red",
                 "red",
                 "red",
                 "red",
                 "red",
                 "red"
                ]
               }
              ],
              "x": [
               [
                1960,
                1970,
                1980,
                1990,
                2000,
                2010,
                2020,
                2021,
                2022,
                2023,
                2024,
                2025,
                2026,
                2027,
                2028,
                2029,
                2030
               ]
              ],
              "y": [
               [
                263918,
                379442,
                375377,
                412493,
                476643,
                549923,
                612317,
                617896,
                623164,
                628886,
                628505.1877473556,
                634017.4536386412,
                639529.7195299268,
                645041.9854212124,
                650554.2513124961,
                656066.5172037818,
                661578.7830950674
               ]
              ]
             },
             {
              "title": "<b>Population of Suriname</b>",
              "title_text": "<b>Population of Suriname</b>"
             }
            ],
            "label": "Suriname",
            "method": "update"
           },
           {
            "args": [
             {
              "marker": [
               {
                "color": [
                 "blue",
                 "blue",
                 "blue",
                 "blue",
                 "blue",
                 "blue",
                 "blue",
                 "blue",
                 "blue",
                 "blue",
                 "red",
                 "red",
                 "red",
                 "red",
                 "red",
                 "red",
                 "red"
                ]
               }
              ],
              "x": [
               [
                1960,
                1970,
                1980,
                1990,
                2000,
                2010,
                2020,
                2021,
                2022,
                2023,
                2024,
                2025,
                2026,
                2027,
                2028,
                2029,
                2030
               ]
              ],
              "y": [
               [
                4068095,
                4538223,
                4979815,
                5299187,
                5388720,
                5391428,
                5458827,
                5447247,
                5431752,
                5426740,
                5590907.882723525,
                5609264.623818755,
                5627621.364913978,
                5645978.106009208,
                5664334.84710443,
                5682691.58819966,
                5701048.329294883
               ]
              ]
             },
             {
              "title": "<b>Population of Slovak Republic</b>",
              "title_text": "<b>Population of Slovak Republic</b>"
             }
            ],
            "label": "Slovak Republic",
            "method": "update"
           },
           {
            "args": [
             {
              "marker": [
               {
                "color": [
                 "blue",
                 "blue",
                 "blue",
                 "blue",
                 "blue",
                 "blue",
                 "blue",
                 "blue",
                 "blue",
                 "blue",
                 "red",
                 "red",
                 "red",
                 "red",
                 "red",
                 "red",
                 "red"
                ]
               }
              ],
              "x": [
               [
                1960,
                1970,
                1980,
                1990,
                2000,
                2010,
                2020,
                2021,
                2022,
                2023,
                2024,
                2025,
                2026,
                2027,
                2028,
                2029,
                2030
               ]
              ],
              "y": [
               [
                1584720,
                1724891,
                1901315,
                1998161,
                1988925,
                2048583,
                2102419,
                2108079,
                2112076,
                2120461,
                2150137.8579274695,
                2157563.0570228584,
                2164988.2561182454,
                2172413.4552136343,
                2179838.6543090213,
                2187263.85340441,
                2194689.052499799
               ]
              ]
             },
             {
              "title": "<b>Population of Slovenia</b>",
              "title_text": "<b>Population of Slovenia</b>"
             }
            ],
            "label": "Slovenia",
            "method": "update"
           },
           {
            "args": [
             {
              "marker": [
               {
                "color": [
                 "blue",
                 "blue",
                 "blue",
                 "blue",
                 "blue",
                 "blue",
                 "blue",
                 "blue",
                 "blue",
                 "blue",
                 "red",
                 "red",
                 "red",
                 "red",
                 "red",
                 "red",
                 "red"
                ]
               }
              ],
              "x": [
               [
                1960,
                1970,
                1980,
                1990,
                2000,
                2010,
                2020,
                2021,
                2022,
                2023,
                2024,
                2025,
                2026,
                2027,
                2028,
                2029,
                2030
               ]
              ],
              "y": [
               [
                7484656,
                8042801,
                8310531,
                8558835,
                8872109,
                9378126,
                10353442,
                10415811,
                10486941,
                10536632,
                10412374.559324771,
                10460259.237985626,
                10508143.91664648,
                10556028.595307335,
                10603913.27396819,
                10651797.95262903,
                10699682.631289884
               ]
              ]
             },
             {
              "title": "<b>Population of Sweden</b>",
              "title_text": "<b>Population of Sweden</b>"
             }
            ],
            "label": "Sweden",
            "method": "update"
           },
           {
            "args": [
             {
              "marker": [
               {
                "color": [
                 "blue",
                 "blue",
                 "blue",
                 "blue",
                 "blue",
                 "blue",
                 "blue",
                 "blue",
                 "blue",
                 "blue",
                 "red",
                 "red",
                 "red",
                 "red",
                 "red",
                 "red",
                 "red"
                ]
               }
              ],
              "x": [
               [
                1960,
                1970,
                1980,
                1990,
                2000,
                2010,
                2020,
                2021,
                2022,
                2023,
                2024,
                2025,
                2026,
                2027,
                2028,
                2029,
                2030
               ]
              ],
              "y": [
               [
                345337,
                441216,
                596644,
                872428,
                1041414,
                1111650,
                1192729,
                1206593,
                1218917,
                1230506,
                1277638.6519667208,
                1292060.588522736,
                1306482.5250787474,
                1320904.4616347626,
                1335326.398190774,
                1349748.3347467892,
                1364170.2713028006
               ]
              ]
             },
             {
              "title": "<b>Population of Eswatini</b>",
              "title_text": "<b>Population of Eswatini</b>"
             }
            ],
            "label": "Eswatini",
            "method": "update"
           },
           {
            "args": [
             {
              "marker": [
               {
                "color": [
                 "blue",
                 "blue",
                 "blue",
                 "blue",
                 "blue",
                 "blue",
                 "blue",
                 "blue",
                 "blue",
                 "blue",
                 "red",
                 "red",
                 "red",
                 "red",
                 "red",
                 "red",
                 "red"
                ]
               }
              ],
              "x": [
               [
                1960,
                1970,
                1980,
                1990,
                2000,
                2010,
                2020,
                2021,
                2022,
                2023,
                2024,
                2025,
                2026,
                2027,
                2028,
                2029,
                2030
               ]
              ],
              "y": [
               [
                2715,
                6414,
                12410,
                28061,
                30773,
                33794,
                41008,
                41571,
                42139,
                42749,
                44048.722316452535,
                44699.760116307065,
                45350.79791616183,
                46001.83571601636,
                46652.87351587112,
                47303.91131572565,
                47954.94911558018
               ]
              ]
             },
             {
              "title": "<b>Population of Sint Maarten (Dutch part)</b>",
              "title_text": "<b>Population of Sint Maarten (Dutch part)</b>"
             }
            ],
            "label": "Sint Maarten (Dutch part)",
            "method": "update"
           },
           {
            "args": [
             {
              "marker": [
               {
                "color": [
                 "blue",
                 "blue",
                 "blue",
                 "blue",
                 "blue",
                 "blue",
                 "blue",
                 "blue",
                 "blue",
                 "blue",
                 "red",
                 "red",
                 "red",
                 "red",
                 "red",
                 "red",
                 "red"
                ]
               }
              ],
              "x": [
               [
                1960,
                1970,
                1980,
                1990,
                2000,
                2010,
                2020,
                2021,
                2022,
                2023,
                2024,
                2025,
                2026,
                2027,
                2028,
                2029,
                2030
               ]
              ],
              "y": [
               [
                41700,
                53600,
                63261,
                69507,
                81131,
                89770,
                98462,
                99258,
                119878,
                119773,
                110444.72926258016,
                111543.52964219404,
                112642.33002180792,
                113741.1304014218,
                114839.93078103568,
                115938.73116064956,
                117037.53154026344
               ]
              ]
             },
             {
              "title": "<b>Population of Seychelles</b>",
              "title_text": "<b>Population of Seychelles</b>"
             }
            ],
            "label": "Seychelles",
            "method": "update"
           },
           {
            "args": [
             {
              "marker": [
               {
                "color": [
                 "blue",
                 "blue",
                 "blue",
                 "blue",
                 "blue",
                 "blue",
                 "blue",
                 "blue",
                 "blue",
                 "blue",
                 "red",
                 "red",
                 "red",
                 "red",
                 "red",
                 "red",
                 "red"
                ]
               }
              ],
              "x": [
               [
                1960,
                1970,
                1980,
                1990,
                2000,
                2010,
                2020,
                2021,
                2022,
                2023,
                2024,
                2025,
                2026,
                2027,
                2028,
                2029,
                2030
               ]
              ],
              "y": [
               [
                4673500,
                6380609,
                8957663,
                12579208,
                16637888,
                22482421,
                21049429,
                21628839,
                22462173,
                23594623,
                23522382.330708385,
                23828847.372950554,
                24135312.415192604,
                24441777.457434773,
                24748242.499676943,
                25054707.541919112,
                25361172.58416128
               ]
              ]
             },
             {
              "title": "<b>Population of Syrian Arab Republic</b>",
              "title_text": "<b>Population of Syrian Arab Republic</b>"
             }
            ],
            "label": "Syrian Arab Republic",
            "method": "update"
           },
           {
            "args": [
             {
              "marker": [
               {
                "color": [
                 "blue",
                 "blue",
                 "blue",
                 "blue",
                 "blue",
                 "blue",
                 "blue",
                 "blue",
                 "blue",
                 "blue",
                 "red",
                 "red",
                 "red",
                 "red",
                 "red",
                 "red",
                 "red"
                ]
               }
              ],
              "x": [
               [
                1960,
                1970,
                1980,
                1990,
                2000,
                2010,
                2020,
                2021,
                2022,
                2023,
                2024,
                2025,
                2026,
                2027,
                2028,
                2029,
                2030
               ]
              ],
              "y": [
               [
                5599,
                5667,
                7564,
                11688,
                18730,
                29739,
                44386,
                45243,
                45847,
                46198,
                44042.08412083052,
                44778.80478152027,
                45515.525442210026,
                46252.24610289978,
                46988.96676358953,
                47725.687424279284,
                48462.408084969036
               ]
              ]
             },
             {
              "title": "<b>Population of Turks and Caicos Islands</b>",
              "title_text": "<b>Population of Turks and Caicos Islands</b>"
             }
            ],
            "label": "Turks and Caicos Islands",
            "method": "update"
           },
           {
            "args": [
             {
              "marker": [
               {
                "color": [
                 "blue",
                 "blue",
                 "blue",
                 "blue",
                 "blue",
                 "blue",
                 "blue",
                 "blue",
                 "blue",
                 "blue",
                 "red",
                 "red",
                 "red",
                 "red",
                 "red",
                 "red",
                 "red"
                ]
               }
              ],
              "x": [
               [
                1960,
                1970,
                1980,
                1990,
                2000,
                2010,
                2020,
                2021,
                2022,
                2023,
                2024,
                2025,
                2026,
                2027,
                2028,
                2029,
                2030
               ]
              ],
              "y": [
               [
                3049838,
                3727828,
                4515453,
                5982833,
                8512093,
                12312575,
                17224679,
                17828273,
                18455316,
                19319064,
                17757782.59890157,
                18030937.820168078,
                18304093.041434467,
                18577248.262700975,
                18850403.483967483,
                19123558.705233872,
                19396713.92650038
               ]
              ]
             },
             {
              "title": "<b>Population of Chad</b>",
              "title_text": "<b>Population of Chad</b>"
             }
            ],
            "label": "Chad",
            "method": "update"
           },
           {
            "args": [
             {
              "marker": [
               {
                "color": [
                 "blue",
                 "blue",
                 "blue",
                 "blue",
                 "blue",
                 "blue",
                 "blue",
                 "blue",
                 "blue",
                 "blue",
                 "red",
                 "red",
                 "red",
                 "red",
                 "red",
                 "red",
                 "red"
                ]
               }
              ],
              "x": [
               [
                1960,
                1970,
                1980,
                1990,
                2000,
                2010,
                2020,
                2021,
                2022,
                2023,
                2024,
                2025,
                2026,
                2027,
                2028,
                2029,
                2030
               ]
              ],
              "y": [
               [
                884252517,
                1101240545,
                1338009609,
                1579651917,
                1795374943,
                1948643347,
                2095759417,
                2102350702,
                2107261123,
                2111139152,
                2180969003.8538055,
                2200419851.2576447,
                2219870698.6614914,
                2239321546.065338,
                2258772393.469185,
                2278223240.873024,
                2297674088.2768707
               ]
              ]
             },
             {
              "title": "<b>Population of East Asia & Pacific (IDA & IBRD countries)</b>",
              "title_text": "<b>Population of East Asia & Pacific (IDA & IBRD countries)</b>"
             }
            ],
            "label": "East Asia & Pacific (IDA & IBRD countries)",
            "method": "update"
           },
           {
            "args": [
             {
              "marker": [
               {
                "color": [
                 "blue",
                 "blue",
                 "blue",
                 "blue",
                 "blue",
                 "blue",
                 "blue",
                 "blue",
                 "blue",
                 "blue",
                 "red",
                 "red",
                 "red",
                 "red",
                 "red",
                 "red",
                 "red"
                ]
               }
              ],
              "x": [
               [
                1960,
                1970,
                1980,
                1990,
                2000,
                2010,
                2020,
                2021,
                2022,
                2023,
                2024,
                2025,
                2026,
                2027,
                2028,
                2029,
                2030
               ]
              ],
              "y": [
               [
                308759361,
                352139347,
                391562181,
                430990546,
                438423540.5,
                442936599,
                463913014.5,
                463790894,
                461440170.5,
                459025452,
                474439662.56560516,
                476617595.0252609,
                478795527.4849167,
                480973459.94457245,
                483151392.40422916,
                485329324.8638849,
                487507257.3235407
               ]
              ]
             },
             {
              "title": "<b>Population of Europe & Central Asia (IDA & IBRD countries)</b>",
              "title_text": "<b>Population of Europe & Central Asia (IDA & IBRD countries)</b>"
             }
            ],
            "label": "Europe & Central Asia (IDA & IBRD countries)",
            "method": "update"
           },
           {
            "args": [
             {
              "marker": [
               {
                "color": [
                 "blue",
                 "blue",
                 "blue",
                 "blue",
                 "blue",
                 "blue",
                 "blue",
                 "blue",
                 "blue",
                 "blue",
                 "red",
                 "red",
                 "red",
                 "red",
                 "red",
                 "red",
                 "red"
                ]
               }
              ],
              "x": [
               [
                1960,
                1970,
                1980,
                1990,
                2000,
                2010,
                2020,
                2021,
                2022,
                2023,
                2024,
                2025,
                2026,
                2027,
                2028,
                2029,
                2030
               ]
              ],
              "y": [
               [
                1673110,
                2244773,
                2920894,
                3998761,
                5140037,
                6732590,
                8669720,
                8878379,
                9089738,
                9304337,
                8978683.071924746,
                9106283.447823286,
                9233883.823721826,
                9361484.199620396,
                9489084.575518936,
                9616684.951417506,
                9744285.327316046
               ]
              ]
             },
             {
              "title": "<b>Population of Togo</b>",
              "title_text": "<b>Population of Togo</b>"
             }
            ],
            "label": "Togo",
            "method": "update"
           },
           {
            "args": [
             {
              "marker": [
               {
                "color": [
                 "blue",
                 "blue",
                 "blue",
                 "blue",
                 "blue",
                 "blue",
                 "blue",
                 "blue",
                 "blue",
                 "blue",
                 "red",
                 "red",
                 "red",
                 "red",
                 "red",
                 "red",
                 "red"
                ]
               }
              ],
              "x": [
               [
                1960,
                1970,
                1980,
                1990,
                2000,
                2010,
                2020,
                2021,
                2022,
                2023,
                2024,
                2025,
                2026,
                2027,
                2028,
                2029,
                2030
               ]
              ],
              "y": [
               [
                26851747,
                35954408,
                45650022,
                54738329,
                63007815,
                68579447,
                71641484,
                71727332,
                71735329,
                71702435,
                75263966.21961069,
                75964996.19582438,
                76666026.17203784,
                77367056.1482513,
                78068086.12446499,
                78769116.10067844,
                79470146.07689214
               ]
              ]
             },
             {
              "title": "<b>Population of Thailand</b>",
              "title_text": "<b>Population of Thailand</b>"
             }
            ],
            "label": "Thailand",
            "method": "update"
           },
           {
            "args": [
             {
              "marker": [
               {
                "color": [
                 "blue",
                 "blue",
                 "blue",
                 "blue",
                 "blue",
                 "blue",
                 "blue",
                 "blue",
                 "blue",
                 "blue",
                 "red",
                 "red",
                 "red",
                 "red",
                 "red",
                 "red",
                 "red"
                ]
               }
              ],
              "x": [
               [
                1960,
                1970,
                1980,
                1990,
                2000,
                2010,
                2020,
                2021,
                2022,
                2023,
                2024,
                2025,
                2026,
                2027,
                2028,
                2029,
                2030
               ]
              ],
              "y": [
               [
                2112131,
                2936779,
                3995256,
                5398768,
                6284735,
                7652141,
                9749310,
                9966908,
                10182222,
                10389799,
                10142076.498788446,
                10276308.941361755,
                10410541.383935064,
                10544773.826508373,
                10679006.269081682,
                10813238.71165499,
                10947471.15422824
               ]
              ]
             },
             {
              "title": "<b>Population of Tajikistan</b>",
              "title_text": "<b>Population of Tajikistan</b>"
             }
            ],
            "label": "Tajikistan",
            "method": "update"
           },
           {
            "args": [
             {
              "marker": [
               {
                "color": [
                 "blue",
                 "blue",
                 "blue",
                 "blue",
                 "blue",
                 "blue",
                 "blue",
                 "blue",
                 "blue",
                 "blue",
                 "red",
                 "red",
                 "red",
                 "red",
                 "red",
                 "red",
                 "red"
                ]
               }
              ],
              "x": [
               [
                1960,
                1970,
                1980,
                1990,
                2000,
                2010,
                2020,
                2021,
                2022,
                2023,
                2024,
                2025,
                2026,
                2027,
                2028,
                2029,
                2030
               ]
              ],
              "y": [
               [
                1643457,
                2195616,
                2832203,
                3760562,
                4582677,
                5564356,
                6949912,
                7092043,
                7230193,
                7364438,
                7216747.760722071,
                7310813.418948382,
                7404879.077174723,
                7498944.735401034,
                7593010.393627346,
                7687076.051853657,
                7781141.710079968
               ]
              ]
             },
             {
              "title": "<b>Population of Turkmenistan</b>",
              "title_text": "<b>Population of Turkmenistan</b>"
             }
            ],
            "label": "Turkmenistan",
            "method": "update"
           },
           {
            "args": [
             {
              "marker": [
               {
                "color": [
                 "blue",
                 "blue",
                 "blue",
                 "blue",
                 "blue",
                 "blue",
                 "blue",
                 "blue",
                 "blue",
                 "blue",
                 "red",
                 "red",
                 "red",
                 "red",
                 "red",
                 "red",
                 "red"
                ]
               }
              ],
              "x": [
               [
                1960,
                1970,
                1980,
                1990,
                2000,
                2010,
                2020,
                2021,
                2022,
                2023,
                2024,
                2025,
                2026,
                2027,
                2028,
                2029,
                2030
               ]
              ],
              "y": [
               [
                208671107,
                272962813,
                346105657,
                426091608,
                504556065,
                571822092,
                630051021,
                633862610,
                637837815,
                642397939,
                658246348.6668682,
                665246778.0097733,
                672247207.3526783,
                679247636.6955833,
                686248066.0384865,
                693248495.3813915,
                700248924.7242966
               ]
              ]
             },
             {
              "title": "<b>Population of Latin America & the Caribbean (IDA & IBRD countries)</b>",
              "title_text": "<b>Population of Latin America & the Caribbean (IDA & IBRD countries)</b>"
             }
            ],
            "label": "Latin America & the Caribbean (IDA & IBRD countries)",
            "method": "update"
           },
           {
            "args": [
             {
              "marker": [
               {
                "color": [
                 "blue",
                 "blue",
                 "blue",
                 "blue",
                 "blue",
                 "blue",
                 "blue",
                 "blue",
                 "blue",
                 "blue",
                 "red",
                 "red",
                 "red",
                 "red",
                 "red",
                 "red",
                 "red"
                ]
               }
              ],
              "x": [
               [
                1960,
                1970,
                1980,
                1990,
                2000,
                2010,
                2020,
                2021,
                2022,
                2023,
                2024,
                2025,
                2026,
                2027,
                2028,
                2029,
                2030
               ]
              ],
              "y": [
               [
                468118,
                553069,
                649871,
                760345,
                745088,
                1084679,
                1326053,
                1350139,
                1369295,
                1384286,
                1341777.9124868773,
                1357051.831031423,
                1372325.749575965,
                1387599.6681205109,
                1402873.586665053,
                1418147.5052095987,
                1433421.4237541407
               ]
              ]
             },
             {
              "title": "<b>Population of Timor-Leste</b>",
              "title_text": "<b>Population of Timor-Leste</b>"
             }
            ],
            "label": "Timor-Leste",
            "method": "update"
           },
           {
            "args": [
             {
              "marker": [
               {
                "color": [
                 "blue",
                 "blue",
                 "blue",
                 "blue",
                 "blue",
                 "blue",
                 "blue",
                 "blue",
                 "blue",
                 "blue",
                 "red",
                 "red",
                 "red",
                 "red",
                 "red",
                 "red",
                 "red"
                ]
               }
              ],
              "x": [
               [
                1960,
                1970,
                1980,
                1990,
                2000,
                2010,
                2020,
                2021,
                2022,
                2023,
                2024,
                2025,
                2026,
                2027,
                2028,
                2029,
                2030
               ]
              ],
              "y": [
               [
                97138700,
                127174194,
                169488204,
                231142716,
                285048915,
                346086741,
                413658033,
                420057840,
                427185536,
                434952414,
                431846130.7823677,
                437446655.43328476,
                443047180.0842018,
                448647704.73511887,
                454248229.386034,
                459848754.03695107,
                465449278.6878681
               ]
              ]
             },
             {
              "title": "<b>Population of Middle East & North Africa (IDA & IBRD countries)</b>",
              "title_text": "<b>Population of Middle East & North Africa (IDA & IBRD countries)</b>"
             }
            ],
            "label": "Middle East & North Africa (IDA & IBRD countries)",
            "method": "update"
           },
           {
            "args": [
             {
              "marker": [
               {
                "color": [
                 "blue",
                 "blue",
                 "blue",
                 "blue",
                 "blue",
                 "blue",
                 "blue",
                 "blue",
                 "blue",
                 "blue",
                 "red",
                 "red",
                 "red",
                 "red",
                 "red",
                 "red",
                 "red"
                ]
               }
              ],
              "x": [
               [
                1960,
                1970,
                1980,
                1990,
                2000,
                2010,
                2020,
                2021,
                2022,
                2023,
                2024,
                2025,
                2026,
                2027,
                2028,
                2029,
                2030
               ]
              ],
              "y": [
               [
                66170,
                84401,
                97769,
                99700,
                102677,
                107400,
                105704,
                105490,
                105042,
                104597,
                109622.97795008484,
                110103.63278410467,
                110584.28761812462,
                111064.94245214446,
                111545.5972861643,
                112026.25212018413,
                112506.90695420408
               ]
              ]
             },
             {
              "title": "<b>Population of Tonga</b>",
              "title_text": "<b>Population of Tonga</b>"
             }
            ],
            "label": "Tonga",
            "method": "update"
           },
           {
            "args": [
             {
              "marker": [
               {
                "color": [
                 "blue",
                 "blue",
                 "blue",
                 "blue",
                 "blue",
                 "blue",
                 "blue",
                 "blue",
                 "blue",
                 "blue",
                 "red",
                 "red",
                 "red",
                 "red",
                 "red",
                 "red",
                 "red"
                ]
               }
              ],
              "x": [
               [
                1960,
                1970,
                1980,
                1990,
                2000,
                2010,
                2020,
                2021,
                2022,
                2023,
                2024,
                2025,
                2026,
                2027,
                2028,
                2029,
                2030
               ]
              ],
              "y": [
               [
                562663671,
                711535056,
                901830096,
                1141498254,
                1412194936,
                1672490146,
                1895144142,
                1914263569,
                1932289074,
                1951539835,
                1973956685.3815994,
                1997088316.835762,
                2020219948.2899246,
                2043351579.7440872,
                2066483211.1982498,
                2089614842.6524124,
                2112746474.1065826
               ]
              ]
             },
             {
              "title": "<b>Population of South Asia (IDA & IBRD)</b>",
              "title_text": "<b>Population of South Asia (IDA & IBRD)</b>"
             }
            ],
            "label": "South Asia (IDA & IBRD)",
            "method": "update"
           },
           {
            "args": [
             {
              "marker": [
               {
                "color": [
                 "blue",
                 "blue",
                 "blue",
                 "blue",
                 "blue",
                 "blue",
                 "blue",
                 "blue",
                 "blue",
                 "blue",
                 "red",
                 "red",
                 "red",
                 "red",
                 "red",
                 "red",
                 "red"
                ]
               }
              ],
              "x": [
               [
                1960,
                1970,
                1980,
                1990,
                2000,
                2010,
                2020,
                2021,
                2022,
                2023,
                2024,
                2025,
                2026,
                2027,
                2028,
                2029,
                2030
               ]
              ],
              "y": [
               [
                227703005,
                294071521,
                389959247,
                521314712,
                681125107,
                894666657,
                1169015451,
                1199011925,
                1229208573,
                1259902353,
                1208983130.8042603,
                1226294002.7593536,
                1243604874.714447,
                1260915746.6695328,
                1278226618.6246262,
                1295537490.5797195,
                1312848362.534813
               ]
              ]
             },
             {
              "title": "<b>Population of Sub-Saharan Africa (IDA & IBRD countries)</b>",
              "title_text": "<b>Population of Sub-Saharan Africa (IDA & IBRD countries)</b>"
             }
            ],
            "label": "Sub-Saharan Africa (IDA & IBRD countries)",
            "method": "update"
           },
           {
            "args": [
             {
              "marker": [
               {
                "color": [
                 "blue",
                 "blue",
                 "blue",
                 "blue",
                 "blue",
                 "blue",
                 "blue",
                 "blue",
                 "blue",
                 "blue",
                 "red",
                 "red",
                 "red",
                 "red",
                 "red",
                 "red",
                 "red"
                ]
               }
              ],
              "x": [
               [
                1960,
                1970,
                1980,
                1990,
                2000,
                2010,
                2020,
                2021,
                2022,
                2023,
                2024,
                2025,
                2026,
                2027,
                2028,
                2029,
                2030
               ]
              ],
              "y": [
               [
                844943,
                991471,
                1121744,
                1252208,
                1319774,
                1317714,
                1366725,
                1367558,
                1365805,
                1367510,
                1414619.935223326,
                1422122.998142315,
                1429626.061061304,
                1437129.1239802912,
                1444632.1868992802,
                1452135.2498182692,
                1459638.3127372582
               ]
              ]
             },
             {
              "title": "<b>Population of Trinidad and Tobago</b>",
              "title_text": "<b>Population of Trinidad and Tobago</b>"
             }
            ],
            "label": "Trinidad and Tobago",
            "method": "update"
           },
           {
            "args": [
             {
              "marker": [
               {
                "color": [
                 "blue",
                 "blue",
                 "blue",
                 "blue",
                 "blue",
                 "blue",
                 "blue",
                 "blue",
                 "blue",
                 "blue",
                 "red",
                 "red",
                 "red",
                 "red",
                 "red",
                 "red",
                 "red"
                ]
               }
              ],
              "x": [
               [
                1960,
                1970,
                1980,
                1990,
                2000,
                2010,
                2020,
                2021,
                2022,
                2023,
                2024,
                2025,
                2026,
                2027,
                2028,
                2029,
                2030
               ]
              ],
              "y": [
               [
                4267288,
                5131396,
                6606195,
                8324509,
                9764935,
                10765980,
                11974057,
                12048622,
                12119334,
                12200431,
                12496531.40622729,
                12626705.861400545,
                12756880.316573769,
                12887054.771747023,
                13017229.226920277,
                13147403.68209353,
                13277578.137266785
               ]
              ]
             },
             {
              "title": "<b>Population of Tunisia</b>",
              "title_text": "<b>Population of Tunisia</b>"
             }
            ],
            "label": "Tunisia",
            "method": "update"
           },
           {
            "args": [
             {
              "marker": [
               {
                "color": [
                 "blue",
                 "blue",
                 "blue",
                 "blue",
                 "blue",
                 "blue",
                 "blue",
                 "blue",
                 "blue",
                 "blue",
                 "red",
                 "red",
                 "red",
                 "red",
                 "red",
                 "red",
                 "red"
                ]
               }
              ],
              "x": [
               [
                1960,
                1970,
                1980,
                1990,
                2000,
                2010,
                2020,
                2021,
                2022,
                2023,
                2024,
                2025,
                2026,
                2027,
                2028,
                2029,
                2030
               ]
              ],
              "y": [
               [
                28329898,
                36638465,
                45408815,
                56015628,
                65425961,
                73142150,
                83384680,
                84147318,
                84979913,
                85325965,
                86720455.07725549,
                87640150.80583143,
                88559846.53440762,
                89479542.26298356,
                90399237.99155974,
                91318933.72013569,
                92238629.44871187
               ]
              ]
             },
             {
              "title": "<b>Population of Turkiye</b>",
              "title_text": "<b>Population of Turkiye</b>"
             }
            ],
            "label": "Turkiye",
            "method": "update"
           },
           {
            "args": [
             {
              "marker": [
               {
                "color": [
                 "blue",
                 "blue",
                 "blue",
                 "blue",
                 "blue",
                 "blue",
                 "blue",
                 "blue",
                 "blue",
                 "blue",
                 "red",
                 "red",
                 "red",
                 "red",
                 "red",
                 "red",
                 "red"
                ]
               }
              ],
              "x": [
               [
                1960,
                1970,
                1980,
                1990,
                2000,
                2010,
                2020,
                2021,
                2022,
                2023,
                2024,
                2025,
                2026,
                2027,
                2028,
                2029,
                2030
               ]
              ],
              "y": [
               [
                5598,
                5663,
                7366,
                8798,
                9544,
                10614,
                10399,
                10194,
                9992,
                9816,
                10669.981100072706,
                10746.685243518295,
                10823.389386963914,
                10900.093530409504,
                10976.797673855093,
                11053.501817300712,
                11130.205960746302
               ]
              ]
             },
             {
              "title": "<b>Population of Tuvalu</b>",
              "title_text": "<b>Population of Tuvalu</b>"
             }
            ],
            "label": "Tuvalu",
            "method": "update"
           },
           {
            "args": [
             {
              "marker": [
               {
                "color": [
                 "blue",
                 "blue",
                 "blue",
                 "blue",
                 "blue",
                 "blue",
                 "blue",
                 "blue",
                 "blue",
                 "blue",
                 "red",
                 "red",
                 "red",
                 "red",
                 "red",
                 "red",
                 "red"
                ]
               }
              ],
              "x": [
               [
                1960,
                1970,
                1980,
                1990,
                2000,
                2010,
                2020,
                2021,
                2022,
                2023,
                2024,
                2025,
                2026,
                2027,
                2028,
                2029,
                2030
               ]
              ],
              "y": [
               [
                9901419,
                13492677,
                19189769,
                26110207,
                34260139,
                44758488,
                60972798,
                62830412,
                64711821,
                66617606,
                63232811.96930766,
                64173315.18116474,
                65113818.39302158,
                66054321.604878426,
                66994824.81673527,
                67935328.02859211,
                68875831.24044895
               ]
              ]
             },
             {
              "title": "<b>Population of Tanzania</b>",
              "title_text": "<b>Population of Tanzania</b>"
             }
            ],
            "label": "Tanzania",
            "method": "update"
           },
           {
            "args": [
             {
              "marker": [
               {
                "color": [
                 "blue",
                 "blue",
                 "blue",
                 "blue",
                 "blue",
                 "blue",
                 "blue",
                 "blue",
                 "blue",
                 "blue",
                 "red",
                 "red",
                 "red",
                 "red",
                 "red",
                 "red",
                 "red"
                ]
               }
              ],
              "x": [
               [
                1960,
                1970,
                1980,
                1990,
                2000,
                2010,
                2020,
                2021,
                2022,
                2023,
                2024,
                2025,
                2026,
                2027,
                2028,
                2029,
                2030
               ]
              ],
              "y": [
               [
                7640973,
                10321603,
                13275741,
                17569897,
                24000150,
                32390802,
                44457152,
                45910930,
                47312719,
                48656601,
                45891710.23269534,
                46577696.029117346,
                47263681.82553911,
                47949667.62196112,
                48635653.41838312,
                49321639.21480489,
                50007625.01122689
               ]
              ]
             },
             {
              "title": "<b>Population of Uganda</b>",
              "title_text": "<b>Population of Uganda</b>"
             }
            ],
            "label": "Uganda",
            "method": "update"
           },
           {
            "args": [
             {
              "marker": [
               {
                "color": [
                 "blue",
                 "blue",
                 "blue",
                 "blue",
                 "blue",
                 "blue",
                 "blue",
                 "blue",
                 "blue",
                 "blue",
                 "red",
                 "red",
                 "red",
                 "red",
                 "red",
                 "red",
                 "red"
                ]
               }
              ],
              "x": [
               [
                1960,
                1970,
                1980,
                1990,
                2000,
                2010,
                2020,
                2021,
                2022,
                2023,
                2024,
                2025,
                2026,
                2027,
                2028,
                2029,
                2030
               ]
              ],
              "y": [
               [
                42824093,
                47261306,
                49955152,
                52054092,
                49556660,
                46456003,
                44680014,
                44298640,
                41048766,
                37732836,
                43572933.38139087,
                43490399.65931672,
                43407865.93724257,
                43325332.21516842,
                43242798.493094295,
                43160264.771020144,
                43077731.04894599
               ]
              ]
             },
             {
              "title": "<b>Population of Ukraine</b>",
              "title_text": "<b>Population of Ukraine</b>"
             }
            ],
            "label": "Ukraine",
            "method": "update"
           },
           {
            "args": [
             {
              "marker": [
               {
                "color": [
                 "blue",
                 "blue",
                 "blue",
                 "blue",
                 "blue",
                 "blue",
                 "blue",
                 "blue",
                 "blue",
                 "blue",
                 "red",
                 "red",
                 "red",
                 "red",
                 "red",
                 "red",
                 "red"
                ]
               }
              ],
              "x": [
               [
                1960,
                1970,
                1980,
                1990,
                2000,
                2010,
                2020,
                2021,
                2022,
                2023,
                2024,
                2025,
                2026,
                2027,
                2028,
                2029,
                2030
               ]
              ],
              "y": [
               [
                1151246171,
                1440343911,
                1762072766,
                2096593239,
                2370143667,
                2579440265,
                2792212417,
                2803460465,
                2810662434,
                2816864459,
                2906326424.659157,
                2932720787.169777,
                2959115149.680397,
                2985509512.191017,
                3011903874.7016373,
                3038298237.212265,
                3064692599.722885
               ]
              ]
             },
             {
              "title": "<b>Population of Upper middle income</b>",
              "title_text": "<b>Population of Upper middle income</b>"
             }
            ],
            "label": "Upper middle income",
            "method": "update"
           },
           {
            "args": [
             {
              "marker": [
               {
                "color": [
                 "blue",
                 "blue",
                 "blue",
                 "blue",
                 "blue",
                 "blue",
                 "blue",
                 "blue",
                 "blue",
                 "blue",
                 "red",
                 "red",
                 "red",
                 "red",
                 "red",
                 "red",
                 "red"
                ]
               }
              ],
              "x": [
               [
                1960,
                1970,
                1980,
                1990,
                2000,
                2010,
                2020,
                2021,
                2022,
                2023,
                2024,
                2025,
                2026,
                2027,
                2028,
                2029,
                2030
               ]
              ],
              "y": [
               [
                2529957,
                2790807,
                2951953,
                3104403,
                3266206,
                3318580,
                3398968,
                3396695,
                3390913,
                3388081,
                3462231.99672886,
                3474878.5416767634,
                3487525.086624667,
                3500171.6315725707,
                3512818.176520478,
                3525464.7214683816,
                3538111.266416285
               ]
              ]
             },
             {
              "title": "<b>Population of Uruguay</b>",
              "title_text": "<b>Population of Uruguay</b>"
             }
            ],
            "label": "Uruguay",
            "method": "update"
           },
           {
            "args": [
             {
              "marker": [
               {
                "color": [
                 "blue",
                 "blue",
                 "blue",
                 "blue",
                 "blue",
                 "blue",
                 "blue",
                 "blue",
                 "blue",
                 "blue",
                 "red",
                 "red",
                 "red",
                 "red",
                 "red",
                 "red",
                 "red"
                ]
               }
              ],
              "x": [
               [
                1960,
                1970,
                1980,
                1990,
                2000,
                2010,
                2020,
                2021,
                2022,
                2023,
                2024,
                2025,
                2026,
                2027,
                2028,
                2029,
                2030
               ]
              ],
              "y": [
               [
                180671000,
                205052000,
                227225000,
                249623000,
                282162411,
                309327143,
                331526933,
                332048977,
                333271411,
                334914895,
                339809167.5469675,
                342318466.3398752,
                344827765.1327839,
                347337063.92569256,
                349846362.7186012,
                352355661.5115099,
                354864960.3044176
               ]
              ]
             },
             {
              "title": "<b>Population of United States</b>",
              "title_text": "<b>Population of United States</b>"
             }
            ],
            "label": "United States",
            "method": "update"
           },
           {
            "args": [
             {
              "marker": [
               {
                "color": [
                 "blue",
                 "blue",
                 "blue",
                 "blue",
                 "blue",
                 "blue",
                 "blue",
                 "blue",
                 "blue",
                 "blue",
                 "red",
                 "red",
                 "red",
                 "red",
                 "red",
                 "red",
                 "red"
                ]
               }
              ],
              "x": [
               [
                1960,
                1970,
                1980,
                1990,
                2000,
                2010,
                2020,
                2021,
                2022,
                2023,
                2024,
                2025,
                2026,
                2027,
                2028,
                2029,
                2030
               ]
              ],
              "y": [
               [
                8209109,
                11762638,
                15619936,
                20464956,
                24787054,
                28385506,
                33586372,
                34243696,
                34938955,
                35652307,
                35427507.1229707,
                35864492.951781034,
                36301478.78059125,
                36738464.60940158,
                37175450.4382118,
                37612436.26702213,
                38049422.09583235
               ]
              ]
             },
             {
              "title": "<b>Population of Uzbekistan</b>",
              "title_text": "<b>Population of Uzbekistan</b>"
             }
            ],
            "label": "Uzbekistan",
            "method": "update"
           },
           {
            "args": [
             {
              "marker": [
               {
                "color": [
                 "blue",
                 "blue",
                 "blue",
                 "blue",
                 "blue",
                 "blue",
                 "blue",
                 "blue",
                 "blue",
                 "blue",
                 "red",
                 "red",
                 "red",
                 "red",
                 "red",
                 "red",
                 "red"
                ]
               }
              ],
              "x": [
               [
                1960,
                1970,
                1980,
                1990,
                2000,
                2010,
                2020,
                2021,
                2022,
                2023,
                2024,
                2025,
                2026,
                2027,
                2028,
                2029,
                2030
               ]
              ],
              "y": [
               [
                84388,
                95964,
                104213,
                111812,
                113545,
                109959,
                103526,
                102841,
                102046,
                101323,
                107200.01409417659,
                107373.71549147891,
                107547.41688878124,
                107721.11828608351,
                107894.81968338584,
                108068.52108068817,
                108242.2224779905
               ]
              ]
             },
             {
              "title": "<b>Population of St. Vincent and the Grenadines</b>",
              "title_text": "<b>Population of St. Vincent and the Grenadines</b>"
             }
            ],
            "label": "St. Vincent and the Grenadines",
            "method": "update"
           },
           {
            "args": [
             {
              "marker": [
               {
                "color": [
                 "blue",
                 "blue",
                 "blue",
                 "blue",
                 "blue",
                 "blue",
                 "blue",
                 "blue",
                 "blue",
                 "blue",
                 "red",
                 "red",
                 "red",
                 "red",
                 "red",
                 "red",
                 "red"
                ]
               }
              ],
              "x": [
               [
                1960,
                1970,
                1980,
                1990,
                2000,
                2010,
                2020,
                2021,
                2022,
                2023,
                2024,
                2025,
                2026,
                2027,
                2028,
                2029,
                2030
               ]
              ],
              "y": [
               [
                8160090,
                11387790,
                15258218,
                19827010,
                24526708,
                28813101,
                28444077,
                28237826,
                28213017,
                28300854,
                30190136.71428001,
                30521008.33781612,
                30851879.96135223,
                31182751.58488822,
                31513623.20842433,
                31844494.83196032,
                32175366.45549643
               ]
              ]
             },
             {
              "title": "<b>Population of Venezuela, RB</b>",
              "title_text": "<b>Population of Venezuela, RB</b>"
             }
            ],
            "label": "Venezuela, RB",
            "method": "update"
           },
           {
            "args": [
             {
              "marker": [
               {
                "color": [
                 "blue",
                 "blue",
                 "blue",
                 "blue",
                 "blue",
                 "blue",
                 "blue",
                 "blue",
                 "blue",
                 "blue",
                 "red",
                 "red",
                 "red",
                 "red",
                 "red",
                 "red",
                 "red"
                ]
               }
              ],
              "x": [
               [
                1960,
                1970,
                1980,
                1990,
                2000,
                2010,
                2020,
                2021,
                2022,
                2023,
                2024,
                2025,
                2026,
                2027,
                2028,
                2029,
                2030
               ]
              ],
              "y": [
               [
                7950,
                9933,
                11130,
                15704,
                20241,
                27675,
                37135,
                37809,
                38319,
                38985,
                37571.170705112745,
                38107.36212745344,
                38643.55354979413,
                39179.744972134824,
                39715.93639447552,
                40252.12781681621,
                40788.3192391569
               ]
              ]
             },
             {
              "title": "<b>Population of British Virgin Islands</b>",
              "title_text": "<b>Population of British Virgin Islands</b>"
             }
            ],
            "label": "British Virgin Islands",
            "method": "update"
           },
           {
            "args": [
             {
              "marker": [
               {
                "color": [
                 "blue",
                 "blue",
                 "blue",
                 "blue",
                 "blue",
                 "blue",
                 "blue",
                 "blue",
                 "blue",
                 "blue",
                 "red",
                 "red",
                 "red",
                 "red",
                 "red",
                 "red",
                 "red"
                ]
               }
              ],
              "x": [
               [
                1960,
                1970,
                1980,
                1990,
                2000,
                2010,
                2020,
                2021,
                2022,
                2023,
                2024,
                2025,
                2026,
                2027,
                2028,
                2029,
                2030
               ]
              ],
              "y": [
               [
                32500,
                63476,
                99636,
                103963,
                108642,
                108357,
                106290,
                105870,
                105413,
                104917,
                115110.87206203048,
                115979.90780227771,
                116848.9435425247,
                117717.97928277194,
                118587.01502301916,
                119456.05076326616,
                120325.08650351339
               ]
              ]
             },
             {
              "title": "<b>Population of Virgin Islands (U.S.)</b>",
              "title_text": "<b>Population of Virgin Islands (U.S.)</b>"
             }
            ],
            "label": "Virgin Islands (U.S.)",
            "method": "update"
           },
           {
            "args": [
             {
              "marker": [
               {
                "color": [
                 "blue",
                 "blue",
                 "blue",
                 "blue",
                 "blue",
                 "blue",
                 "blue",
                 "blue",
                 "blue",
                 "blue",
                 "red",
                 "red",
                 "red",
                 "red",
                 "red",
                 "red",
                 "red"
                ]
               }
              ],
              "x": [
               [
                1960,
                1970,
                1980,
                1990,
                2000,
                2010,
                2020,
                2021,
                2022,
                2023,
                2024,
                2025,
                2026,
                2027,
                2028,
                2029,
                2030
               ]
              ],
              "y": [
               [
                32531933,
                41475230,
                52490101,
                65504552,
                77154011,
                87455152,
                98079191,
                98935098,
                99680655,
                100352192,
                102295918.2207818,
                103399611.11917448,
                104503304.01756716,
                105606996.91595984,
                106710689.81435251,
                107814382.71274519,
                108918075.61113787
               ]
              ]
             },
             {
              "title": "<b>Population of Viet Nam</b>",
              "title_text": "<b>Population of Viet Nam</b>"
             }
            ],
            "label": "Viet Nam",
            "method": "update"
           },
           {
            "args": [
             {
              "marker": [
               {
                "color": [
                 "blue",
                 "blue",
                 "blue",
                 "blue",
                 "blue",
                 "blue",
                 "blue",
                 "blue",
                 "blue",
                 "blue",
                 "red",
                 "red",
                 "red",
                 "red",
                 "red",
                 "red",
                 "red"
                ]
               }
              ],
              "x": [
               [
                1960,
                1970,
                1980,
                1990,
                2000,
                2010,
                2020,
                2021,
                2022,
                2023,
                2024,
                2025,
                2026,
                2027,
                2028,
                2029,
                2030
               ]
              ],
              "y": [
               [
                64431,
                86266,
                115660,
                148063,
                186281,
                238248,
                298858,
                305868,
                313046,
                320409,
                310739.93070026673,
                314962.3458929006,
                319184.76108553447,
                323407.17627816834,
                327629.5914708022,
                331852.00666343607,
                336074.42185606994
               ]
              ]
             },
             {
              "title": "<b>Population of Vanuatu</b>",
              "title_text": "<b>Population of Vanuatu</b>"
             }
            ],
            "label": "Vanuatu",
            "method": "update"
           },
           {
            "args": [
             {
              "marker": [
               {
                "color": [
                 "blue",
                 "blue",
                 "blue",
                 "blue",
                 "blue",
                 "blue",
                 "blue",
                 "blue",
                 "blue",
                 "blue",
                 "red",
                 "red",
                 "red",
                 "red",
                 "red",
                 "red",
                 "red"
                ]
               }
              ],
              "x": [
               [
                1960,
                1970,
                1980,
                1990,
                2000,
                2010,
                2020,
                2021,
                2022,
                2023,
                2024,
                2025,
                2026,
                2027,
                2028,
                2029,
                2030
               ]
              ],
              "y": [
               [
                3021529236,
                3680587906,
                4437602155,
                5299246388,
                6161884825.5,
                7000671233,
                7856138789.5,
                7921184346,
                7989981519.5,
                8061876001,
                8144507131.967285,
                8226533234.099121,
                8308559336.230988,
                8390585438.362854,
                8472611540.49469,
                8554637642.626556,
                8636663744.758423
               ]
              ]
             },
             {
              "title": "<b>Population of World</b>",
              "title_text": "<b>Population of World</b>"
             }
            ],
            "label": "World",
            "method": "update"
           },
           {
            "args": [
             {
              "marker": [
               {
                "color": [
                 "blue",
                 "blue",
                 "blue",
                 "blue",
                 "blue",
                 "blue",
                 "blue",
                 "blue",
                 "blue",
                 "blue",
                 "red",
                 "red",
                 "red",
                 "red",
                 "red",
                 "red",
                 "red"
                ]
               }
              ],
              "x": [
               [
                1960,
                1970,
                1980,
                1990,
                2000,
                2010,
                2020,
                2021,
                2022,
                2023,
                2024,
                2025,
                2026,
                2027,
                2028,
                2029,
                2030
               ]
              ],
              "y": [
               [
                112490,
                140400,
                164322,
                169042,
                181685,
                193023,
                211944,
                213779,
                215261,
                216663,
                218401.00658266712,
                219898.55193441594,
                221396.0972861643,
                222893.64263791312,
                224391.18798966147,
                225888.7333414103,
                227386.2786931591
               ]
              ]
             },
             {
              "title": "<b>Population of Samoa</b>",
              "title_text": "<b>Population of Samoa</b>"
             }
            ],
            "label": "Samoa",
            "method": "update"
           },
           {
            "args": [
             {
              "marker": [
               {
                "color": [
                 "blue",
                 "blue",
                 "blue",
                 "blue",
                 "blue",
                 "blue",
                 "blue",
                 "blue",
                 "blue",
                 "blue",
                 "red",
                 "red",
                 "red",
                 "red",
                 "red",
                 "red",
                 "red"
                ]
               }
              ],
              "x": [
               [
                1960,
                1970,
                1980,
                1990,
                2000,
                2010,
                2020,
                2021,
                2022,
                2023,
                2024,
                2025,
                2026,
                2027,
                2028,
                2029,
                2030
               ]
              ],
              "y": [
               [
                984846,
                1249555,
                1604818,
                1973790,
                1802493,
                1788743,
                1790152,
                1786080,
                1768096,
                1756366,
                1888857.0565786287,
                1898626.0384056233,
                1908395.0202326141,
                1918164.0020596087,
                1927932.9838866033,
                1937701.965713594,
                1947470.9475405887
               ]
              ]
             },
             {
              "title": "<b>Population of Kosovo</b>",
              "title_text": "<b>Population of Kosovo</b>"
             }
            ],
            "label": "Kosovo",
            "method": "update"
           },
           {
            "args": [
             {
              "marker": [
               {
                "color": [
                 "blue",
                 "blue",
                 "blue",
                 "blue",
                 "blue",
                 "blue",
                 "blue",
                 "blue",
                 "blue",
                 "blue",
                 "red",
                 "red",
                 "red",
                 "red",
                 "red",
                 "red",
                 "red"
                ]
               }
              ],
              "x": [
               [
                1960,
                1970,
                1980,
                1990,
                2000,
                2010,
                2020,
                2021,
                2022,
                2023,
                2024,
                2025,
                2026,
                2027,
                2028,
                2029,
                2030
               ]
              ],
              "y": [
               [
                5532301,
                7065279,
                9543358,
                13887862,
                19624141,
                26754387,
                36134863,
                37140230,
                38222876,
                39390799,
                37358475.70947409,
                37933429.2385509,
                38508382.767627716,
                39083336.29670453,
                39658289.825781345,
                40233243.35485816,
                40808196.883934975
               ]
              ]
             },
             {
              "title": "<b>Population of Yemen, Rep.</b>",
              "title_text": "<b>Population of Yemen, Rep.</b>"
             }
            ],
            "label": "Yemen, Rep.",
            "method": "update"
           },
           {
            "args": [
             {
              "marker": [
               {
                "color": [
                 "blue",
                 "blue",
                 "blue",
                 "blue",
                 "blue",
                 "blue",
                 "blue",
                 "blue",
                 "blue",
                 "blue",
                 "red",
                 "red",
                 "red",
                 "red",
                 "red",
                 "red",
                 "red"
                ]
               }
              ],
              "x": [
               [
                1960,
                1970,
                1980,
                1990,
                2000,
                2010,
                2020,
                2021,
                2022,
                2023,
                2024,
                2025,
                2026,
                2027,
                2028,
                2029,
                2030
               ]
              ],
              "y": [
               [
                16440172,
                22279984,
                29518857,
                40746268,
                47159719,
                52344051,
                60562381,
                61502603,
                62378410,
                63212384,
                63898541.19517827,
                64647887.846619844,
                65397234.49806166,
                66146581.14950347,
                66895927.80094504,
                67645274.45238686,
                68394621.10382867
               ]
              ]
             },
             {
              "title": "<b>Population of South Africa</b>",
              "title_text": "<b>Population of South Africa</b>"
             }
            ],
            "label": "South Africa",
            "method": "update"
           },
           {
            "args": [
             {
              "marker": [
               {
                "color": [
                 "blue",
                 "blue",
                 "blue",
                 "blue",
                 "blue",
                 "blue",
                 "blue",
                 "blue",
                 "blue",
                 "blue",
                 "red",
                 "red",
                 "red",
                 "red",
                 "red",
                 "red",
                 "red"
                ]
               }
              ],
              "x": [
               [
                1960,
                1970,
                1980,
                1990,
                2000,
                2010,
                2020,
                2021,
                2022,
                2023,
                2024,
                2025,
                2026,
                2027,
                2028,
                2029,
                2030
               ]
              ],
              "y": [
               [
                3153729,
                4321718,
                5802833,
                7786169,
                10017631,
                13965594,
                19059395,
                19603607,
                20152938,
                20723965,
                19615832.076205492,
                19909154.78834498,
                20202477.500484586,
                20495800.212624192,
                20789122.92476368,
                21082445.636903286,
                21375768.349042892
               ]
              ]
             },
             {
              "title": "<b>Population of Zambia</b>",
              "title_text": "<b>Population of Zambia</b>"
             }
            ],
            "label": "Zambia",
            "method": "update"
           },
           {
            "args": [
             {
              "marker": [
               {
                "color": [
                 "blue",
                 "blue",
                 "blue",
                 "blue",
                 "blue",
                 "blue",
                 "blue",
                 "blue",
                 "blue",
                 "blue",
                 "red",
                 "red",
                 "red",
                 "red",
                 "red",
                 "red",
                 "red"
                ]
               }
              ],
              "x": [
               [
                1960,
                1970,
                1980,
                1990,
                2000,
                2010,
                2020,
                2021,
                2022,
                2023,
                2024,
                2025,
                2026,
                2027,
                2028,
                2029,
                2030
               ]
              ],
              "y": [
               [
                3809389,
                5215918,
                7041303,
                10137281,
                11892055,
                13356548,
                15526888,
                15797210,
                16069056,
                16340822,
                16446661.681043565,
                16648629.49584043,
                16850597.310637295,
                17052565.12543416,
                17254532.940231025,
                17456500.75502789,
                17658468.569824755
               ]
              ]
             },
             {
              "title": "<b>Population of Zimbabwe</b>",
              "title_text": "<b>Population of Zimbabwe</b>"
             }
            ],
            "label": "Zimbabwe",
            "method": "update"
           }
          ],
          "direction": "down",
          "showactive": true,
          "x": 0.15,
          "xanchor": "left",
          "y": 1.15,
          "yanchor": "top"
         }
        ],
        "xaxis": {
         "anchor": "y",
         "domain": [
          0,
          1
         ],
         "title": {
          "text": "<b>Year</b>"
         }
        },
        "yaxis": {
         "anchor": "x",
         "domain": [
          0,
          1
         ],
         "title": {
          "text": "<b>Population</b>"
         }
        }
       }
      }
     },
     "metadata": {},
     "output_type": "display_data"
    }
   ],
   "source": [
    "# Plotting Trend Line\n",
    "\n",
    "\"\"\"\n",
    "\n",
    "cD = country Data\n",
    "sY = selected Years\n",
    "fY = future Years\n",
    "pP = predict Population\n",
    "fD = future Data\n",
    "\n",
    "\n",
    "\n",
    "\"\"\"\n",
    "\n",
    "\n",
    "\n",
    "\n",
    "def predictPopulation(country):\n",
    "    cD = populationData[populationData['Country Name'] == country].sort_values('Year')\n",
    "    cD = cD.sort_values('Year')\n",
    "\n",
    "    # Selecting the 10 year gap and the  last 3 years\n",
    "    sY =  list(range(1960, 2024, 10)) + [2020, 2021, 2022, 2023]\n",
    "    # print(\"SelectedYears:\", sY)\n",
    "    cD = cD[cD['Year'].isin(sY)]\n",
    "    # print(\"CountryData\",cD.head())\n",
    "    # Predicting the Population 2024 - 2040\n",
    "    XTrain = cD[\"Year\"].values.reshape(-1, 1)\n",
    "    yTrain = cD[\"Population\"].values\n",
    "    model = LinearRegression()\n",
    "    model.fit(XTrain,yTrain)\n",
    "    #Predict From - To\n",
    "    fY = np.array(range(2024, 2031)).reshape(-1,1)\n",
    "    pP= model.predict(fY)\n",
    "    # print(pP)\n",
    "\n",
    "    # appending the predicted Data into the data-set\n",
    "    fD = pd.DataFrame({'Year': fY.flatten(), 'Population':pP, \"Country Name\": country,  \"Predicted\": True})\n",
    "    cD[\"Predicted\"] = False\n",
    "    fD['Country Name'] = country\n",
    "    finalData = pd.concat([cD, fD])\n",
    "    # print(finalData\n",
    "\n",
    "    return finalData\n",
    "def plotPopulation():\n",
    "    countries = populationData['Country Name'].unique()\n",
    "    totalData = pd.concat([predictPopulation(country) for country in countries])\n",
    "    initialCountry = countries[0]\n",
    "    initialData = totalData[totalData[\"Country Name\"] == initialCountry]\n",
    "    # Plotting Line Chart\n",
    "    fig = px.line(initialData, x='Year', y='Population', title = f\"<b>Population of {initialCountry}</b>\", markers=True, labels={\"Population\": \"<b>Population</b>\", \"Year\": \"<b>Year</b>\"},color_discrete_map={False: \"blue\", True: \"red\"}, line_group=\"Predicted\")\n",
    "    fig.update_traces(hoverinfo=\"x+y\", mode=\"lines+markers\")\n",
    "    # DropDown to Select Country\n",
    "    dropDownButtons = [\n",
    "        {\"label\": c, \"method\": \"update\", \"args\": \n",
    "            [{\"x\": [totalData[totalData[\"Country Name\"] == c][\"Year\"]],\n",
    "               \"y\": [totalData[totalData[\"Country Name\"] == c][\"Population\"]],\n",
    "                \"marker\": [{\"color\": totalData[totalData[\"Country Name\"] == c][\"Predicted\"].map({True: \"red\", False: \"blue\"})}]},\n",
    "             {\"title\": f\"<b>Population of {c}</b>\", \"title_text\": f\"<b>Population of {c}</b>\"}]\n",
    "        } for c in countries\n",
    "    ]\n",
    "    fig.update_layout(\n",
    "        updatemenus=[{\n",
    "            \"buttons\": dropDownButtons,\n",
    "            \"direction\": \"down\",\n",
    "            \"showactive\": True,\n",
    "            \"x\": 0.15,\n",
    "            \"xanchor\": \"left\",\n",
    "            \"y\": 1.15,\n",
    "            \"yanchor\": \"top\",\n",
    "        }],\n",
    "        title_text=f\"<b>Population of {initialCountry}</b>\",\n",
    "        title_x=0.5,\n",
    "        title_xanchor=\"center\"\n",
    "        \n",
    "    )\n",
    "    fig.show()\n",
    "    # fig.write_html(\"population.html\")\n",
    "    fig.write_json(\"population.json\")\n",
    "\n",
    "\n",
    "\n",
    "plotPopulation()\n"
   ]
  }
 ],
 "metadata": {
  "kernelspec": {
   "display_name": "Python 3",
   "language": "python",
   "name": "python3"
  },
  "language_info": {
   "codemirror_mode": {
    "name": "ipython",
    "version": 3
   },
   "file_extension": ".py",
   "mimetype": "text/x-python",
   "name": "python",
   "nbconvert_exporter": "python",
   "pygments_lexer": "ipython3",
   "version": "3.13.2"
  }
 },
 "nbformat": 4,
 "nbformat_minor": 2
}
