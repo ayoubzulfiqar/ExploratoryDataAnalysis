{
 "cells": [
  {
   "cell_type": "code",
   "execution_count": null,
   "metadata": {},
   "outputs": [],
   "source": [
    "import numpy as np\n",
    "import pandas as pd\n",
    "import matplotlib as mlt\n",
    "from scipy import stats"
   ]
  },
  {
   "cell_type": "code",
   "execution_count": null,
   "metadata": {},
   "outputs": [],
   "source": [
    "populationData = pd.read_csv(\"E:/Projects/python/EDA/GlobalMatrices/Population/population.csv\")"
   ]
  },
  {
   "cell_type": "markdown",
   "metadata": {},
   "source": [
    "#### Data Processing and Cleaning"
   ]
  },
  {
   "cell_type": "code",
   "execution_count": null,
   "metadata": {},
   "outputs": [],
   "source": [
    "# Checking if Our Data contain missing values\n",
    "\n",
    "def findMissing():\n",
    "    years =populationData['Year']\n",
    "    values = populationData['Value']\n",
    "    if years.isna().any() or values.isna().any():\n",
    "      years = years.fillna(method='ffill')\n",
    "      values = values.fillna(method='bfill')\n",
    "\n",
    "\n",
    "\n",
    "\n",
    "\n",
    "def detectOutliers(threshold=3):\n",
    "    years =populationData['Year']\n",
    "    values = populationData['Value']\n",
    "    yearsZScores = np.abs(stats.zscore(years))\n",
    "    valueZScores =np.abs(stats.zscore(values))\n",
    "    yOutliers = (yearsZScores > threshold)\n",
    "    vOutliers = ( valueZScores > threshold)\n",
    "    years[~yOutliers]\n",
    "    values[~vOutliers]\n",
    "\n",
    "findMissing()\n",
    "detectOutliers()\n",
    "\n",
    "# Format \n",
    "\n",
    "def formatNumber(n):\n",
    "    if n >= 1_000_000_000:  # Billions\n",
    "        return f\"{n / 1_000_000_000:.0f}B\"\n",
    "    elif n >= 1_000_000:  # Millions\n",
    "        return f\"{n / 1_000_000:.0f}M\"\n",
    "    elif n >= 100_000:  # Hundred Thousands\n",
    "        return f\"{n / 1_000:.0f}Th\"\n",
    "    elif n >= 1_000:  # Thousands\n",
    "        return f\"{n / 1_000:.0f}K\"\n",
    "    else:  # Less than 1,000\n",
    "        return n\n"
   ]
  },
  {
   "cell_type": "markdown",
   "metadata": {},
   "source": [
    "### Increase in the Population in after every 10 years across each county and Linear representation"
   ]
  },
  {
   "cell_type": "code",
   "execution_count": null,
   "metadata": {},
   "outputs": [],
   "source": [
    "# Ensuring Correct Columns\n",
    "\n",
    "\n",
    "populationData.columns = populationData.columns.str.strip()\n",
    "\n",
    "# Converting and ensuring to make it numeric\n",
    "populationData['Year'] = pd.to_numeric(populationData['Year'])\n",
    "\n",
    "# Total Population Increase\n",
    "firstYear = populationData[populationData['Year']==1960].set_index('Country Name')['Value']\n",
    "lastYear = populationData[populationData['Year']==2023].set_index('Country Name')['Value']\n",
    "\n",
    "\n",
    "totalPopulationChange = pd.DataFrame({'Population-1960': firstYear, 'Population-2023': lastYear}).reset_index()\n",
    "\n",
    "\n",
    "# Total increase\n",
    "totalPopulationChange['Total Increase'] = totalPopulationChange['Population-2023'] - totalPopulationChange['Population-1960']\n",
    "\n",
    "# Percentage Increase\n",
    "totalPopulationChange['Growth Rate'] = (totalPopulationChange['Total Increase'] / totalPopulationChange['Population-1960'])\n",
    "\n",
    "\n",
    "\n",
    "\n",
    "# Formatting Data\n",
    "totalPopulationChange['Growth Rate']= totalPopulationChange['Growth Rate'].apply(lambda x: f\"{x:.1f}%\")\n",
    "\n",
    "\n",
    "\n",
    "print(\"\\nTotal Population Change (1960-2023):\")\n",
    "print(totalPopulationChange)\n",
    "\n"
   ]
  }
 ],
 "metadata": {
  "kernelspec": {
   "display_name": "Python 3",
   "language": "python",
   "name": "python3"
  },
  "language_info": {
   "codemirror_mode": {
    "name": "ipython",
    "version": 3
   },
   "file_extension": ".py",
   "mimetype": "text/x-python",
   "name": "python",
   "nbconvert_exporter": "python",
   "pygments_lexer": "ipython3",
   "version": "3.13.2"
  }
 },
 "nbformat": 4,
 "nbformat_minor": 2
}
