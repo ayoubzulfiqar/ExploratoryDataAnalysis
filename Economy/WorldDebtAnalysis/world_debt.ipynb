{
 "cells": [
  {
   "cell_type": "markdown",
   "metadata": {},
   "source": [
    "# **International Debt Statistics Analysis**"
   ]
  },
  {
   "cell_type": "markdown",
   "metadata": {},
   "source": [
    "Analysis of National Debt Growth of each Country by Years"
   ]
  },
  {
   "cell_type": "code",
   "execution_count": 1,
   "metadata": {},
   "outputs": [],
   "source": [
    "import pandas as pd\n"
   ]
  },
  {
   "cell_type": "code",
   "execution_count": 5,
   "metadata": {},
   "outputs": [
    {
     "name": "stdout",
     "output_type": "stream",
     "text": [
      "54\n"
     ]
    }
   ],
   "source": [
    "\"\"\"\n",
    "\n",
    "Reading Excel File is far slower than CSV so convert it to CSV for faster Data Execution and Reading\n",
    "Because When you Download data from the website it will be xlsx file Which you can read as you like \n",
    "\n",
    "def convertExcelToCSV():\n",
    "    path=\"E:/Projects/python/EDA/Economy/WorldDebt/WorldDebt-2024.xlsx\"\n",
    "    data =pd.read_excel(path, engine='openpyxl')\n",
    "    data.to_csv(\"WorldDebt-2024.csv\", index=False)\n",
    "\"\"\"\n",
    "\n",
    "\n",
    "\n",
    "\n",
    "\n",
    "\n",
    "\n",
    "FILEPATH =\"E:/Projects/python/EDA/Economy/WorldDebt/WorldDebt-2024.csv\"\n",
    "dataframe = pd.read_csv(FILEPATH)"
   ]
  },
  {
   "cell_type": "markdown",
   "metadata": {},
   "source": [
    "### **Data Cleaning && Data Processing**"
   ]
  }
 ],
 "metadata": {
  "kernelspec": {
   "display_name": "Python 3",
   "language": "python",
   "name": "python3"
  },
  "language_info": {
   "codemirror_mode": {
    "name": "ipython",
    "version": 3
   },
   "file_extension": ".py",
   "mimetype": "text/x-python",
   "name": "python",
   "nbconvert_exporter": "python",
   "pygments_lexer": "ipython3",
   "version": "3.13.2"
  }
 },
 "nbformat": 4,
 "nbformat_minor": 2
}
